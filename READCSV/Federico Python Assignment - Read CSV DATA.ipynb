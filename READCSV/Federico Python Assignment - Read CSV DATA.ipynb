{
 "cells": [
  {
   "cell_type": "code",
   "execution_count": 75,
   "metadata": {},
   "outputs": [
    {
     "data": {
      "text/plain": [
       "25.5"
      ]
     },
     "execution_count": 75,
     "metadata": {},
     "output_type": "execute_result"
    }
   ],
   "source": [
    "#1\n",
    "def fill_age(value):\n",
    "    if len(value) == 0: \n",
    "        return -1\n",
    "    return float(value)\n",
    "\n",
    "fill_age('25.5')"
   ]
  },
  {
   "cell_type": "code",
   "execution_count": 76,
   "metadata": {},
   "outputs": [
    {
     "data": {
      "text/plain": [
       "['Hi', 'iam', 'Federico', 'Chiari', '23', '23', '23']"
      ]
     },
     "execution_count": 76,
     "metadata": {},
     "output_type": "execute_result"
    }
   ],
   "source": [
    "#2\n",
    "def split_raw_fields(line):\n",
    "    result = line.split(',')\n",
    "    result_list = []\n",
    "    for word in result:\n",
    "        result_list.append(word.strip())\n",
    "    return result_list\n",
    "\n",
    "split_raw_fields('Hi,iam,     Federico ,  Chiari   ,23,23,      23')"
   ]
  },
  {
   "cell_type": "code",
   "execution_count": 77,
   "metadata": {},
   "outputs": [
    {
     "data": {
      "text/plain": [
       "{'Uno': 1123, 'Dos': 'Switzerland', 'Tres': 2, 'Cuatro': 3}"
      ]
     },
     "execution_count": 77,
     "metadata": {},
     "output_type": "execute_result"
    }
   ],
   "source": [
    "#3\n",
    "def building_record(fields: tuple, header: list):\n",
    "    res = {}\n",
    "    for i in range(len(header)):\n",
    "        res.update({header[i]: fields[i]})\n",
    "    return res\n",
    "\n",
    "building_record((1123,'Switzerland',2,3),['Uno','Dos','Tres','Cuatro'])"
   ]
  },
  {
   "cell_type": "code",
   "execution_count": 16,
   "metadata": {},
   "outputs": [
    {
     "data": {
      "text/plain": [
       "(1,\n",
       " False,\n",
       " 3,\n",
       " 'Mr. Owen Harris',\n",
       " 'male',\n",
       " 22.0,\n",
       " 1,\n",
       " 0,\n",
       " 'A/5 21171',\n",
       " 7.25,\n",
       " '',\n",
       " 'S')"
      ]
     },
     "execution_count": 16,
     "metadata": {},
     "output_type": "execute_result"
    }
   ],
   "source": [
    "#4\n",
    "def extracting_fields(line):\n",
    "    res = []\n",
    "    raw_fields = split_raw_fields(line)\n",
    "    res.append(int(raw_fields[0]))\n",
    "    res.append(bool(int(raw_fields[1])))\n",
    "    res.append(int(raw_fields[2]))\n",
    "    res.append(raw_fields[3])\n",
    "    res.append(raw_fields[4])\n",
    "    res.append(fill_age(raw_fields[5]))\n",
    "    res.append(int(raw_fields[6]))\n",
    "    res.append(int(raw_fields[7]))\n",
    "    res.append(raw_fields[8])\n",
    "    res.append(float(raw_fields[9]))\n",
    "    res.append(raw_fields[10])\n",
    "    res.append(raw_fields[11])\n",
    "    return tuple(res)\n",
    "\n",
    "extracting_fields(\"1,0,3,Mr. Owen Harris,male,22.0,1,0,A/5 21171,7.25,,S\")"
   ]
  },
  {
   "cell_type": "code",
   "execution_count": 79,
   "metadata": {},
   "outputs": [
    {
     "data": {
      "text/plain": [
       "{'PassengerId': 1,\n",
       " 'Survived': False,\n",
       " 'Pclass': 3,\n",
       " 'Name': 'Mr. Owen Harris',\n",
       " 'Sex': 'male',\n",
       " 'Age': 22.0,\n",
       " 'SibSp': 1,\n",
       " 'Parch': 0,\n",
       " 'Ticket': 'A/5 21171',\n",
       " 'Fare': 7.25,\n",
       " 'Cabin': '',\n",
       " 'Embarked': 'S'}"
      ]
     },
     "execution_count": 79,
     "metadata": {},
     "output_type": "execute_result"
    }
   ],
   "source": [
    "#5\n",
    "def read_data(file):\n",
    "    res = []\n",
    "    files_lines = file.readlines()\n",
    "    for line in files_lines:\n",
    "        if files_lines.index(line) == 0:\n",
    "            header = line\n",
    "        else:\n",
    "            res.append(extracting_fields(line))\n",
    "    list_of_records=[]\n",
    "    for i in res:\n",
    "        list_of_records.append(building_record(i,split_raw_fields(header)))\n",
    "    return list_of_records\n",
    "    \n",
    "    \n",
    "with open('titanic.csv') as fh:\n",
    "    titanic_data = read_data(fh)\n",
    "titanic_data[0]"
   ]
  },
  {
   "cell_type": "code",
   "execution_count": 129,
   "metadata": {},
   "outputs": [
    {
     "data": {
      "text/plain": [
       "28.11111111111111"
      ]
     },
     "execution_count": 129,
     "metadata": {},
     "output_type": "execute_result"
    }
   ],
   "source": [
    "def mean_calculator (titanic_records):\n",
    "    records = titanic_records\n",
    "    ages = []\n",
    "    for rec in records:\n",
    "        #Since in the first 10 records we have 1 unknown value, our ages list is going to be 9 records.\n",
    "        if len(ages) >= 9:\n",
    "            break\n",
    "        if rec['Age'] > -1:\n",
    "            ages.append(rec['Age'])\n",
    "    return sum(ages)/9\n",
    "\n",
    "with open ('titanic.csv') as data:\n",
    "    data_records = read_data(data)\n",
    "mean_calculator(data_records)"
   ]
  },
  {
   "cell_type": "code",
   "execution_count": 82,
   "metadata": {},
   "outputs": [
    {
     "name": "stdout",
     "output_type": "stream",
     "text": [
      "C:\\Users\\chiar\\titanic.csv\n"
     ]
    }
   ],
   "source": [
    "from pathlib import Path\n",
    "\n",
    "fpath = Path('titanic.csv').absolute()\n",
    "\n",
    "print(fpath)"
   ]
  },
  {
   "cell_type": "code",
   "execution_count": null,
   "metadata": {},
   "outputs": [],
   "source": []
  }
 ],
 "metadata": {
  "kernelspec": {
   "display_name": "Python 3",
   "language": "python",
   "name": "python3"
  },
  "language_info": {
   "codemirror_mode": {
    "name": "ipython",
    "version": 3
   },
   "file_extension": ".py",
   "mimetype": "text/x-python",
   "name": "python",
   "nbconvert_exporter": "python",
   "pygments_lexer": "ipython3",
   "version": "3.8.2"
  }
 },
 "nbformat": 4,
 "nbformat_minor": 4
}
