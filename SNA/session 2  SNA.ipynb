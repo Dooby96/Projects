{
 "cells": [
  {
   "cell_type": "markdown",
   "metadata": {},
   "source": [
    "# 1. Networks in igraph\n",
    "\n",
    "**igraph** is a collection of network analysis tools with the emphasis on efficiency, portability and ease of use. igraph is open source and free. igraph can be programmed in R, Python, Mathematica and C/C++. Lessons will cover the igraph python package but feel free to investigate on your own the python package. \n",
    "\n",
    "To install the package you just need to follow this instructions: https://igraph.org/python/doc/tutorial/install.html#installing-igraph-from-the-python-package-index\n",
    "\n",
    "\n",
    "You have the doc for this package here: https://igraph.org/python/doc/api/igraph._igraph.GraphBase.html\n",
    "\n",
    "# 1.1 Create networks\n",
    "\n",
    "First let's install and load the package in order to start from an empty environment."
   ]
  },
  {
   "cell_type": "code",
   "execution_count": 2,
   "metadata": {},
   "outputs": [],
   "source": [
    "from igraph import *\n",
    "import cairo\n",
    "import pandas as pd"
   ]
  },
  {
   "cell_type": "markdown",
   "metadata": {},
   "source": [
    "We can generate graphs using the graph function of igraph. It receives the following arguments:\n",
    "\n",
    "* Edges (A vector defining the edges)\n",
    "* n (The number of vertices in the graph)\n",
    "* isolates (names of isolate vertices)\n",
    "* directed (Whether to create a directed graph)\n",
    "* simplify (whether to simplify the graph)\n",
    "\n",
    "Let's start with the simplest one: an undirected graph with three edges.\n",
    "Undirected graphs are for symmetric relationships."
   ]
  },
  {
   "cell_type": "code",
   "execution_count": 3,
   "metadata": {},
   "outputs": [],
   "source": [
    "g1 = Graph(edges=[[0,1], [1,2], [2,0]])"
   ]
  },
  {
   "cell_type": "code",
   "execution_count": 4,
   "metadata": {},
   "outputs": [
    {
     "data": {
      "image/svg+xml": [
       "<?xml version=\"1.0\" encoding=\"UTF-8\"?>\n",
       "<svg xmlns=\"http://www.w3.org/2000/svg\" xmlns:xlink=\"http://www.w3.org/1999/xlink\" width=\"300pt\" height=\"200pt\" viewBox=\"0 0 300 200\" version=\"1.1\">\n",
       "<g id=\"surface2\">\n",
       "<rect x=\"0\" y=\"0\" width=\"300\" height=\"200\" style=\"fill:rgb(100%,100%,100%);fill-opacity:1;stroke:none;\"/>\n",
       "<path style=\"fill:none;stroke-width:1;stroke-linecap:butt;stroke-linejoin:miter;stroke:rgb(26.666667%,26.666667%,26.666667%);stroke-opacity:1;stroke-miterlimit:10;\" d=\"M 280 100 L 20 180 \"/>\n",
       "<path style=\"fill:none;stroke-width:1;stroke-linecap:butt;stroke-linejoin:miter;stroke:rgb(26.666667%,26.666667%,26.666667%);stroke-opacity:1;stroke-miterlimit:10;\" d=\"M 20 180 L 20 20 \"/>\n",
       "<path style=\"fill:none;stroke-width:1;stroke-linecap:butt;stroke-linejoin:miter;stroke:rgb(26.666667%,26.666667%,26.666667%);stroke-opacity:1;stroke-miterlimit:10;\" d=\"M 280 100 L 20 20 \"/>\n",
       "<path style=\"fill-rule:nonzero;fill:rgb(100%,0%,0%);fill-opacity:1;stroke-width:1;stroke-linecap:butt;stroke-linejoin:miter;stroke:rgb(0%,0%,0%);stroke-opacity:1;stroke-miterlimit:10;\" d=\"M 290 100 C 290 105.523438 285.523438 110 280 110 C 274.476563 110 270 105.523438 270 100 C 270 94.476563 274.476563 90 280 90 C 285.523438 90 290 94.476563 290 100 \"/>\n",
       "<path style=\"fill-rule:nonzero;fill:rgb(100%,0%,0%);fill-opacity:1;stroke-width:1;stroke-linecap:butt;stroke-linejoin:miter;stroke:rgb(0%,0%,0%);stroke-opacity:1;stroke-miterlimit:10;\" d=\"M 30 180 C 30 185.523438 25.523438 190 20 190 C 14.476563 190 10 185.523438 10 180 C 10 174.476563 14.476563 170 20 170 C 25.523438 170 30 174.476563 30 180 \"/>\n",
       "<path style=\"fill-rule:nonzero;fill:rgb(100%,0%,0%);fill-opacity:1;stroke-width:1;stroke-linecap:butt;stroke-linejoin:miter;stroke:rgb(0%,0%,0%);stroke-opacity:1;stroke-miterlimit:10;\" d=\"M 30 20 C 30 25.523438 25.523438 30 20 30 C 14.476563 30 10 25.523438 10 20 C 10 14.476563 14.476563 10 20 10 C 25.523438 10 30 14.476563 30 20 \"/>\n",
       "</g>\n",
       "</svg>\n"
      ],
      "text/plain": [
       "<igraph.drawing.Plot at 0x28a961ed850>"
      ]
     },
     "execution_count": 4,
     "metadata": {
      "image/svg+xml": {
       "isolated": true
      }
     },
     "output_type": "execute_result"
    }
   ],
   "source": [
    "plot(g1,bbox=(300, 200))"
   ]
  },
  {
   "cell_type": "markdown",
   "metadata": {},
   "source": [
    "You can obtain more information about the graph executing class and executing print(g1). \n",
    "\n",
    "The description of an igraph object starts with up to four letters:\n",
    "\n",
    "1. D or U, for a directed or undirected graph: if either they have symmetrical or asymmetrical relations\n",
    "2. N for a named graph (where nodes have a name attribute)\n",
    "3. W for a weighted graph (where edges have a weight attribute): when each connection does not have the same importance\n",
    "4. B for a bipartite (two-mode) graph (where nodes have a type attribute)\n",
    "\n",
    "The two numbers that follow (7 5) refer to the number of nodes and edges in the graph. The description also lists node & edge attributes, for example:\n",
    "\n",
    "* (g/c) - graph-level character attribute\n",
    "* (v/c) - vertex-level character attribute\n",
    "* (e/n) - edge-level numeric attribute"
   ]
  },
  {
   "cell_type": "code",
   "execution_count": 5,
   "metadata": {},
   "outputs": [
    {
     "name": "stdout",
     "output_type": "stream",
     "text": [
      "IGRAPH U--- 3 3 --\n",
      "+ edges:\n",
      "0--1 1--2 0--2\n"
     ]
    }
   ],
   "source": [
    "print(g1)"
   ]
  },
  {
   "cell_type": "markdown",
   "metadata": {},
   "source": [
    "Now, do you think you can create a graph with 10 nodes?"
   ]
  },
  {
   "cell_type": "code",
   "execution_count": 6,
   "metadata": {
    "scrolled": true
   },
   "outputs": [
    {
     "data": {
      "image/svg+xml": [
       "<?xml version=\"1.0\" encoding=\"UTF-8\"?>\n",
       "<svg xmlns=\"http://www.w3.org/2000/svg\" xmlns:xlink=\"http://www.w3.org/1999/xlink\" width=\"300pt\" height=\"200pt\" viewBox=\"0 0 300 200\" version=\"1.1\">\n",
       "<g id=\"surface8\">\n",
       "<rect x=\"0\" y=\"0\" width=\"300\" height=\"200\" style=\"fill:rgb(100%,100%,100%);fill-opacity:1;stroke:none;\"/>\n",
       "<path style=\"fill:none;stroke-width:1;stroke-linecap:butt;stroke-linejoin:miter;stroke:rgb(26.666667%,26.666667%,26.666667%);stroke-opacity:1;stroke-miterlimit:10;\" d=\"M 280 100.625 L 146.175781 99.867188 \"/>\n",
       "<path style=\"fill:none;stroke-width:1;stroke-linecap:butt;stroke-linejoin:miter;stroke:rgb(26.666667%,26.666667%,26.666667%);stroke-opacity:1;stroke-miterlimit:10;\" d=\"M 146.175781 99.867188 L 170.640625 20 \"/>\n",
       "<path style=\"fill:none;stroke-width:1;stroke-linecap:butt;stroke-linejoin:miter;stroke:rgb(26.666667%,26.666667%,26.666667%);stroke-opacity:1;stroke-miterlimit:10;\" d=\"M 170.640625 20 L 78.191406 169.84375 \"/>\n",
       "<path style=\"fill:none;stroke-width:1;stroke-linecap:butt;stroke-linejoin:miter;stroke:rgb(26.666667%,26.666667%,26.666667%);stroke-opacity:1;stroke-miterlimit:10;\" d=\"M 146.175781 99.867188 L 78.191406 169.84375 \"/>\n",
       "<path style=\"fill:none;stroke-width:1;stroke-linecap:butt;stroke-linejoin:miter;stroke:rgb(26.666667%,26.666667%,26.666667%);stroke-opacity:1;stroke-miterlimit:10;\" d=\"M 280 100.625 L 78.191406 169.84375 \"/>\n",
       "<path style=\"fill:none;stroke-width:1;stroke-linecap:butt;stroke-linejoin:miter;stroke:rgb(26.666667%,26.666667%,26.666667%);stroke-opacity:1;stroke-miterlimit:10;\" d=\"M 280 100.625 L 170.640625 20 \"/>\n",
       "<path style=\"fill:none;stroke-width:1;stroke-linecap:butt;stroke-linejoin:miter;stroke:rgb(26.666667%,26.666667%,26.666667%);stroke-opacity:1;stroke-miterlimit:10;\" d=\"M 280 100.625 L 20 126.945313 \"/>\n",
       "<path style=\"fill:none;stroke-width:1;stroke-linecap:butt;stroke-linejoin:miter;stroke:rgb(26.666667%,26.666667%,26.666667%);stroke-opacity:1;stroke-miterlimit:10;\" d=\"M 146.175781 99.867188 L 20 126.945313 \"/>\n",
       "<path style=\"fill:none;stroke-width:1;stroke-linecap:butt;stroke-linejoin:miter;stroke:rgb(26.666667%,26.666667%,26.666667%);stroke-opacity:1;stroke-miterlimit:10;\" d=\"M 170.640625 20 L 20 126.945313 \"/>\n",
       "<path style=\"fill:none;stroke-width:1;stroke-linecap:butt;stroke-linejoin:miter;stroke:rgb(26.666667%,26.666667%,26.666667%);stroke-opacity:1;stroke-miterlimit:10;\" d=\"M 78.191406 169.84375 L 20 126.945313 \"/>\n",
       "<path style=\"fill:none;stroke-width:1;stroke-linecap:butt;stroke-linejoin:miter;stroke:rgb(26.666667%,26.666667%,26.666667%);stroke-opacity:1;stroke-miterlimit:10;\" d=\"M 280 100.625 L 20.851563 71.375 \"/>\n",
       "<path style=\"fill:none;stroke-width:1;stroke-linecap:butt;stroke-linejoin:miter;stroke:rgb(26.666667%,26.666667%,26.666667%);stroke-opacity:1;stroke-miterlimit:10;\" d=\"M 146.175781 99.867188 L 20.851563 71.375 \"/>\n",
       "<path style=\"fill:none;stroke-width:1;stroke-linecap:butt;stroke-linejoin:miter;stroke:rgb(26.666667%,26.666667%,26.666667%);stroke-opacity:1;stroke-miterlimit:10;\" d=\"M 170.640625 20 L 20.851563 71.375 \"/>\n",
       "<path style=\"fill:none;stroke-width:1;stroke-linecap:butt;stroke-linejoin:miter;stroke:rgb(26.666667%,26.666667%,26.666667%);stroke-opacity:1;stroke-miterlimit:10;\" d=\"M 78.191406 169.84375 L 20.851563 71.375 \"/>\n",
       "<path style=\"fill:none;stroke-width:1;stroke-linecap:butt;stroke-linejoin:miter;stroke:rgb(26.666667%,26.666667%,26.666667%);stroke-opacity:1;stroke-miterlimit:10;\" d=\"M 20 126.945313 L 20.851563 71.375 \"/>\n",
       "<path style=\"fill:none;stroke-width:1;stroke-linecap:butt;stroke-linejoin:miter;stroke:rgb(26.666667%,26.666667%,26.666667%);stroke-opacity:1;stroke-miterlimit:10;\" d=\"M 280 100.625 L 80.34375 29.140625 \"/>\n",
       "<path style=\"fill:none;stroke-width:1;stroke-linecap:butt;stroke-linejoin:miter;stroke:rgb(26.666667%,26.666667%,26.666667%);stroke-opacity:1;stroke-miterlimit:10;\" d=\"M 146.175781 99.867188 L 80.34375 29.140625 \"/>\n",
       "<path style=\"fill:none;stroke-width:1;stroke-linecap:butt;stroke-linejoin:miter;stroke:rgb(26.666667%,26.666667%,26.666667%);stroke-opacity:1;stroke-miterlimit:10;\" d=\"M 170.640625 20 L 80.34375 29.140625 \"/>\n",
       "<path style=\"fill:none;stroke-width:1;stroke-linecap:butt;stroke-linejoin:miter;stroke:rgb(26.666667%,26.666667%,26.666667%);stroke-opacity:1;stroke-miterlimit:10;\" d=\"M 78.191406 169.84375 L 80.34375 29.140625 \"/>\n",
       "<path style=\"fill:none;stroke-width:1;stroke-linecap:butt;stroke-linejoin:miter;stroke:rgb(26.666667%,26.666667%,26.666667%);stroke-opacity:1;stroke-miterlimit:10;\" d=\"M 20 126.945313 L 80.34375 29.140625 \"/>\n",
       "<path style=\"fill:none;stroke-width:1;stroke-linecap:butt;stroke-linejoin:miter;stroke:rgb(26.666667%,26.666667%,26.666667%);stroke-opacity:1;stroke-miterlimit:10;\" d=\"M 20.851563 71.375 L 80.34375 29.140625 \"/>\n",
       "<path style=\"fill:none;stroke-width:1;stroke-linecap:butt;stroke-linejoin:miter;stroke:rgb(26.666667%,26.666667%,26.666667%);stroke-opacity:1;stroke-miterlimit:10;\" d=\"M 280 100.625 L 249.492188 48.230469 \"/>\n",
       "<path style=\"fill:none;stroke-width:1;stroke-linecap:butt;stroke-linejoin:miter;stroke:rgb(26.666667%,26.666667%,26.666667%);stroke-opacity:1;stroke-miterlimit:10;\" d=\"M 146.175781 99.867188 L 249.492188 48.230469 \"/>\n",
       "<path style=\"fill:none;stroke-width:1;stroke-linecap:butt;stroke-linejoin:miter;stroke:rgb(26.666667%,26.666667%,26.666667%);stroke-opacity:1;stroke-miterlimit:10;\" d=\"M 170.640625 20 L 249.492188 48.230469 \"/>\n",
       "<path style=\"fill:none;stroke-width:1;stroke-linecap:butt;stroke-linejoin:miter;stroke:rgb(26.666667%,26.666667%,26.666667%);stroke-opacity:1;stroke-miterlimit:10;\" d=\"M 78.191406 169.84375 L 249.492188 48.230469 \"/>\n",
       "<path style=\"fill:none;stroke-width:1;stroke-linecap:butt;stroke-linejoin:miter;stroke:rgb(26.666667%,26.666667%,26.666667%);stroke-opacity:1;stroke-miterlimit:10;\" d=\"M 20 126.945313 L 249.492188 48.230469 \"/>\n",
       "<path style=\"fill:none;stroke-width:1;stroke-linecap:butt;stroke-linejoin:miter;stroke:rgb(26.666667%,26.666667%,26.666667%);stroke-opacity:1;stroke-miterlimit:10;\" d=\"M 20.851563 71.375 L 249.492188 48.230469 \"/>\n",
       "<path style=\"fill:none;stroke-width:1;stroke-linecap:butt;stroke-linejoin:miter;stroke:rgb(26.666667%,26.666667%,26.666667%);stroke-opacity:1;stroke-miterlimit:10;\" d=\"M 80.34375 29.140625 L 249.492188 48.230469 \"/>\n",
       "<path style=\"fill:none;stroke-width:1;stroke-linecap:butt;stroke-linejoin:miter;stroke:rgb(26.666667%,26.666667%,26.666667%);stroke-opacity:1;stroke-miterlimit:10;\" d=\"M 280 100.625 L 247.890625 152.664063 \"/>\n",
       "<path style=\"fill:none;stroke-width:1;stroke-linecap:butt;stroke-linejoin:miter;stroke:rgb(26.666667%,26.666667%,26.666667%);stroke-opacity:1;stroke-miterlimit:10;\" d=\"M 146.175781 99.867188 L 247.890625 152.664063 \"/>\n",
       "<path style=\"fill:none;stroke-width:1;stroke-linecap:butt;stroke-linejoin:miter;stroke:rgb(26.666667%,26.666667%,26.666667%);stroke-opacity:1;stroke-miterlimit:10;\" d=\"M 170.640625 20 L 247.890625 152.664063 \"/>\n",
       "<path style=\"fill:none;stroke-width:1;stroke-linecap:butt;stroke-linejoin:miter;stroke:rgb(26.666667%,26.666667%,26.666667%);stroke-opacity:1;stroke-miterlimit:10;\" d=\"M 78.191406 169.84375 L 247.890625 152.664063 \"/>\n",
       "<path style=\"fill:none;stroke-width:1;stroke-linecap:butt;stroke-linejoin:miter;stroke:rgb(26.666667%,26.666667%,26.666667%);stroke-opacity:1;stroke-miterlimit:10;\" d=\"M 20 126.945313 L 247.890625 152.664063 \"/>\n",
       "<path style=\"fill:none;stroke-width:1;stroke-linecap:butt;stroke-linejoin:miter;stroke:rgb(26.666667%,26.666667%,26.666667%);stroke-opacity:1;stroke-miterlimit:10;\" d=\"M 20.851563 71.375 L 247.890625 152.664063 \"/>\n",
       "<path style=\"fill:none;stroke-width:1;stroke-linecap:butt;stroke-linejoin:miter;stroke:rgb(26.666667%,26.666667%,26.666667%);stroke-opacity:1;stroke-miterlimit:10;\" d=\"M 80.34375 29.140625 L 247.890625 152.664063 \"/>\n",
       "<path style=\"fill:none;stroke-width:1;stroke-linecap:butt;stroke-linejoin:miter;stroke:rgb(26.666667%,26.666667%,26.666667%);stroke-opacity:1;stroke-miterlimit:10;\" d=\"M 249.492188 48.230469 L 247.890625 152.664063 \"/>\n",
       "<path style=\"fill:none;stroke-width:1;stroke-linecap:butt;stroke-linejoin:miter;stroke:rgb(26.666667%,26.666667%,26.666667%);stroke-opacity:1;stroke-miterlimit:10;\" d=\"M 280 100.625 L 168.191406 180 \"/>\n",
       "<path style=\"fill:none;stroke-width:1;stroke-linecap:butt;stroke-linejoin:miter;stroke:rgb(26.666667%,26.666667%,26.666667%);stroke-opacity:1;stroke-miterlimit:10;\" d=\"M 146.175781 99.867188 L 168.191406 180 \"/>\n",
       "<path style=\"fill:none;stroke-width:1;stroke-linecap:butt;stroke-linejoin:miter;stroke:rgb(26.666667%,26.666667%,26.666667%);stroke-opacity:1;stroke-miterlimit:10;\" d=\"M 170.640625 20 L 168.191406 180 \"/>\n",
       "<path style=\"fill:none;stroke-width:1;stroke-linecap:butt;stroke-linejoin:miter;stroke:rgb(26.666667%,26.666667%,26.666667%);stroke-opacity:1;stroke-miterlimit:10;\" d=\"M 78.191406 169.84375 L 168.191406 180 \"/>\n",
       "<path style=\"fill:none;stroke-width:1;stroke-linecap:butt;stroke-linejoin:miter;stroke:rgb(26.666667%,26.666667%,26.666667%);stroke-opacity:1;stroke-miterlimit:10;\" d=\"M 20 126.945313 L 168.191406 180 \"/>\n",
       "<path style=\"fill:none;stroke-width:1;stroke-linecap:butt;stroke-linejoin:miter;stroke:rgb(26.666667%,26.666667%,26.666667%);stroke-opacity:1;stroke-miterlimit:10;\" d=\"M 20.851563 71.375 L 168.191406 180 \"/>\n",
       "<path style=\"fill:none;stroke-width:1;stroke-linecap:butt;stroke-linejoin:miter;stroke:rgb(26.666667%,26.666667%,26.666667%);stroke-opacity:1;stroke-miterlimit:10;\" d=\"M 80.34375 29.140625 L 168.191406 180 \"/>\n",
       "<path style=\"fill:none;stroke-width:1;stroke-linecap:butt;stroke-linejoin:miter;stroke:rgb(26.666667%,26.666667%,26.666667%);stroke-opacity:1;stroke-miterlimit:10;\" d=\"M 249.492188 48.230469 L 168.191406 180 \"/>\n",
       "<path style=\"fill:none;stroke-width:1;stroke-linecap:butt;stroke-linejoin:miter;stroke:rgb(26.666667%,26.666667%,26.666667%);stroke-opacity:1;stroke-miterlimit:10;\" d=\"M 247.890625 152.664063 L 168.191406 180 \"/>\n",
       "<path style=\"fill-rule:nonzero;fill:rgb(100%,0%,0%);fill-opacity:1;stroke-width:1;stroke-linecap:butt;stroke-linejoin:miter;stroke:rgb(0%,0%,0%);stroke-opacity:1;stroke-miterlimit:10;\" d=\"M 290 100.625 C 290 106.144531 285.523438 110.625 280 110.625 C 274.476563 110.625 270 106.144531 270 100.625 C 270 95.101563 274.476563 90.625 280 90.625 C 285.523438 90.625 290 95.101563 290 100.625 \"/>\n",
       "<path style=\"fill-rule:nonzero;fill:rgb(100%,0%,0%);fill-opacity:1;stroke-width:1;stroke-linecap:butt;stroke-linejoin:miter;stroke:rgb(0%,0%,0%);stroke-opacity:1;stroke-miterlimit:10;\" d=\"M 156.175781 99.867188 C 156.175781 105.390625 151.699219 109.867188 146.175781 109.867188 C 140.65625 109.867188 136.175781 105.390625 136.175781 99.867188 C 136.175781 94.347656 140.65625 89.867188 146.175781 89.867188 C 151.699219 89.867188 156.175781 94.347656 156.175781 99.867188 \"/>\n",
       "<path style=\"fill-rule:nonzero;fill:rgb(100%,0%,0%);fill-opacity:1;stroke-width:1;stroke-linecap:butt;stroke-linejoin:miter;stroke:rgb(0%,0%,0%);stroke-opacity:1;stroke-miterlimit:10;\" d=\"M 180.640625 20 C 180.640625 25.523438 176.164063 30 170.640625 30 C 165.117188 30 160.640625 25.523438 160.640625 20 C 160.640625 14.476563 165.117188 10 170.640625 10 C 176.164063 10 180.640625 14.476563 180.640625 20 \"/>\n",
       "<path style=\"fill-rule:nonzero;fill:rgb(100%,0%,0%);fill-opacity:1;stroke-width:1;stroke-linecap:butt;stroke-linejoin:miter;stroke:rgb(0%,0%,0%);stroke-opacity:1;stroke-miterlimit:10;\" d=\"M 88.191406 169.84375 C 88.191406 175.367188 83.710938 179.84375 78.191406 179.84375 C 72.667969 179.84375 68.191406 175.367188 68.191406 169.84375 C 68.191406 164.320313 72.667969 159.84375 78.191406 159.84375 C 83.710938 159.84375 88.191406 164.320313 88.191406 169.84375 \"/>\n",
       "<path style=\"fill-rule:nonzero;fill:rgb(100%,0%,0%);fill-opacity:1;stroke-width:1;stroke-linecap:butt;stroke-linejoin:miter;stroke:rgb(0%,0%,0%);stroke-opacity:1;stroke-miterlimit:10;\" d=\"M 30 126.945313 C 30 132.464844 25.523438 136.945313 20 136.945313 C 14.476563 136.945313 10 132.464844 10 126.945313 C 10 121.421875 14.476563 116.945313 20 116.945313 C 25.523438 116.945313 30 121.421875 30 126.945313 \"/>\n",
       "<path style=\"fill-rule:nonzero;fill:rgb(100%,0%,0%);fill-opacity:1;stroke-width:1;stroke-linecap:butt;stroke-linejoin:miter;stroke:rgb(0%,0%,0%);stroke-opacity:1;stroke-miterlimit:10;\" d=\"M 30.851563 71.375 C 30.851563 76.898438 26.375 81.375 20.851563 81.375 C 15.328125 81.375 10.851563 76.898438 10.851563 71.375 C 10.851563 65.851563 15.328125 61.375 20.851563 61.375 C 26.375 61.375 30.851563 65.851563 30.851563 71.375 \"/>\n",
       "<path style=\"fill-rule:nonzero;fill:rgb(100%,0%,0%);fill-opacity:1;stroke-width:1;stroke-linecap:butt;stroke-linejoin:miter;stroke:rgb(0%,0%,0%);stroke-opacity:1;stroke-miterlimit:10;\" d=\"M 90.34375 29.140625 C 90.34375 34.664063 85.867188 39.140625 80.34375 39.140625 C 74.820313 39.140625 70.34375 34.664063 70.34375 29.140625 C 70.34375 23.617188 74.820313 19.140625 80.34375 19.140625 C 85.867188 19.140625 90.34375 23.617188 90.34375 29.140625 \"/>\n",
       "<path style=\"fill-rule:nonzero;fill:rgb(100%,0%,0%);fill-opacity:1;stroke-width:1;stroke-linecap:butt;stroke-linejoin:miter;stroke:rgb(0%,0%,0%);stroke-opacity:1;stroke-miterlimit:10;\" d=\"M 259.492188 48.230469 C 259.492188 53.753906 255.011719 58.230469 249.492188 58.230469 C 243.96875 58.230469 239.492188 53.753906 239.492188 48.230469 C 239.492188 42.707031 243.96875 38.230469 249.492188 38.230469 C 255.011719 38.230469 259.492188 42.707031 259.492188 48.230469 \"/>\n",
       "<path style=\"fill-rule:nonzero;fill:rgb(100%,0%,0%);fill-opacity:1;stroke-width:1;stroke-linecap:butt;stroke-linejoin:miter;stroke:rgb(0%,0%,0%);stroke-opacity:1;stroke-miterlimit:10;\" d=\"M 257.890625 152.664063 C 257.890625 158.1875 253.414063 162.664063 247.890625 162.664063 C 242.371094 162.664063 237.890625 158.1875 237.890625 152.664063 C 237.890625 147.140625 242.371094 142.664063 247.890625 142.664063 C 253.414063 142.664063 257.890625 147.140625 257.890625 152.664063 \"/>\n",
       "<path style=\"fill-rule:nonzero;fill:rgb(100%,0%,0%);fill-opacity:1;stroke-width:1;stroke-linecap:butt;stroke-linejoin:miter;stroke:rgb(0%,0%,0%);stroke-opacity:1;stroke-miterlimit:10;\" d=\"M 178.191406 180 C 178.191406 185.523438 173.714844 190 168.191406 190 C 162.667969 190 158.191406 185.523438 158.191406 180 C 158.191406 174.476563 162.667969 170 168.191406 170 C 173.714844 170 178.191406 174.476563 178.191406 180 \"/>\n",
       "</g>\n",
       "</svg>\n"
      ],
      "text/plain": [
       "<igraph.drawing.Plot at 0x28a962143d0>"
      ]
     },
     "execution_count": 6,
     "metadata": {
      "image/svg+xml": {
       "isolated": true
      }
     },
     "output_type": "execute_result"
    }
   ],
   "source": [
    "g2 = Graph(n=10, edges=[[0,1],[1,2],[2,3],[3,1],[3,0],[2,0],[0,4],[1,4],[2,4],[3,4],[0,5],[1,5],[2,5],[3,5],[4,5],\n",
    "                       [0,6],[1,6],[2,6],[3,6],[4,6],[5,6],[0,7],[1,7],[2,7],[3,7],[4,7],[5,7],[6,7],\n",
    "                       [0,8],[1,8],[2,8],[3,8],[4,8],[5,8],[6,8],[7,8],[0,9],[1,9],[2,9],[3,9],[4,9],[5,9],[6,9],[7,9],[8,9]])\n",
    "plot(g2, bbox=(300, 200))"
   ]
  },
  {
   "cell_type": "code",
   "execution_count": 7,
   "metadata": {},
   "outputs": [
    {
     "name": "stdout",
     "output_type": "stream",
     "text": [
      "IGRAPH U--- 10 45 --\n",
      "+ edges:\n",
      " 0 --  1  2  3  4  5  6  7  8  9    5 --  0  1  2  3  4  6  7  8  9\n",
      " 1 --  0  2  3  4  5  6  7  8  9    6 --  0  1  2  3  4  5  7  8  9\n",
      " 2 --  0  1  3  4  5  6  7  8  9    7 --  0  1  2  3  4  5  6  8  9\n",
      " 3 --  0  1  2  4  5  6  7  8  9    8 --  0  1  2  3  4  5  6  7  9\n",
      " 4 --  0  1  2  3  5  6  7  8  9    9 --  0  1  2  3  4  5  6  7  8\n"
     ]
    }
   ],
   "source": [
    "print(g2)"
   ]
  },
  {
   "cell_type": "markdown",
   "metadata": {},
   "source": [
    "What about doing it directed?\n",
    "Directed graphs are for asymmetric relationships"
   ]
  },
  {
   "cell_type": "code",
   "execution_count": 8,
   "metadata": {
    "scrolled": true
   },
   "outputs": [
    {
     "data": {
      "image/svg+xml": [
       "<?xml version=\"1.0\" encoding=\"UTF-8\"?>\n",
       "<svg xmlns=\"http://www.w3.org/2000/svg\" xmlns:xlink=\"http://www.w3.org/1999/xlink\" width=\"300pt\" height=\"200pt\" viewBox=\"0 0 300 200\" version=\"1.1\">\n",
       "<g id=\"surface14\">\n",
       "<rect x=\"0\" y=\"0\" width=\"300\" height=\"200\" style=\"fill:rgb(100%,100%,100%);fill-opacity:1;stroke:none;\"/>\n",
       "<path style=\"fill:none;stroke-width:1;stroke-linecap:butt;stroke-linejoin:miter;stroke:rgb(26.666667%,26.666667%,26.666667%);stroke-opacity:1;stroke-miterlimit:10;\" d=\"M 280 100 C 183.058594 58.828125 97.703125 76.347656 34.585938 160.546875 \"/>\n",
       "<path style=\" stroke:none;fill-rule:nonzero;fill:rgb(26.666667%,26.666667%,26.666667%);fill-opacity:1;\" d=\"M 26.027344 171.960938 L 30.875 157.765625 L 38.292969 163.324219 L 26.027344 171.960938 \"/>\n",
       "<path style=\"fill:none;stroke-width:1;stroke-linecap:butt;stroke-linejoin:miter;stroke:rgb(26.666667%,26.666667%,26.666667%);stroke-opacity:1;stroke-miterlimit:10;\" d=\"M 20 180 C 59.75 136.761719 68.023438 87.457031 34.058594 39.746094 \"/>\n",
       "<path style=\" stroke:none;fill-rule:nonzero;fill:rgb(26.666667%,26.666667%,26.666667%);fill-opacity:1;\" d=\"M 25.785156 28.125 L 37.835938 37.058594 L 30.28125 42.433594 L 25.785156 28.125 \"/>\n",
       "<path style=\"fill:none;stroke-width:1;stroke-linecap:butt;stroke-linejoin:miter;stroke:rgb(26.666667%,26.666667%,26.666667%);stroke-opacity:1;stroke-miterlimit:10;\" d=\"M 280 100 C 222.972656 11.453125 142.53125 -22.039063 42.996094 12.109375 \"/>\n",
       "<path style=\" stroke:none;fill-rule:nonzero;fill:rgb(26.666667%,26.666667%,26.666667%);fill-opacity:1;\" d=\"M 29.503906 16.738281 L 41.492188 7.726563 L 44.503906 16.492188 L 29.503906 16.738281 \"/>\n",
       "<path style=\"fill:none;stroke-width:1;stroke-linecap:butt;stroke-linejoin:miter;stroke:rgb(26.666667%,26.666667%,26.666667%);stroke-opacity:1;stroke-miterlimit:10;\" d=\"M 20 180 C 116.941406 221.171875 202.296875 203.652344 265.414063 119.453125 \"/>\n",
       "<path style=\" stroke:none;fill-rule:nonzero;fill:rgb(26.666667%,26.666667%,26.666667%);fill-opacity:1;\" d=\"M 273.972656 108.039063 L 269.125 122.234375 L 261.707031 116.675781 L 273.972656 108.039063 \"/>\n",
       "<path style=\"fill:none;stroke-width:1;stroke-linecap:butt;stroke-linejoin:miter;stroke:rgb(26.666667%,26.666667%,26.666667%);stroke-opacity:1;stroke-miterlimit:10;\" d=\"M 20 20 C -19.75 63.238281 -28.023438 112.542969 5.941406 160.253906 \"/>\n",
       "<path style=\" stroke:none;fill-rule:nonzero;fill:rgb(26.666667%,26.666667%,26.666667%);fill-opacity:1;\" d=\"M 14.214844 171.875 L 2.164063 162.941406 L 9.71875 157.566406 L 14.214844 171.875 \"/>\n",
       "<path style=\"fill:none;stroke-width:1;stroke-linecap:butt;stroke-linejoin:miter;stroke:rgb(26.666667%,26.666667%,26.666667%);stroke-opacity:1;stroke-miterlimit:10;\" d=\"M 20 20 C 77.027344 108.546875 157.46875 142.039063 257.003906 107.890625 \"/>\n",
       "<path style=\" stroke:none;fill-rule:nonzero;fill:rgb(26.666667%,26.666667%,26.666667%);fill-opacity:1;\" d=\"M 270.496094 103.261719 L 258.507813 112.273438 L 255.496094 103.507813 L 270.496094 103.261719 \"/>\n",
       "<path style=\"fill-rule:nonzero;fill:rgb(100%,0%,0%);fill-opacity:1;stroke-width:1;stroke-linecap:butt;stroke-linejoin:miter;stroke:rgb(0%,0%,0%);stroke-opacity:1;stroke-miterlimit:10;\" d=\"M 290 100 C 290 105.523438 285.523438 110 280 110 C 274.476563 110 270 105.523438 270 100 C 270 94.476563 274.476563 90 280 90 C 285.523438 90 290 94.476563 290 100 \"/>\n",
       "<path style=\"fill-rule:nonzero;fill:rgb(100%,0%,0%);fill-opacity:1;stroke-width:1;stroke-linecap:butt;stroke-linejoin:miter;stroke:rgb(0%,0%,0%);stroke-opacity:1;stroke-miterlimit:10;\" d=\"M 30 180 C 30 185.523438 25.523438 190 20 190 C 14.476563 190 10 185.523438 10 180 C 10 174.476563 14.476563 170 20 170 C 25.523438 170 30 174.476563 30 180 \"/>\n",
       "<path style=\"fill-rule:nonzero;fill:rgb(100%,0%,0%);fill-opacity:1;stroke-width:1;stroke-linecap:butt;stroke-linejoin:miter;stroke:rgb(0%,0%,0%);stroke-opacity:1;stroke-miterlimit:10;\" d=\"M 30 20 C 30 25.523438 25.523438 30 20 30 C 14.476563 30 10 25.523438 10 20 C 10 14.476563 14.476563 10 20 10 C 25.523438 10 30 14.476563 30 20 \"/>\n",
       "</g>\n",
       "</svg>\n"
      ],
      "text/plain": [
       "<igraph.drawing.Plot at 0x28a93251130>"
      ]
     },
     "execution_count": 8,
     "metadata": {
      "image/svg+xml": {
       "isolated": true
      }
     },
     "output_type": "execute_result"
    }
   ],
   "source": [
    "g3=g1.as_directed()\n",
    "plot(g3,bbox=(300, 200))"
   ]
  },
  {
   "cell_type": "code",
   "execution_count": 9,
   "metadata": {},
   "outputs": [
    {
     "name": "stdout",
     "output_type": "stream",
     "text": [
      "IGRAPH D--- 3 6 --\n",
      "+ edges:\n",
      "0->1 1->2 0->2 1->0 2->1 2->0\n"
     ]
    }
   ],
   "source": [
    "print(g3)"
   ]
  },
  {
   "cell_type": "markdown",
   "metadata": {},
   "source": [
    "You can create a graph with a representation of a graph formula.\n",
    "\n",
    "A graph formula is a simple string representation of a graph. It is very handy for creating small graphs quickly. The string consists of vertex names separated by edge operators. An edge operator is a sequence of dashes (-) that may or may not start with an arrowhead (< at the beginning of the sequence or > at the end of the sequence). The edge operators can be arbitrarily long, i.e., you may use as many dashes to draw them as you like. This makes a total of four different edge operators:\n",
    "\n",
    "----- makes an undirected edge\n",
    "\n",
    "<---- makes a directed edge pointing from the vertex on the right hand side of the operator to the vertex on the left hand side\n",
    "----> is the opposite of <----\n",
    "\n",
    "<---> creates a mutual directed edge pair between the two vertices\n",
    "\n",
    "If you only use the undirected edge operator (-----), the graph will be undirected. Otherwise it will be directed. Vertex names used in the formula will be assigned to the name vertex attribute of the graph"
   ]
  },
  {
   "cell_type": "code",
   "execution_count": 10,
   "metadata": {},
   "outputs": [
    {
     "data": {
      "image/svg+xml": [
       "<?xml version=\"1.0\" encoding=\"UTF-8\"?>\n",
       "<svg xmlns=\"http://www.w3.org/2000/svg\" xmlns:xlink=\"http://www.w3.org/1999/xlink\" width=\"300pt\" height=\"200pt\" viewBox=\"0 0 300 200\" version=\"1.1\">\n",
       "<defs>\n",
       "<g>\n",
       "<symbol overflow=\"visible\" id=\"glyph0-0\">\n",
       "<path style=\"stroke:none;\" d=\"M 1.75 0 L 1.75 -8.75 L 8.75 -8.75 L 8.75 0 Z M 1.96875 -0.21875 L 8.53125 -0.21875 L 8.53125 -8.53125 L 1.96875 -8.53125 Z M 1.96875 -0.21875 \"/>\n",
       "</symbol>\n",
       "<symbol overflow=\"visible\" id=\"glyph0-1\">\n",
       "<path style=\"stroke:none;\" d=\"M -0.0195313 0 L 3.828125 -10.023438 L 5.257813 -10.023438 L 9.359375 0 L 7.847656 0 L 6.679688 -3.035156 L 2.488281 -3.035156 L 1.386719 0 Z M 2.871094 -4.117188 L 6.269531 -4.117188 L 5.222656 -6.890625 C 4.898438 -7.734375 4.664063 -8.425781 4.511719 -8.96875 C 4.382813 -8.324219 4.203125 -7.6875 3.972656 -7.054688 Z M 2.871094 -4.117188 \"/>\n",
       "</symbol>\n",
       "<symbol overflow=\"visible\" id=\"glyph0-2\">\n",
       "<path style=\"stroke:none;\" d=\"M 1.023438 0 L 1.023438 -10.023438 L 4.785156 -10.023438 C 5.546875 -10.019531 6.160156 -9.917969 6.625 -9.71875 C 7.085938 -9.511719 7.449219 -9.199219 7.714844 -8.78125 C 7.976563 -8.355469 8.109375 -7.914063 8.109375 -7.457031 C 8.109375 -7.027344 7.992188 -6.625 7.757813 -6.246094 C 7.523438 -5.867188 7.171875 -5.5625 6.707031 -5.332031 C 7.3125 -5.152344 7.777344 -4.847656 8.105469 -4.421875 C 8.425781 -3.992188 8.589844 -3.488281 8.59375 -2.90625 C 8.589844 -2.4375 8.492188 -2 8.296875 -1.597656 C 8.097656 -1.191406 7.851563 -0.878906 7.5625 -0.664063 C 7.269531 -0.441406 6.902344 -0.277344 6.464844 -0.167969 C 6.019531 -0.0546875 5.480469 0 4.847656 0 Z M 2.351563 -5.8125 L 4.519531 -5.8125 C 5.101563 -5.8125 5.523438 -5.847656 5.78125 -5.925781 C 6.117188 -6.023438 6.371094 -6.191406 6.542969 -6.425781 C 6.710938 -6.65625 6.796875 -6.949219 6.800781 -7.300781 C 6.796875 -7.632813 6.71875 -7.925781 6.5625 -8.179688 C 6.402344 -8.429688 6.171875 -8.601563 5.878906 -8.699219 C 5.578125 -8.789063 5.070313 -8.835938 4.355469 -8.839844 L 2.351563 -8.839844 Z M 2.351563 -1.183594 L 4.847656 -1.183594 C 5.269531 -1.183594 5.570313 -1.199219 5.75 -1.230469 C 6.050781 -1.285156 6.304688 -1.375 6.511719 -1.503906 C 6.714844 -1.628906 6.886719 -1.8125 7.019531 -2.058594 C 7.152344 -2.300781 7.21875 -2.585938 7.21875 -2.90625 C 7.21875 -3.277344 7.121094 -3.601563 6.929688 -3.878906 C 6.738281 -4.152344 6.472656 -4.34375 6.132813 -4.460938 C 5.792969 -4.570313 5.304688 -4.628906 4.667969 -4.628906 L 2.351563 -4.628906 Z M 2.351563 -1.183594 \"/>\n",
       "</symbol>\n",
       "<symbol overflow=\"visible\" id=\"glyph0-3\">\n",
       "<path style=\"stroke:none;\" d=\"M 8.230469 -3.515625 L 9.554688 -3.179688 C 9.277344 -2.089844 8.777344 -1.257813 8.054688 -0.6875 C 7.332031 -0.113281 6.449219 0.167969 5.40625 0.171875 C 4.324219 0.167969 3.445313 -0.046875 2.773438 -0.488281 C 2.09375 -0.925781 1.578125 -1.5625 1.226563 -2.398438 C 0.867188 -3.226563 0.691406 -4.125 0.695313 -5.085938 C 0.691406 -6.128906 0.890625 -7.039063 1.292969 -7.816406 C 1.691406 -8.59375 2.257813 -9.183594 2.996094 -9.585938 C 3.730469 -9.988281 4.542969 -10.1875 5.429688 -10.191406 C 6.425781 -10.1875 7.269531 -9.933594 7.957031 -9.425781 C 8.640625 -8.914063 9.117188 -8.195313 9.386719 -7.273438 L 8.078125 -6.964844 C 7.84375 -7.691406 7.507813 -8.222656 7.066406 -8.558594 C 6.625 -8.890625 6.066406 -9.058594 5.398438 -9.058594 C 4.625 -9.058594 3.984375 -8.871094 3.46875 -8.503906 C 2.953125 -8.128906 2.589844 -7.632813 2.378906 -7.015625 C 2.167969 -6.390625 2.0625 -5.75 2.0625 -5.09375 C 2.0625 -4.234375 2.183594 -3.492188 2.433594 -2.859375 C 2.679688 -2.222656 3.066406 -1.746094 3.59375 -1.433594 C 4.117188 -1.117188 4.6875 -0.960938 5.296875 -0.964844 C 6.039063 -0.960938 6.667969 -1.175781 7.183594 -1.605469 C 7.699219 -2.035156 8.046875 -2.671875 8.230469 -3.515625 Z M 8.230469 -3.515625 \"/>\n",
       "</symbol>\n",
       "<symbol overflow=\"visible\" id=\"glyph0-4\">\n",
       "<path style=\"stroke:none;\" d=\"M 1.078125 0 L 1.078125 -10.023438 L 4.53125 -10.023438 C 5.308594 -10.019531 5.90625 -9.972656 6.316406 -9.878906 C 6.890625 -9.746094 7.378906 -9.503906 7.785156 -9.160156 C 8.3125 -8.710938 8.707031 -8.140625 8.972656 -7.449219 C 9.230469 -6.75 9.363281 -5.957031 9.367188 -5.066406 C 9.363281 -4.300781 9.273438 -3.625 9.097656 -3.039063 C 8.917969 -2.449219 8.691406 -1.964844 8.414063 -1.582031 C 8.136719 -1.195313 7.832031 -0.890625 7.503906 -0.671875 C 7.171875 -0.449219 6.773438 -0.28125 6.304688 -0.171875 C 5.835938 -0.0546875 5.296875 0 4.695313 0 Z M 2.40625 -1.183594 L 4.546875 -1.183594 C 5.207031 -1.183594 5.722656 -1.242188 6.101563 -1.367188 C 6.472656 -1.484375 6.773438 -1.660156 7 -1.886719 C 7.3125 -2.199219 7.558594 -2.621094 7.734375 -3.15625 C 7.910156 -3.683594 7.996094 -4.328125 8 -5.085938 C 7.996094 -6.132813 7.824219 -6.9375 7.480469 -7.5 C 7.132813 -8.0625 6.714844 -8.4375 6.226563 -8.632813 C 5.871094 -8.765625 5.300781 -8.835938 4.511719 -8.839844 L 2.40625 -8.839844 Z M 2.40625 -1.183594 \"/>\n",
       "</symbol>\n",
       "<symbol overflow=\"visible\" id=\"glyph0-5\">\n",
       "<path style=\"stroke:none;\" d=\"M 1.109375 0 L 1.109375 -10.023438 L 8.351563 -10.023438 L 8.351563 -8.839844 L 2.433594 -8.839844 L 2.433594 -5.769531 L 7.976563 -5.769531 L 7.976563 -4.59375 L 2.433594 -4.59375 L 2.433594 -1.183594 L 8.585938 -1.183594 L 8.585938 0 Z M 1.109375 0 \"/>\n",
       "</symbol>\n",
       "<symbol overflow=\"visible\" id=\"glyph0-6\">\n",
       "<path style=\"stroke:none;\" d=\"M 1.148438 0 L 1.148438 -10.023438 L 7.910156 -10.023438 L 7.910156 -8.839844 L 2.476563 -8.839844 L 2.476563 -5.734375 L 7.179688 -5.734375 L 7.179688 -4.554688 L 2.476563 -4.554688 L 2.476563 0 Z M 1.148438 0 \"/>\n",
       "</symbol>\n",
       "</g>\n",
       "</defs>\n",
       "<g id=\"surface20\">\n",
       "<rect x=\"0\" y=\"0\" width=\"300\" height=\"200\" style=\"fill:rgb(100%,100%,100%);fill-opacity:1;stroke:none;\"/>\n",
       "<path style=\"fill:none;stroke-width:1;stroke-linecap:butt;stroke-linejoin:miter;stroke:rgb(26.666667%,26.666667%,26.666667%);stroke-opacity:1;stroke-miterlimit:10;\" d=\"M 280 134.703125 L 221.109375 180 \"/>\n",
       "<path style=\"fill:none;stroke-width:1;stroke-linecap:butt;stroke-linejoin:miter;stroke:rgb(26.666667%,26.666667%,26.666667%);stroke-opacity:1;stroke-miterlimit:10;\" d=\"M 280 134.703125 L 198.90625 99.472656 \"/>\n",
       "<path style=\"fill:none;stroke-width:1;stroke-linecap:butt;stroke-linejoin:miter;stroke:rgb(26.666667%,26.666667%,26.666667%);stroke-opacity:1;stroke-miterlimit:10;\" d=\"M 221.109375 180 L 198.90625 99.472656 \"/>\n",
       "<path style=\"fill:none;stroke-width:1;stroke-linecap:butt;stroke-linejoin:miter;stroke:rgb(26.666667%,26.666667%,26.666667%);stroke-opacity:1;stroke-miterlimit:10;\" d=\"M 198.90625 99.472656 L 106.6875 95.4375 \"/>\n",
       "<path style=\"fill:none;stroke-width:1;stroke-linecap:butt;stroke-linejoin:miter;stroke:rgb(26.666667%,26.666667%,26.666667%);stroke-opacity:1;stroke-miterlimit:10;\" d=\"M 198.90625 99.472656 L 232.507813 20 \"/>\n",
       "<path style=\"fill:none;stroke-width:1;stroke-linecap:butt;stroke-linejoin:miter;stroke:rgb(26.666667%,26.666667%,26.666667%);stroke-opacity:1;stroke-miterlimit:10;\" d=\"M 106.6875 95.4375 L 20 91.992188 \"/>\n",
       "<path style=\"fill-rule:nonzero;fill:rgb(100%,0%,0%);fill-opacity:1;stroke-width:1;stroke-linecap:butt;stroke-linejoin:miter;stroke:rgb(0%,0%,0%);stroke-opacity:1;stroke-miterlimit:10;\" d=\"M 290 134.703125 C 290 140.222656 285.523438 144.703125 280 144.703125 C 274.476563 144.703125 270 140.222656 270 134.703125 C 270 129.179688 274.476563 124.703125 280 124.703125 C 285.523438 124.703125 290 129.179688 290 134.703125 \"/>\n",
       "<path style=\"fill-rule:nonzero;fill:rgb(100%,0%,0%);fill-opacity:1;stroke-width:1;stroke-linecap:butt;stroke-linejoin:miter;stroke:rgb(0%,0%,0%);stroke-opacity:1;stroke-miterlimit:10;\" d=\"M 231.109375 180 C 231.109375 185.523438 226.632813 190 221.109375 190 C 215.585938 190 211.109375 185.523438 211.109375 180 C 211.109375 174.476563 215.585938 170 221.109375 170 C 226.632813 170 231.109375 174.476563 231.109375 180 \"/>\n",
       "<path style=\"fill-rule:nonzero;fill:rgb(100%,0%,0%);fill-opacity:1;stroke-width:1;stroke-linecap:butt;stroke-linejoin:miter;stroke:rgb(0%,0%,0%);stroke-opacity:1;stroke-miterlimit:10;\" d=\"M 208.90625 99.472656 C 208.90625 104.992188 204.425781 109.472656 198.90625 109.472656 C 193.382813 109.472656 188.90625 104.992188 188.90625 99.472656 C 188.90625 93.949219 193.382813 89.472656 198.90625 89.472656 C 204.425781 89.472656 208.90625 93.949219 208.90625 99.472656 \"/>\n",
       "<path style=\"fill-rule:nonzero;fill:rgb(100%,0%,0%);fill-opacity:1;stroke-width:1;stroke-linecap:butt;stroke-linejoin:miter;stroke:rgb(0%,0%,0%);stroke-opacity:1;stroke-miterlimit:10;\" d=\"M 116.6875 95.4375 C 116.6875 100.960938 112.210938 105.4375 106.6875 105.4375 C 101.164063 105.4375 96.6875 100.960938 96.6875 95.4375 C 96.6875 89.914063 101.164063 85.4375 106.6875 85.4375 C 112.210938 85.4375 116.6875 89.914063 116.6875 95.4375 \"/>\n",
       "<path style=\"fill-rule:nonzero;fill:rgb(100%,0%,0%);fill-opacity:1;stroke-width:1;stroke-linecap:butt;stroke-linejoin:miter;stroke:rgb(0%,0%,0%);stroke-opacity:1;stroke-miterlimit:10;\" d=\"M 30 91.992188 C 30 97.515625 25.523438 101.992188 20 101.992188 C 14.476563 101.992188 10 97.515625 10 91.992188 C 10 86.472656 14.476563 81.992188 20 81.992188 C 25.523438 81.992188 30 86.472656 30 91.992188 \"/>\n",
       "<path style=\"fill-rule:nonzero;fill:rgb(100%,0%,0%);fill-opacity:1;stroke-width:1;stroke-linecap:butt;stroke-linejoin:miter;stroke:rgb(0%,0%,0%);stroke-opacity:1;stroke-miterlimit:10;\" d=\"M 242.507813 20 C 242.507813 25.523438 238.03125 30 232.507813 30 C 226.984375 30 222.507813 25.523438 222.507813 20 C 222.507813 14.476563 226.984375 10 232.507813 10 C 238.03125 10 242.507813 14.476563 242.507813 20 \"/>\n",
       "<g style=\"fill:rgb(0%,0%,0%);fill-opacity:1;\">\n",
       "  <use xlink:href=\"#glyph0-1\" x=\"275.332031\" y=\"141.210938\"/>\n",
       "</g>\n",
       "<g style=\"fill:rgb(0%,0%,0%);fill-opacity:1;\">\n",
       "  <use xlink:href=\"#glyph0-2\" x=\"216.300781\" y=\"186.511719\"/>\n",
       "</g>\n",
       "<g style=\"fill:rgb(0%,0%,0%);fill-opacity:1;\">\n",
       "  <use xlink:href=\"#glyph0-3\" x=\"193.777344\" y=\"106.066406\"/>\n",
       "</g>\n",
       "<g style=\"fill:rgb(0%,0%,0%);fill-opacity:1;\">\n",
       "  <use xlink:href=\"#glyph0-4\" x=\"101.464844\" y=\"101.949219\"/>\n",
       "</g>\n",
       "<g style=\"fill:rgb(0%,0%,0%);fill-opacity:1;\">\n",
       "  <use xlink:href=\"#glyph0-5\" x=\"15.152344\" y=\"98.503906\"/>\n",
       "</g>\n",
       "<g style=\"fill:rgb(0%,0%,0%);fill-opacity:1;\">\n",
       "  <use xlink:href=\"#glyph0-6\" x=\"227.976563\" y=\"26.511719\"/>\n",
       "</g>\n",
       "</g>\n",
       "</svg>\n"
      ],
      "text/plain": [
       "<igraph.drawing.Plot at 0x28a961ed460>"
      ]
     },
     "execution_count": 10,
     "metadata": {
      "image/svg+xml": {
       "isolated": true
      }
     },
     "output_type": "execute_result"
    }
   ],
   "source": [
    "g4 = Graph.Formula('A-B, B-C, C-A, C-D, D-E, C-F')\n",
    "plot(g4,bbox=(300, 200),vertex_label=g4.vs['name'])"
   ]
  },
  {
   "cell_type": "code",
   "execution_count": 11,
   "metadata": {},
   "outputs": [
    {
     "name": "stdout",
     "output_type": "stream",
     "text": [
      "IGRAPH UN-- 6 6 --\n",
      "+ attr: name (v)\n",
      "+ edges (vertex names):\n",
      "A--B, A--C, B--C, C--D, C--F, D--E\n"
     ]
    }
   ],
   "source": [
    "print(g4)"
   ]
  },
  {
   "cell_type": "markdown",
   "metadata": {},
   "source": [
    "# 1.2 Edge, vertex, and network attributes\n",
    "\n",
    "You can access vertices by getting the dataframe of vertices:"
   ]
  },
  {
   "cell_type": "code",
   "execution_count": 12,
   "metadata": {},
   "outputs": [
    {
     "data": {
      "text/html": [
       "<div>\n",
       "<style scoped>\n",
       "    .dataframe tbody tr th:only-of-type {\n",
       "        vertical-align: middle;\n",
       "    }\n",
       "\n",
       "    .dataframe tbody tr th {\n",
       "        vertical-align: top;\n",
       "    }\n",
       "\n",
       "    .dataframe thead th {\n",
       "        text-align: right;\n",
       "    }\n",
       "</style>\n",
       "<table border=\"1\" class=\"dataframe\">\n",
       "  <thead>\n",
       "    <tr style=\"text-align: right;\">\n",
       "      <th></th>\n",
       "      <th>name</th>\n",
       "    </tr>\n",
       "    <tr>\n",
       "      <th>vertex ID</th>\n",
       "      <th></th>\n",
       "    </tr>\n",
       "  </thead>\n",
       "  <tbody>\n",
       "    <tr>\n",
       "      <th>0</th>\n",
       "      <td>A</td>\n",
       "    </tr>\n",
       "    <tr>\n",
       "      <th>1</th>\n",
       "      <td>B</td>\n",
       "    </tr>\n",
       "    <tr>\n",
       "      <th>2</th>\n",
       "      <td>C</td>\n",
       "    </tr>\n",
       "    <tr>\n",
       "      <th>3</th>\n",
       "      <td>D</td>\n",
       "    </tr>\n",
       "    <tr>\n",
       "      <th>4</th>\n",
       "      <td>E</td>\n",
       "    </tr>\n",
       "    <tr>\n",
       "      <th>5</th>\n",
       "      <td>F</td>\n",
       "    </tr>\n",
       "  </tbody>\n",
       "</table>\n",
       "</div>"
      ],
      "text/plain": [
       "          name\n",
       "vertex ID     \n",
       "0            A\n",
       "1            B\n",
       "2            C\n",
       "3            D\n",
       "4            E\n",
       "5            F"
      ]
     },
     "execution_count": 12,
     "metadata": {},
     "output_type": "execute_result"
    }
   ],
   "source": [
    "g4.get_vertex_dataframe()"
   ]
  },
  {
   "cell_type": "markdown",
   "metadata": {},
   "source": [
    "And the edges by getting the dataframe of vertices:"
   ]
  },
  {
   "cell_type": "code",
   "execution_count": 13,
   "metadata": {
    "scrolled": true
   },
   "outputs": [
    {
     "data": {
      "text/plain": [
       "[(0, 1), (0, 2), (1, 2), (2, 3), (2, 5), (3, 4)]"
      ]
     },
     "execution_count": 13,
     "metadata": {},
     "output_type": "execute_result"
    }
   ],
   "source": [
    "g4.get_edgelist()"
   ]
  },
  {
   "cell_type": "markdown",
   "metadata": {},
   "source": [
    "To access the vertex/edge sequence we can use g.vs/g.es. g.vs and g.es are properties of the graph and can be used to get specific attributes of the graph. For example:"
   ]
  },
  {
   "cell_type": "code",
   "execution_count": 14,
   "metadata": {},
   "outputs": [
    {
     "data": {
      "text/plain": [
       "['A', 'B', 'C', 'D', 'E', 'F']"
      ]
     },
     "execution_count": 14,
     "metadata": {},
     "output_type": "execute_result"
    }
   ],
   "source": [
    "g4.vs['name']"
   ]
  },
  {
   "cell_type": "markdown",
   "metadata": {},
   "source": [
    "An adjacency matrix A is a representation of the graph in which:\n",
    "* Aij = 1 if there is a link from node i to node j\n",
    "* Aij = 0 otherwise\n",
    "\n",
    "You can access the network adjacency matrix directly doing:"
   ]
  },
  {
   "cell_type": "code",
   "execution_count": 15,
   "metadata": {},
   "outputs": [
    {
     "data": {
      "text/plain": [
       "Matrix([[0, 1, 1, 0, 0, 0], [1, 0, 1, 0, 0, 0], [1, 1, 0, 1, 0, 1], [0, 0, 1, 0, 1, 0], [0, 0, 0, 1, 0, 0], [0, 0, 1, 0, 0, 0]])"
      ]
     },
     "execution_count": 15,
     "metadata": {},
     "output_type": "execute_result"
    }
   ],
   "source": [
    "g4.get_adjacency()"
   ]
  },
  {
   "cell_type": "markdown",
   "metadata": {},
   "source": [
    "And you can index that matrix by using the vertex name"
   ]
  },
  {
   "cell_type": "code",
   "execution_count": 16,
   "metadata": {},
   "outputs": [
    {
     "data": {
      "text/plain": [
       "1"
      ]
     },
     "execution_count": 16,
     "metadata": {},
     "output_type": "execute_result"
    }
   ],
   "source": [
    "g4[\"A\",\"B\"]"
   ]
  },
  {
   "cell_type": "markdown",
   "metadata": {},
   "source": [
    "Attributes can be added to the network, vertices, or edges. \n",
    "With vertex_attributes and edge_attributes you can query the atributes of a given graph.\n",
    "\n",
    "In this case we only have the vertex name (that is automatically generated when we created the network)."
   ]
  },
  {
   "cell_type": "code",
   "execution_count": 17,
   "metadata": {},
   "outputs": [
    {
     "data": {
      "text/plain": [
       "['name']"
      ]
     },
     "execution_count": 17,
     "metadata": {},
     "output_type": "execute_result"
    }
   ],
   "source": [
    "g4.vertex_attributes()"
   ]
  },
  {
   "cell_type": "code",
   "execution_count": 18,
   "metadata": {},
   "outputs": [
    {
     "data": {
      "text/plain": [
       "[]"
      ]
     },
     "execution_count": 18,
     "metadata": {},
     "output_type": "execute_result"
    }
   ],
   "source": [
    "g4.edge_attributes()"
   ]
  },
  {
   "cell_type": "markdown",
   "metadata": {},
   "source": [
    "To set the attributes the following syntax can be used."
   ]
  },
  {
   "cell_type": "code",
   "execution_count": 19,
   "metadata": {},
   "outputs": [
    {
     "data": {
      "text/html": [
       "<div>\n",
       "<style scoped>\n",
       "    .dataframe tbody tr th:only-of-type {\n",
       "        vertical-align: middle;\n",
       "    }\n",
       "\n",
       "    .dataframe tbody tr th {\n",
       "        vertical-align: top;\n",
       "    }\n",
       "\n",
       "    .dataframe thead th {\n",
       "        text-align: right;\n",
       "    }\n",
       "</style>\n",
       "<table border=\"1\" class=\"dataframe\">\n",
       "  <thead>\n",
       "    <tr style=\"text-align: right;\">\n",
       "      <th></th>\n",
       "      <th>name</th>\n",
       "      <th>newAtt</th>\n",
       "    </tr>\n",
       "    <tr>\n",
       "      <th>vertex ID</th>\n",
       "      <th></th>\n",
       "      <th></th>\n",
       "    </tr>\n",
       "  </thead>\n",
       "  <tbody>\n",
       "    <tr>\n",
       "      <th>0</th>\n",
       "      <td>A</td>\n",
       "      <td>New attribute</td>\n",
       "    </tr>\n",
       "    <tr>\n",
       "      <th>1</th>\n",
       "      <td>B</td>\n",
       "      <td>New attribute</td>\n",
       "    </tr>\n",
       "    <tr>\n",
       "      <th>2</th>\n",
       "      <td>C</td>\n",
       "      <td>New attribute</td>\n",
       "    </tr>\n",
       "    <tr>\n",
       "      <th>3</th>\n",
       "      <td>D</td>\n",
       "      <td>New attribute</td>\n",
       "    </tr>\n",
       "    <tr>\n",
       "      <th>4</th>\n",
       "      <td>E</td>\n",
       "      <td>New attribute</td>\n",
       "    </tr>\n",
       "    <tr>\n",
       "      <th>5</th>\n",
       "      <td>F</td>\n",
       "      <td>New attribute</td>\n",
       "    </tr>\n",
       "  </tbody>\n",
       "</table>\n",
       "</div>"
      ],
      "text/plain": [
       "          name         newAtt\n",
       "vertex ID                    \n",
       "0            A  New attribute\n",
       "1            B  New attribute\n",
       "2            C  New attribute\n",
       "3            D  New attribute\n",
       "4            E  New attribute\n",
       "5            F  New attribute"
      ]
     },
     "execution_count": 19,
     "metadata": {},
     "output_type": "execute_result"
    }
   ],
   "source": [
    "g4.vs['newAtt']=\"New attribute\"\n",
    "g4.get_vertex_dataframe()"
   ]
  },
  {
   "cell_type": "markdown",
   "metadata": {},
   "source": [
    "Create your own attribute for vowels. This attribute must be boolean (True if it is a vowel)."
   ]
  },
  {
   "cell_type": "code",
   "execution_count": 20,
   "metadata": {},
   "outputs": [
    {
     "data": {
      "text/html": [
       "<div>\n",
       "<style scoped>\n",
       "    .dataframe tbody tr th:only-of-type {\n",
       "        vertical-align: middle;\n",
       "    }\n",
       "\n",
       "    .dataframe tbody tr th {\n",
       "        vertical-align: top;\n",
       "    }\n",
       "\n",
       "    .dataframe thead th {\n",
       "        text-align: right;\n",
       "    }\n",
       "</style>\n",
       "<table border=\"1\" class=\"dataframe\">\n",
       "  <thead>\n",
       "    <tr style=\"text-align: right;\">\n",
       "      <th></th>\n",
       "      <th>name</th>\n",
       "      <th>newAtt</th>\n",
       "      <th>Vowels</th>\n",
       "    </tr>\n",
       "    <tr>\n",
       "      <th>vertex ID</th>\n",
       "      <th></th>\n",
       "      <th></th>\n",
       "      <th></th>\n",
       "    </tr>\n",
       "  </thead>\n",
       "  <tbody>\n",
       "    <tr>\n",
       "      <th>0</th>\n",
       "      <td>A</td>\n",
       "      <td>New attribute</td>\n",
       "      <td>True</td>\n",
       "    </tr>\n",
       "    <tr>\n",
       "      <th>1</th>\n",
       "      <td>B</td>\n",
       "      <td>New attribute</td>\n",
       "      <td>False</td>\n",
       "    </tr>\n",
       "    <tr>\n",
       "      <th>2</th>\n",
       "      <td>C</td>\n",
       "      <td>New attribute</td>\n",
       "      <td>False</td>\n",
       "    </tr>\n",
       "    <tr>\n",
       "      <th>3</th>\n",
       "      <td>D</td>\n",
       "      <td>New attribute</td>\n",
       "      <td>False</td>\n",
       "    </tr>\n",
       "    <tr>\n",
       "      <th>4</th>\n",
       "      <td>E</td>\n",
       "      <td>New attribute</td>\n",
       "      <td>True</td>\n",
       "    </tr>\n",
       "    <tr>\n",
       "      <th>5</th>\n",
       "      <td>F</td>\n",
       "      <td>New attribute</td>\n",
       "      <td>False</td>\n",
       "    </tr>\n",
       "  </tbody>\n",
       "</table>\n",
       "</div>"
      ],
      "text/plain": [
       "          name         newAtt  Vowels\n",
       "vertex ID                            \n",
       "0            A  New attribute    True\n",
       "1            B  New attribute   False\n",
       "2            C  New attribute   False\n",
       "3            D  New attribute   False\n",
       "4            E  New attribute    True\n",
       "5            F  New attribute   False"
      ]
     },
     "execution_count": 20,
     "metadata": {},
     "output_type": "execute_result"
    }
   ],
   "source": [
    "g4.vs['Vowels']=(True,False,False,False,True,False)\n",
    "g4.get_vertex_dataframe()"
   ]
  },
  {
   "cell_type": "markdown",
   "metadata": {},
   "source": [
    "The color is also an attribute."
   ]
  },
  {
   "cell_type": "code",
   "execution_count": 21,
   "metadata": {},
   "outputs": [
    {
     "data": {
      "text/html": [
       "<div>\n",
       "<style scoped>\n",
       "    .dataframe tbody tr th:only-of-type {\n",
       "        vertical-align: middle;\n",
       "    }\n",
       "\n",
       "    .dataframe tbody tr th {\n",
       "        vertical-align: top;\n",
       "    }\n",
       "\n",
       "    .dataframe thead th {\n",
       "        text-align: right;\n",
       "    }\n",
       "</style>\n",
       "<table border=\"1\" class=\"dataframe\">\n",
       "  <thead>\n",
       "    <tr style=\"text-align: right;\">\n",
       "      <th></th>\n",
       "      <th>name</th>\n",
       "      <th>newAtt</th>\n",
       "      <th>Vowels</th>\n",
       "      <th>Color</th>\n",
       "    </tr>\n",
       "    <tr>\n",
       "      <th>vertex ID</th>\n",
       "      <th></th>\n",
       "      <th></th>\n",
       "      <th></th>\n",
       "      <th></th>\n",
       "    </tr>\n",
       "  </thead>\n",
       "  <tbody>\n",
       "    <tr>\n",
       "      <th>0</th>\n",
       "      <td>A</td>\n",
       "      <td>New attribute</td>\n",
       "      <td>True</td>\n",
       "      <td>Red</td>\n",
       "    </tr>\n",
       "    <tr>\n",
       "      <th>1</th>\n",
       "      <td>B</td>\n",
       "      <td>New attribute</td>\n",
       "      <td>False</td>\n",
       "      <td>Red</td>\n",
       "    </tr>\n",
       "    <tr>\n",
       "      <th>2</th>\n",
       "      <td>C</td>\n",
       "      <td>New attribute</td>\n",
       "      <td>False</td>\n",
       "      <td>Red</td>\n",
       "    </tr>\n",
       "    <tr>\n",
       "      <th>3</th>\n",
       "      <td>D</td>\n",
       "      <td>New attribute</td>\n",
       "      <td>False</td>\n",
       "      <td>Red</td>\n",
       "    </tr>\n",
       "    <tr>\n",
       "      <th>4</th>\n",
       "      <td>E</td>\n",
       "      <td>New attribute</td>\n",
       "      <td>True</td>\n",
       "      <td>Red</td>\n",
       "    </tr>\n",
       "    <tr>\n",
       "      <th>5</th>\n",
       "      <td>F</td>\n",
       "      <td>New attribute</td>\n",
       "      <td>False</td>\n",
       "      <td>Red</td>\n",
       "    </tr>\n",
       "  </tbody>\n",
       "</table>\n",
       "</div>"
      ],
      "text/plain": [
       "          name         newAtt  Vowels Color\n",
       "vertex ID                                  \n",
       "0            A  New attribute    True   Red\n",
       "1            B  New attribute   False   Red\n",
       "2            C  New attribute   False   Red\n",
       "3            D  New attribute   False   Red\n",
       "4            E  New attribute    True   Red\n",
       "5            F  New attribute   False   Red"
      ]
     },
     "execution_count": 21,
     "metadata": {},
     "output_type": "execute_result"
    }
   ],
   "source": [
    "g4.vs['Color']=\"Red\"\n",
    "g4.get_vertex_dataframe()"
   ]
  },
  {
   "cell_type": "markdown",
   "metadata": {},
   "source": [
    "Simple graphs are graphs which do not contain loop and multiple edges. The g.simplify() function does this for us. \n",
    "\n",
    "Create a graph g5 which contains loops and multiple edges and plot it. Then simplify it and plot it again."
   ]
  },
  {
   "cell_type": "code",
   "execution_count": 22,
   "metadata": {},
   "outputs": [
    {
     "data": {
      "image/svg+xml": [
       "<?xml version=\"1.0\" encoding=\"UTF-8\"?>\n",
       "<svg xmlns=\"http://www.w3.org/2000/svg\" xmlns:xlink=\"http://www.w3.org/1999/xlink\" width=\"300pt\" height=\"200pt\" viewBox=\"0 0 300 200\" version=\"1.1\">\n",
       "<g id=\"surface26\">\n",
       "<rect x=\"0\" y=\"0\" width=\"300\" height=\"200\" style=\"fill:rgb(100%,100%,100%);fill-opacity:1;stroke:none;\"/>\n",
       "<path style=\"fill:none;stroke-width:1;stroke-linecap:butt;stroke-linejoin:miter;stroke:rgb(26.666667%,26.666667%,26.666667%);stroke-opacity:1;stroke-miterlimit:10;\" d=\"M 280 100.058594 L 149.90625 180 \"/>\n",
       "<path style=\"fill:none;stroke-width:1;stroke-linecap:butt;stroke-linejoin:miter;stroke:rgb(26.666667%,26.666667%,26.666667%);stroke-opacity:1;stroke-miterlimit:10;\" d=\"M 305.605469 89.449219 C 305.605469 97.734375 298.890625 104.449219 290.605469 104.449219 C 282.324219 104.449219 275.605469 97.734375 275.605469 89.449219 C 275.605469 81.167969 282.324219 74.449219 290.605469 74.449219 C 298.890625 74.449219 305.605469 81.167969 305.605469 89.449219 \"/>\n",
       "<path style=\"fill:none;stroke-width:1;stroke-linecap:butt;stroke-linejoin:miter;stroke:rgb(26.666667%,26.666667%,26.666667%);stroke-opacity:1;stroke-miterlimit:10;\" d=\"M 149.90625 180 C 119.949219 131.664063 76.644531 104.976563 20 99.941406 \"/>\n",
       "<path style=\"fill:none;stroke-width:1;stroke-linecap:butt;stroke-linejoin:miter;stroke:rgb(26.666667%,26.666667%,26.666667%);stroke-opacity:1;stroke-miterlimit:10;\" d=\"M 20 99.941406 L 150.09375 20 \"/>\n",
       "<path style=\"fill:none;stroke-width:1;stroke-linecap:butt;stroke-linejoin:miter;stroke:rgb(26.666667%,26.666667%,26.666667%);stroke-opacity:1;stroke-miterlimit:10;\" d=\"M 280 100.058594 C 256.710938 40.894531 213.410156 14.207031 150.09375 20 \"/>\n",
       "<path style=\"fill:none;stroke-width:1;stroke-linecap:butt;stroke-linejoin:miter;stroke:rgb(26.666667%,26.666667%,26.666667%);stroke-opacity:1;stroke-miterlimit:10;\" d=\"M 280 100.058594 C 216.683594 105.847656 173.382813 79.164063 150.09375 20 \"/>\n",
       "<path style=\"fill:none;stroke-width:1;stroke-linecap:butt;stroke-linejoin:miter;stroke:rgb(26.666667%,26.666667%,26.666667%);stroke-opacity:1;stroke-miterlimit:10;\" d=\"M 280 100.058594 L 150.09375 20 \"/>\n",
       "<path style=\"fill:none;stroke-width:1;stroke-linecap:butt;stroke-linejoin:miter;stroke:rgb(26.666667%,26.666667%,26.666667%);stroke-opacity:1;stroke-miterlimit:10;\" d=\"M 149.90625 180 C 93.261719 174.964844 49.960938 148.28125 20 99.941406 \"/>\n",
       "<path style=\"fill:none;stroke-width:1;stroke-linecap:butt;stroke-linejoin:miter;stroke:rgb(26.666667%,26.666667%,26.666667%);stroke-opacity:1;stroke-miterlimit:10;\" d=\"M 149.90625 180 C 133.289063 110.011719 89.988281 83.328125 20 99.941406 \"/>\n",
       "<path style=\"fill:none;stroke-width:1;stroke-linecap:butt;stroke-linejoin:miter;stroke:rgb(26.666667%,26.666667%,26.666667%);stroke-opacity:1;stroke-miterlimit:10;\" d=\"M 149.90625 180 C 79.917969 196.617188 36.617188 169.929688 20 99.941406 \"/>\n",
       "<path style=\"fill:none;stroke-width:1;stroke-linecap:butt;stroke-linejoin:miter;stroke:rgb(26.666667%,26.666667%,26.666667%);stroke-opacity:1;stroke-miterlimit:10;\" d=\"M 149.90625 180 L 20 99.941406 \"/>\n",
       "<path style=\"fill-rule:nonzero;fill:rgb(100%,0%,0%);fill-opacity:1;stroke-width:1;stroke-linecap:butt;stroke-linejoin:miter;stroke:rgb(0%,0%,0%);stroke-opacity:1;stroke-miterlimit:10;\" d=\"M 290 100.058594 C 290 105.578125 285.523438 110.058594 280 110.058594 C 274.476563 110.058594 270 105.578125 270 100.058594 C 270 94.535156 274.476563 90.058594 280 90.058594 C 285.523438 90.058594 290 94.535156 290 100.058594 \"/>\n",
       "<path style=\"fill-rule:nonzero;fill:rgb(100%,0%,0%);fill-opacity:1;stroke-width:1;stroke-linecap:butt;stroke-linejoin:miter;stroke:rgb(0%,0%,0%);stroke-opacity:1;stroke-miterlimit:10;\" d=\"M 159.90625 180 C 159.90625 185.523438 155.429688 190 149.90625 190 C 144.382813 190 139.90625 185.523438 139.90625 180 C 139.90625 174.476563 144.382813 170 149.90625 170 C 155.429688 170 159.90625 174.476563 159.90625 180 \"/>\n",
       "<path style=\"fill-rule:nonzero;fill:rgb(100%,0%,0%);fill-opacity:1;stroke-width:1;stroke-linecap:butt;stroke-linejoin:miter;stroke:rgb(0%,0%,0%);stroke-opacity:1;stroke-miterlimit:10;\" d=\"M 30 99.941406 C 30 105.464844 25.523438 109.941406 20 109.941406 C 14.476563 109.941406 10 105.464844 10 99.941406 C 10 94.421875 14.476563 89.941406 20 89.941406 C 25.523438 89.941406 30 94.421875 30 99.941406 \"/>\n",
       "<path style=\"fill-rule:nonzero;fill:rgb(100%,0%,0%);fill-opacity:1;stroke-width:1;stroke-linecap:butt;stroke-linejoin:miter;stroke:rgb(0%,0%,0%);stroke-opacity:1;stroke-miterlimit:10;\" d=\"M 160.09375 20 C 160.09375 25.523438 155.617188 30 150.09375 30 C 144.570313 30 140.09375 25.523438 140.09375 20 C 140.09375 14.476563 144.570313 10 150.09375 10 C 155.617188 10 160.09375 14.476563 160.09375 20 \"/>\n",
       "</g>\n",
       "</svg>\n"
      ],
      "text/plain": [
       "<igraph.drawing.Plot at 0x28a96276130>"
      ]
     },
     "execution_count": 22,
     "metadata": {
      "image/svg+xml": {
       "isolated": true
      }
     },
     "output_type": "execute_result"
    }
   ],
   "source": [
    "g5= Graph(edges=[[0,1],[0,0],[1,2], [2,3],[3,0],[0,3],[3,0],[2,1],[1,2],[1,2],[2,1]])\n",
    "plot(g5,bbox=(300, 200))"
   ]
  },
  {
   "cell_type": "code",
   "execution_count": 23,
   "metadata": {},
   "outputs": [
    {
     "data": {
      "image/svg+xml": [
       "<?xml version=\"1.0\" encoding=\"UTF-8\"?>\n",
       "<svg xmlns=\"http://www.w3.org/2000/svg\" xmlns:xlink=\"http://www.w3.org/1999/xlink\" width=\"300pt\" height=\"200pt\" viewBox=\"0 0 300 200\" version=\"1.1\">\n",
       "<g id=\"surface32\">\n",
       "<rect x=\"0\" y=\"0\" width=\"300\" height=\"200\" style=\"fill:rgb(100%,100%,100%);fill-opacity:1;stroke:none;\"/>\n",
       "<path style=\"fill:none;stroke-width:1;stroke-linecap:butt;stroke-linejoin:miter;stroke:rgb(26.666667%,26.666667%,26.666667%);stroke-opacity:1;stroke-miterlimit:10;\" d=\"M 280 100.058594 L 149.90625 180 \"/>\n",
       "<path style=\"fill:none;stroke-width:1;stroke-linecap:butt;stroke-linejoin:miter;stroke:rgb(26.666667%,26.666667%,26.666667%);stroke-opacity:1;stroke-miterlimit:10;\" d=\"M 280 100.058594 L 150.09375 20 \"/>\n",
       "<path style=\"fill:none;stroke-width:1;stroke-linecap:butt;stroke-linejoin:miter;stroke:rgb(26.666667%,26.666667%,26.666667%);stroke-opacity:1;stroke-miterlimit:10;\" d=\"M 149.90625 180 L 20 99.941406 \"/>\n",
       "<path style=\"fill:none;stroke-width:1;stroke-linecap:butt;stroke-linejoin:miter;stroke:rgb(26.666667%,26.666667%,26.666667%);stroke-opacity:1;stroke-miterlimit:10;\" d=\"M 20 99.941406 L 150.09375 20 \"/>\n",
       "<path style=\"fill-rule:nonzero;fill:rgb(100%,0%,0%);fill-opacity:1;stroke-width:1;stroke-linecap:butt;stroke-linejoin:miter;stroke:rgb(0%,0%,0%);stroke-opacity:1;stroke-miterlimit:10;\" d=\"M 290 100.058594 C 290 105.578125 285.523438 110.058594 280 110.058594 C 274.476563 110.058594 270 105.578125 270 100.058594 C 270 94.535156 274.476563 90.058594 280 90.058594 C 285.523438 90.058594 290 94.535156 290 100.058594 \"/>\n",
       "<path style=\"fill-rule:nonzero;fill:rgb(100%,0%,0%);fill-opacity:1;stroke-width:1;stroke-linecap:butt;stroke-linejoin:miter;stroke:rgb(0%,0%,0%);stroke-opacity:1;stroke-miterlimit:10;\" d=\"M 159.90625 180 C 159.90625 185.523438 155.429688 190 149.90625 190 C 144.382813 190 139.90625 185.523438 139.90625 180 C 139.90625 174.476563 144.382813 170 149.90625 170 C 155.429688 170 159.90625 174.476563 159.90625 180 \"/>\n",
       "<path style=\"fill-rule:nonzero;fill:rgb(100%,0%,0%);fill-opacity:1;stroke-width:1;stroke-linecap:butt;stroke-linejoin:miter;stroke:rgb(0%,0%,0%);stroke-opacity:1;stroke-miterlimit:10;\" d=\"M 30 99.941406 C 30 105.464844 25.523438 109.941406 20 109.941406 C 14.476563 109.941406 10 105.464844 10 99.941406 C 10 94.421875 14.476563 89.941406 20 89.941406 C 25.523438 89.941406 30 94.421875 30 99.941406 \"/>\n",
       "<path style=\"fill-rule:nonzero;fill:rgb(100%,0%,0%);fill-opacity:1;stroke-width:1;stroke-linecap:butt;stroke-linejoin:miter;stroke:rgb(0%,0%,0%);stroke-opacity:1;stroke-miterlimit:10;\" d=\"M 160.09375 20 C 160.09375 25.523438 155.617188 30 150.09375 30 C 144.570313 30 140.09375 25.523438 140.09375 20 C 140.09375 14.476563 144.570313 10 150.09375 10 C 155.617188 10 160.09375 14.476563 160.09375 20 \"/>\n",
       "</g>\n",
       "</svg>\n"
      ],
      "text/plain": [
       "<igraph.drawing.Plot at 0x28a96255f10>"
      ]
     },
     "execution_count": 23,
     "metadata": {
      "image/svg+xml": {
       "isolated": true
      }
     },
     "output_type": "execute_result"
    }
   ],
   "source": [
    "g5_simple=g5.simplify()\n",
    "plot(g5_simple,bbox=(300, 200))"
   ]
  },
  {
   "cell_type": "markdown",
   "metadata": {},
   "source": [
    "# 1.3 Specific graphs and graph models\n",
    "\n",
    "There are some specific graphs that can be done with igraph functions:\n",
    "\n",
    "* Full graph\n",
    "* Simple star graph\n",
    "* Tree graph\n",
    "* Ring graph\n",
    "* ...\n",
    "\n",
    "\n",
    "You have an example here. Check what others you can find in the documentation: https://igraph.org/python/doc/tutorial/generation.html"
   ]
  },
  {
   "cell_type": "code",
   "execution_count": 24,
   "metadata": {},
   "outputs": [
    {
     "data": {
      "image/svg+xml": [
       "<?xml version=\"1.0\" encoding=\"UTF-8\"?>\n",
       "<svg xmlns=\"http://www.w3.org/2000/svg\" xmlns:xlink=\"http://www.w3.org/1999/xlink\" width=\"300pt\" height=\"200pt\" viewBox=\"0 0 300 200\" version=\"1.1\">\n",
       "<g id=\"surface38\">\n",
       "<rect x=\"0\" y=\"0\" width=\"300\" height=\"200\" style=\"fill:rgb(100%,100%,100%);fill-opacity:1;stroke:none;\"/>\n",
       "<path style=\"fill:none;stroke-width:1;stroke-linecap:butt;stroke-linejoin:miter;stroke:rgb(26.666667%,26.666667%,26.666667%);stroke-opacity:1;stroke-miterlimit:10;\" d=\"M 280 100.175781 L 255.011719 149.550781 \"/>\n",
       "<path style=\"fill:none;stroke-width:1;stroke-linecap:butt;stroke-linejoin:miter;stroke:rgb(26.666667%,26.666667%,26.666667%);stroke-opacity:1;stroke-miterlimit:10;\" d=\"M 255.011719 149.550781 L 189.910156 180 \"/>\n",
       "<path style=\"fill:none;stroke-width:1;stroke-linecap:butt;stroke-linejoin:miter;stroke:rgb(26.666667%,26.666667%,26.666667%);stroke-opacity:1;stroke-miterlimit:10;\" d=\"M 189.910156 180 L 109.566406 179.890625 \"/>\n",
       "<path style=\"fill:none;stroke-width:1;stroke-linecap:butt;stroke-linejoin:miter;stroke:rgb(26.666667%,26.666667%,26.666667%);stroke-opacity:1;stroke-miterlimit:10;\" d=\"M 109.566406 179.890625 L 44.667969 149.265625 \"/>\n",
       "<path style=\"fill:none;stroke-width:1;stroke-linecap:butt;stroke-linejoin:miter;stroke:rgb(26.666667%,26.666667%,26.666667%);stroke-opacity:1;stroke-miterlimit:10;\" d=\"M 44.667969 149.265625 L 20 99.824219 \"/>\n",
       "<path style=\"fill:none;stroke-width:1;stroke-linecap:butt;stroke-linejoin:miter;stroke:rgb(26.666667%,26.666667%,26.666667%);stroke-opacity:1;stroke-miterlimit:10;\" d=\"M 20 99.824219 L 44.988281 50.449219 \"/>\n",
       "<path style=\"fill:none;stroke-width:1;stroke-linecap:butt;stroke-linejoin:miter;stroke:rgb(26.666667%,26.666667%,26.666667%);stroke-opacity:1;stroke-miterlimit:10;\" d=\"M 44.988281 50.449219 L 110.089844 20 \"/>\n",
       "<path style=\"fill:none;stroke-width:1;stroke-linecap:butt;stroke-linejoin:miter;stroke:rgb(26.666667%,26.666667%,26.666667%);stroke-opacity:1;stroke-miterlimit:10;\" d=\"M 110.089844 20 L 190.433594 20.109375 \"/>\n",
       "<path style=\"fill:none;stroke-width:1;stroke-linecap:butt;stroke-linejoin:miter;stroke:rgb(26.666667%,26.666667%,26.666667%);stroke-opacity:1;stroke-miterlimit:10;\" d=\"M 190.433594 20.109375 L 255.332031 50.734375 \"/>\n",
       "<path style=\"fill:none;stroke-width:1;stroke-linecap:butt;stroke-linejoin:miter;stroke:rgb(26.666667%,26.666667%,26.666667%);stroke-opacity:1;stroke-miterlimit:10;\" d=\"M 280 100.175781 L 255.332031 50.734375 \"/>\n",
       "<path style=\"fill-rule:nonzero;fill:rgb(100%,0%,0%);fill-opacity:1;stroke-width:1;stroke-linecap:butt;stroke-linejoin:miter;stroke:rgb(0%,0%,0%);stroke-opacity:1;stroke-miterlimit:10;\" d=\"M 290 100.175781 C 290 105.699219 285.523438 110.175781 280 110.175781 C 274.476563 110.175781 270 105.699219 270 100.175781 C 270 94.65625 274.476563 90.175781 280 90.175781 C 285.523438 90.175781 290 94.65625 290 100.175781 \"/>\n",
       "<path style=\"fill-rule:nonzero;fill:rgb(100%,0%,0%);fill-opacity:1;stroke-width:1;stroke-linecap:butt;stroke-linejoin:miter;stroke:rgb(0%,0%,0%);stroke-opacity:1;stroke-miterlimit:10;\" d=\"M 265.011719 149.550781 C 265.011719 155.074219 260.535156 159.550781 255.011719 159.550781 C 249.488281 159.550781 245.011719 155.074219 245.011719 149.550781 C 245.011719 144.03125 249.488281 139.550781 255.011719 139.550781 C 260.535156 139.550781 265.011719 144.03125 265.011719 149.550781 \"/>\n",
       "<path style=\"fill-rule:nonzero;fill:rgb(100%,0%,0%);fill-opacity:1;stroke-width:1;stroke-linecap:butt;stroke-linejoin:miter;stroke:rgb(0%,0%,0%);stroke-opacity:1;stroke-miterlimit:10;\" d=\"M 199.910156 180 C 199.910156 185.523438 195.433594 190 189.910156 190 C 184.386719 190 179.910156 185.523438 179.910156 180 C 179.910156 174.476563 184.386719 170 189.910156 170 C 195.433594 170 199.910156 174.476563 199.910156 180 \"/>\n",
       "<path style=\"fill-rule:nonzero;fill:rgb(100%,0%,0%);fill-opacity:1;stroke-width:1;stroke-linecap:butt;stroke-linejoin:miter;stroke:rgb(0%,0%,0%);stroke-opacity:1;stroke-miterlimit:10;\" d=\"M 119.566406 179.890625 C 119.566406 185.414063 115.089844 189.890625 109.566406 189.890625 C 104.042969 189.890625 99.566406 185.414063 99.566406 179.890625 C 99.566406 174.367188 104.042969 169.890625 109.566406 169.890625 C 115.089844 169.890625 119.566406 174.367188 119.566406 179.890625 \"/>\n",
       "<path style=\"fill-rule:nonzero;fill:rgb(100%,0%,0%);fill-opacity:1;stroke-width:1;stroke-linecap:butt;stroke-linejoin:miter;stroke:rgb(0%,0%,0%);stroke-opacity:1;stroke-miterlimit:10;\" d=\"M 54.667969 149.265625 C 54.667969 154.789063 50.1875 159.265625 44.667969 159.265625 C 39.144531 159.265625 34.667969 154.789063 34.667969 149.265625 C 34.667969 143.742188 39.144531 139.265625 44.667969 139.265625 C 50.1875 139.265625 54.667969 143.742188 54.667969 149.265625 \"/>\n",
       "<path style=\"fill-rule:nonzero;fill:rgb(100%,0%,0%);fill-opacity:1;stroke-width:1;stroke-linecap:butt;stroke-linejoin:miter;stroke:rgb(0%,0%,0%);stroke-opacity:1;stroke-miterlimit:10;\" d=\"M 30 99.824219 C 30 105.34375 25.523438 109.824219 20 109.824219 C 14.476563 109.824219 10 105.34375 10 99.824219 C 10 94.300781 14.476563 89.824219 20 89.824219 C 25.523438 89.824219 30 94.300781 30 99.824219 \"/>\n",
       "<path style=\"fill-rule:nonzero;fill:rgb(100%,0%,0%);fill-opacity:1;stroke-width:1;stroke-linecap:butt;stroke-linejoin:miter;stroke:rgb(0%,0%,0%);stroke-opacity:1;stroke-miterlimit:10;\" d=\"M 54.988281 50.449219 C 54.988281 55.96875 50.511719 60.449219 44.988281 60.449219 C 39.464844 60.449219 34.988281 55.96875 34.988281 50.449219 C 34.988281 44.925781 39.464844 40.449219 44.988281 40.449219 C 50.511719 40.449219 54.988281 44.925781 54.988281 50.449219 \"/>\n",
       "<path style=\"fill-rule:nonzero;fill:rgb(100%,0%,0%);fill-opacity:1;stroke-width:1;stroke-linecap:butt;stroke-linejoin:miter;stroke:rgb(0%,0%,0%);stroke-opacity:1;stroke-miterlimit:10;\" d=\"M 120.089844 20 C 120.089844 25.523438 115.613281 30 110.089844 30 C 104.566406 30 100.089844 25.523438 100.089844 20 C 100.089844 14.476563 104.566406 10 110.089844 10 C 115.613281 10 120.089844 14.476563 120.089844 20 \"/>\n",
       "<path style=\"fill-rule:nonzero;fill:rgb(100%,0%,0%);fill-opacity:1;stroke-width:1;stroke-linecap:butt;stroke-linejoin:miter;stroke:rgb(0%,0%,0%);stroke-opacity:1;stroke-miterlimit:10;\" d=\"M 200.433594 20.109375 C 200.433594 25.632813 195.957031 30.109375 190.433594 30.109375 C 184.910156 30.109375 180.433594 25.632813 180.433594 20.109375 C 180.433594 14.585938 184.910156 10.109375 190.433594 10.109375 C 195.957031 10.109375 200.433594 14.585938 200.433594 20.109375 \"/>\n",
       "<path style=\"fill-rule:nonzero;fill:rgb(100%,0%,0%);fill-opacity:1;stroke-width:1;stroke-linecap:butt;stroke-linejoin:miter;stroke:rgb(0%,0%,0%);stroke-opacity:1;stroke-miterlimit:10;\" d=\"M 265.332031 50.734375 C 265.332031 56.257813 260.855469 60.734375 255.332031 60.734375 C 249.8125 60.734375 245.332031 56.257813 245.332031 50.734375 C 245.332031 45.210938 249.8125 40.734375 255.332031 40.734375 C 260.855469 40.734375 265.332031 45.210938 265.332031 50.734375 \"/>\n",
       "</g>\n",
       "</svg>\n"
      ],
      "text/plain": [
       "<igraph.drawing.Plot at 0x28a93251220>"
      ]
     },
     "execution_count": 24,
     "metadata": {
      "image/svg+xml": {
       "isolated": true
      }
     },
     "output_type": "execute_result"
    }
   ],
   "source": [
    "g7=Graph.Ring(10)\n",
    "plot(g7, bbox=(300, 200))"
   ]
  },
  {
   "cell_type": "markdown",
   "metadata": {},
   "source": [
    "To write a graph to a file we can use different functions regarding the format. Formats available: \n",
    "* write_dot\tWrites the graph in DOT format to the given file.\n",
    "* write_edgelist\tWrites the edge list of a graph to a file.\n",
    "* write_gml\tWrites the graph in GML format to the given file.\n",
    "* write_graphml\tWrites the graph to a GraphML file.\n",
    "* write_leda\tWrites the graph to a file in LEDA native format.\n",
    "* write_lgl\tWrites the edge list of a graph to a file in .lgl format.\n",
    "* write_ncol\tWrites the edge list of a graph to a file in .ncol format.\n",
    "* write_pajek\tWrites the graph in Pajek format to the given file.\n",
    "\n",
    "Change the path to the one you want to use."
   ]
  },
  {
   "cell_type": "code",
   "execution_count": 25,
   "metadata": {},
   "outputs": [
    {
     "ename": "FileNotFoundError",
     "evalue": "[Errno 2] No such file or directory: 'C:/Users/Alvaro Romero/Downloads/edgelist.txt'",
     "output_type": "error",
     "traceback": [
      "\u001b[1;31m---------------------------------------------------------------------------\u001b[0m",
      "\u001b[1;31mFileNotFoundError\u001b[0m                         Traceback (most recent call last)",
      "\u001b[1;32m<ipython-input-25-69e78e217715>\u001b[0m in \u001b[0;36m<module>\u001b[1;34m\u001b[0m\n\u001b[1;32m----> 1\u001b[1;33m \u001b[0mg7\u001b[0m\u001b[1;33m.\u001b[0m\u001b[0mwrite_edgelist\u001b[0m\u001b[1;33m(\u001b[0m\u001b[1;34m\"C:/Users/Alvaro Romero/Downloads/edgelist.txt\"\u001b[0m\u001b[1;33m)\u001b[0m\u001b[1;33m\u001b[0m\u001b[1;33m\u001b[0m\u001b[0m\n\u001b[0m",
      "\u001b[1;31mFileNotFoundError\u001b[0m: [Errno 2] No such file or directory: 'C:/Users/Alvaro Romero/Downloads/edgelist.txt'"
     ]
    }
   ],
   "source": [
    "g7.write_edgelist(\"C:/Users/Alvaro Romero/Downloads/edgelist.txt\")"
   ]
  },
  {
   "cell_type": "markdown",
   "metadata": {},
   "source": [
    "To read from a file, we can use the corresponding function. It supports several formats: \n",
    "* Read_DL\tReads an UCINET DL file and creates a graph based on it.\n",
    "* Read_Edgelist\tReads an edge list from a file and creates a graph based on it.\n",
    "* Read_GML\tReads a GML file and creates a graph based on it.\n",
    "* Read_GraphDB\tReads a GraphDB format file and creates a graph based on it.\n",
    "* Read_GraphML\tReads a GraphML format file and creates a graph based on it.\n",
    "* Read_Lgl\tReads an .lgl file used by LGL.\n",
    "* Read_Ncol\tReads an .ncol file used by LGL.\n",
    "* Read_Pajek\tReads a Pajek format file and creates a graph based on it."
   ]
  },
  {
   "cell_type": "code",
   "execution_count": null,
   "metadata": {},
   "outputs": [],
   "source": [
    "g8=Graph.Read_Edgelist(\"C:/Users/Alvaro Romero/Downloads/edgelist.txt\", directed=False)\n",
    "plot(g8, bbox=(300, 200))"
   ]
  },
  {
   "cell_type": "markdown",
   "metadata": {},
   "source": [
    "A common practice is to store edges in a pandas.DataFrame, where the two first columns are the source and target vertex ids, and any additional column indicates edge attributes. You can generate a graph via"
   ]
  },
  {
   "cell_type": "code",
   "execution_count": 28,
   "metadata": {},
   "outputs": [
    {
     "data": {
      "image/svg+xml": [
       "<?xml version=\"1.0\" encoding=\"UTF-8\"?>\n",
       "<svg xmlns=\"http://www.w3.org/2000/svg\" xmlns:xlink=\"http://www.w3.org/1999/xlink\" width=\"300pt\" height=\"200pt\" viewBox=\"0 0 300 200\" version=\"1.1\">\n",
       "<g id=\"surface44\">\n",
       "<rect x=\"0\" y=\"0\" width=\"300\" height=\"200\" style=\"fill:rgb(100%,100%,100%);fill-opacity:1;stroke:none;\"/>\n",
       "<path style=\"fill:none;stroke-width:1;stroke-linecap:butt;stroke-linejoin:miter;stroke:rgb(26.666667%,26.666667%,26.666667%);stroke-opacity:1;stroke-miterlimit:10;\" d=\"M 280 100 L 20 180 \"/>\n",
       "<path style=\"fill:none;stroke-width:1;stroke-linecap:butt;stroke-linejoin:miter;stroke:rgb(26.666667%,26.666667%,26.666667%);stroke-opacity:1;stroke-miterlimit:10;\" d=\"M 20 180 L 20 20 \"/>\n",
       "<path style=\"fill:none;stroke-width:1;stroke-linecap:butt;stroke-linejoin:miter;stroke:rgb(26.666667%,26.666667%,26.666667%);stroke-opacity:1;stroke-miterlimit:10;\" d=\"M 280 100 L 20 20 \"/>\n",
       "<path style=\"fill-rule:nonzero;fill:rgb(100%,0%,0%);fill-opacity:1;stroke-width:1;stroke-linecap:butt;stroke-linejoin:miter;stroke:rgb(0%,0%,0%);stroke-opacity:1;stroke-miterlimit:10;\" d=\"M 290 100 C 290 105.523438 285.523438 110 280 110 C 274.476563 110 270 105.523438 270 100 C 270 94.476563 274.476563 90 280 90 C 285.523438 90 290 94.476563 290 100 \"/>\n",
       "<path style=\"fill-rule:nonzero;fill:rgb(100%,0%,0%);fill-opacity:1;stroke-width:1;stroke-linecap:butt;stroke-linejoin:miter;stroke:rgb(0%,0%,0%);stroke-opacity:1;stroke-miterlimit:10;\" d=\"M 30 180 C 30 185.523438 25.523438 190 20 190 C 14.476563 190 10 185.523438 10 180 C 10 174.476563 14.476563 170 20 170 C 25.523438 170 30 174.476563 30 180 \"/>\n",
       "<path style=\"fill-rule:nonzero;fill:rgb(100%,0%,0%);fill-opacity:1;stroke-width:1;stroke-linecap:butt;stroke-linejoin:miter;stroke:rgb(0%,0%,0%);stroke-opacity:1;stroke-miterlimit:10;\" d=\"M 30 20 C 30 25.523438 25.523438 30 20 30 C 14.476563 30 10 25.523438 10 20 C 10 14.476563 14.476563 10 20 10 C 25.523438 10 30 14.476563 30 20 \"/>\n",
       "</g>\n",
       "</svg>\n"
      ],
      "text/plain": [
       "<igraph.drawing.Plot at 0x28a9625cd30>"
      ]
     },
     "execution_count": 28,
     "metadata": {
      "image/svg+xml": {
       "isolated": true
      }
     },
     "output_type": "execute_result"
    }
   ],
   "source": [
    "df=pd.DataFrame({'From': [0,1,2], 'To': [1,2,0]})\n",
    "g9 = Graph.DataFrame(df, directed=False)\n",
    "plot(g9, bbox=(300, 200))"
   ]
  },
  {
   "cell_type": "markdown",
   "metadata": {},
   "source": [
    "# 2. Network and node descriptives\n",
    "\n",
    "Node degree is the number of edges adjacents to node i.\n",
    "\n",
    "The function degree() has a mode of \"in\" for in-degree, \"out\" for out-degree, and all or total for total degree."
   ]
  },
  {
   "cell_type": "code",
   "execution_count": 29,
   "metadata": {},
   "outputs": [
    {
     "data": {
      "image/svg+xml": [
       "<?xml version=\"1.0\" encoding=\"UTF-8\"?>\n",
       "<svg xmlns=\"http://www.w3.org/2000/svg\" xmlns:xlink=\"http://www.w3.org/1999/xlink\" width=\"300pt\" height=\"200pt\" viewBox=\"0 0 300 200\" version=\"1.1\">\n",
       "<defs>\n",
       "<g>\n",
       "<symbol overflow=\"visible\" id=\"glyph0-0\">\n",
       "<path style=\"stroke:none;\" d=\"M 1.75 0 L 1.75 -8.75 L 8.75 -8.75 L 8.75 0 Z M 1.96875 -0.21875 L 8.53125 -0.21875 L 8.53125 -8.53125 L 1.96875 -8.53125 Z M 1.96875 -0.21875 \"/>\n",
       "</symbol>\n",
       "<symbol overflow=\"visible\" id=\"glyph0-1\">\n",
       "<path style=\"stroke:none;\" d=\"M -0.0195313 0 L 3.828125 -10.023438 L 5.257813 -10.023438 L 9.359375 0 L 7.847656 0 L 6.679688 -3.035156 L 2.488281 -3.035156 L 1.386719 0 Z M 2.871094 -4.117188 L 6.269531 -4.117188 L 5.222656 -6.890625 C 4.898438 -7.734375 4.664063 -8.425781 4.511719 -8.96875 C 4.382813 -8.324219 4.203125 -7.6875 3.972656 -7.054688 Z M 2.871094 -4.117188 \"/>\n",
       "</symbol>\n",
       "<symbol overflow=\"visible\" id=\"glyph0-2\">\n",
       "<path style=\"stroke:none;\" d=\"M 1.023438 0 L 1.023438 -10.023438 L 4.785156 -10.023438 C 5.546875 -10.019531 6.160156 -9.917969 6.625 -9.71875 C 7.085938 -9.511719 7.449219 -9.199219 7.714844 -8.78125 C 7.976563 -8.355469 8.109375 -7.914063 8.109375 -7.457031 C 8.109375 -7.027344 7.992188 -6.625 7.757813 -6.246094 C 7.523438 -5.867188 7.171875 -5.5625 6.707031 -5.332031 C 7.3125 -5.152344 7.777344 -4.847656 8.105469 -4.421875 C 8.425781 -3.992188 8.589844 -3.488281 8.59375 -2.90625 C 8.589844 -2.4375 8.492188 -2 8.296875 -1.597656 C 8.097656 -1.191406 7.851563 -0.878906 7.5625 -0.664063 C 7.269531 -0.441406 6.902344 -0.277344 6.464844 -0.167969 C 6.019531 -0.0546875 5.480469 0 4.847656 0 Z M 2.351563 -5.8125 L 4.519531 -5.8125 C 5.101563 -5.8125 5.523438 -5.847656 5.78125 -5.925781 C 6.117188 -6.023438 6.371094 -6.191406 6.542969 -6.425781 C 6.710938 -6.65625 6.796875 -6.949219 6.800781 -7.300781 C 6.796875 -7.632813 6.71875 -7.925781 6.5625 -8.179688 C 6.402344 -8.429688 6.171875 -8.601563 5.878906 -8.699219 C 5.578125 -8.789063 5.070313 -8.835938 4.355469 -8.839844 L 2.351563 -8.839844 Z M 2.351563 -1.183594 L 4.847656 -1.183594 C 5.269531 -1.183594 5.570313 -1.199219 5.75 -1.230469 C 6.050781 -1.285156 6.304688 -1.375 6.511719 -1.503906 C 6.714844 -1.628906 6.886719 -1.8125 7.019531 -2.058594 C 7.152344 -2.300781 7.21875 -2.585938 7.21875 -2.90625 C 7.21875 -3.277344 7.121094 -3.601563 6.929688 -3.878906 C 6.738281 -4.152344 6.472656 -4.34375 6.132813 -4.460938 C 5.792969 -4.570313 5.304688 -4.628906 4.667969 -4.628906 L 2.351563 -4.628906 Z M 2.351563 -1.183594 \"/>\n",
       "</symbol>\n",
       "<symbol overflow=\"visible\" id=\"glyph0-3\">\n",
       "<path style=\"stroke:none;\" d=\"M 8.230469 -3.515625 L 9.554688 -3.179688 C 9.277344 -2.089844 8.777344 -1.257813 8.054688 -0.6875 C 7.332031 -0.113281 6.449219 0.167969 5.40625 0.171875 C 4.324219 0.167969 3.445313 -0.046875 2.773438 -0.488281 C 2.09375 -0.925781 1.578125 -1.5625 1.226563 -2.398438 C 0.867188 -3.226563 0.691406 -4.125 0.695313 -5.085938 C 0.691406 -6.128906 0.890625 -7.039063 1.292969 -7.816406 C 1.691406 -8.59375 2.257813 -9.183594 2.996094 -9.585938 C 3.730469 -9.988281 4.542969 -10.1875 5.429688 -10.191406 C 6.425781 -10.1875 7.269531 -9.933594 7.957031 -9.425781 C 8.640625 -8.914063 9.117188 -8.195313 9.386719 -7.273438 L 8.078125 -6.964844 C 7.84375 -7.691406 7.507813 -8.222656 7.066406 -8.558594 C 6.625 -8.890625 6.066406 -9.058594 5.398438 -9.058594 C 4.625 -9.058594 3.984375 -8.871094 3.46875 -8.503906 C 2.953125 -8.128906 2.589844 -7.632813 2.378906 -7.015625 C 2.167969 -6.390625 2.0625 -5.75 2.0625 -5.09375 C 2.0625 -4.234375 2.183594 -3.492188 2.433594 -2.859375 C 2.679688 -2.222656 3.066406 -1.746094 3.59375 -1.433594 C 4.117188 -1.117188 4.6875 -0.960938 5.296875 -0.964844 C 6.039063 -0.960938 6.667969 -1.175781 7.183594 -1.605469 C 7.699219 -2.035156 8.046875 -2.671875 8.230469 -3.515625 Z M 8.230469 -3.515625 \"/>\n",
       "</symbol>\n",
       "<symbol overflow=\"visible\" id=\"glyph0-4\">\n",
       "<path style=\"stroke:none;\" d=\"M 1.078125 0 L 1.078125 -10.023438 L 4.53125 -10.023438 C 5.308594 -10.019531 5.90625 -9.972656 6.316406 -9.878906 C 6.890625 -9.746094 7.378906 -9.503906 7.785156 -9.160156 C 8.3125 -8.710938 8.707031 -8.140625 8.972656 -7.449219 C 9.230469 -6.75 9.363281 -5.957031 9.367188 -5.066406 C 9.363281 -4.300781 9.273438 -3.625 9.097656 -3.039063 C 8.917969 -2.449219 8.691406 -1.964844 8.414063 -1.582031 C 8.136719 -1.195313 7.832031 -0.890625 7.503906 -0.671875 C 7.171875 -0.449219 6.773438 -0.28125 6.304688 -0.171875 C 5.835938 -0.0546875 5.296875 0 4.695313 0 Z M 2.40625 -1.183594 L 4.546875 -1.183594 C 5.207031 -1.183594 5.722656 -1.242188 6.101563 -1.367188 C 6.472656 -1.484375 6.773438 -1.660156 7 -1.886719 C 7.3125 -2.199219 7.558594 -2.621094 7.734375 -3.15625 C 7.910156 -3.683594 7.996094 -4.328125 8 -5.085938 C 7.996094 -6.132813 7.824219 -6.9375 7.480469 -7.5 C 7.132813 -8.0625 6.714844 -8.4375 6.226563 -8.632813 C 5.871094 -8.765625 5.300781 -8.835938 4.511719 -8.839844 L 2.40625 -8.839844 Z M 2.40625 -1.183594 \"/>\n",
       "</symbol>\n",
       "<symbol overflow=\"visible\" id=\"glyph0-5\">\n",
       "<path style=\"stroke:none;\" d=\"M 1.109375 0 L 1.109375 -10.023438 L 8.351563 -10.023438 L 8.351563 -8.839844 L 2.433594 -8.839844 L 2.433594 -5.769531 L 7.976563 -5.769531 L 7.976563 -4.59375 L 2.433594 -4.59375 L 2.433594 -1.183594 L 8.585938 -1.183594 L 8.585938 0 Z M 1.109375 0 \"/>\n",
       "</symbol>\n",
       "<symbol overflow=\"visible\" id=\"glyph0-6\">\n",
       "<path style=\"stroke:none;\" d=\"M 1.148438 0 L 1.148438 -10.023438 L 7.910156 -10.023438 L 7.910156 -8.839844 L 2.476563 -8.839844 L 2.476563 -5.734375 L 7.179688 -5.734375 L 7.179688 -4.554688 L 2.476563 -4.554688 L 2.476563 0 Z M 1.148438 0 \"/>\n",
       "</symbol>\n",
       "</g>\n",
       "</defs>\n",
       "<g id=\"surface50\">\n",
       "<rect x=\"0\" y=\"0\" width=\"300\" height=\"200\" style=\"fill:rgb(100%,100%,100%);fill-opacity:1;stroke:none;\"/>\n",
       "<path style=\"fill:none;stroke-width:1;stroke-linecap:butt;stroke-linejoin:miter;stroke:rgb(26.666667%,26.666667%,26.666667%);stroke-opacity:1;stroke-miterlimit:10;\" d=\"M 280 134.703125 L 221.109375 180 \"/>\n",
       "<path style=\"fill:none;stroke-width:1;stroke-linecap:butt;stroke-linejoin:miter;stroke:rgb(26.666667%,26.666667%,26.666667%);stroke-opacity:1;stroke-miterlimit:10;\" d=\"M 221.109375 180 C 233.839844 147.605469 226.4375 120.761719 198.90625 99.472656 \"/>\n",
       "<path style=\"fill:none;stroke-width:1;stroke-linecap:butt;stroke-linejoin:miter;stroke:rgb(26.666667%,26.666667%,26.666667%);stroke-opacity:1;stroke-miterlimit:10;\" d=\"M 221.109375 180 C 193.578125 158.707031 186.175781 131.867188 198.90625 99.472656 \"/>\n",
       "<path style=\"fill:none;stroke-width:1;stroke-linecap:butt;stroke-linejoin:miter;stroke:rgb(26.666667%,26.666667%,26.666667%);stroke-opacity:1;stroke-miterlimit:10;\" d=\"M 221.109375 180 L 198.90625 99.472656 \"/>\n",
       "<path style=\"fill:none;stroke-width:1;stroke-linecap:butt;stroke-linejoin:miter;stroke:rgb(26.666667%,26.666667%,26.666667%);stroke-opacity:1;stroke-miterlimit:10;\" d=\"M 305.605469 124.09375 C 305.605469 132.378906 298.890625 139.09375 290.605469 139.09375 C 282.324219 139.09375 275.605469 132.378906 275.605469 124.09375 C 275.605469 115.808594 282.324219 109.09375 290.605469 109.09375 C 298.890625 109.09375 305.605469 115.808594 305.605469 124.09375 \"/>\n",
       "<path style=\"fill:none;stroke-width:1;stroke-linecap:butt;stroke-linejoin:miter;stroke:rgb(26.666667%,26.666667%,26.666667%);stroke-opacity:1;stroke-miterlimit:10;\" d=\"M 280 134.703125 L 198.90625 99.472656 \"/>\n",
       "<path style=\"fill:none;stroke-width:1;stroke-linecap:butt;stroke-linejoin:miter;stroke:rgb(26.666667%,26.666667%,26.666667%);stroke-opacity:1;stroke-miterlimit:10;\" d=\"M 198.90625 99.472656 L 106.6875 95.4375 \"/>\n",
       "<path style=\"fill:none;stroke-width:1;stroke-linecap:butt;stroke-linejoin:miter;stroke:rgb(26.666667%,26.666667%,26.666667%);stroke-opacity:1;stroke-miterlimit:10;\" d=\"M 106.6875 95.4375 L 20 91.992188 \"/>\n",
       "<path style=\"fill:none;stroke-width:1;stroke-linecap:butt;stroke-linejoin:miter;stroke:rgb(26.666667%,26.666667%,26.666667%);stroke-opacity:1;stroke-miterlimit:10;\" d=\"M 198.90625 99.472656 L 232.507813 20 \"/>\n",
       "<path style=\"fill-rule:nonzero;fill:rgb(100%,0%,0%);fill-opacity:1;stroke-width:1;stroke-linecap:butt;stroke-linejoin:miter;stroke:rgb(0%,0%,0%);stroke-opacity:1;stroke-miterlimit:10;\" d=\"M 290 134.703125 C 290 140.222656 285.523438 144.703125 280 144.703125 C 274.476563 144.703125 270 140.222656 270 134.703125 C 270 129.179688 274.476563 124.703125 280 124.703125 C 285.523438 124.703125 290 129.179688 290 134.703125 \"/>\n",
       "<path style=\"fill-rule:nonzero;fill:rgb(100%,0%,0%);fill-opacity:1;stroke-width:1;stroke-linecap:butt;stroke-linejoin:miter;stroke:rgb(0%,0%,0%);stroke-opacity:1;stroke-miterlimit:10;\" d=\"M 231.109375 180 C 231.109375 185.523438 226.632813 190 221.109375 190 C 215.585938 190 211.109375 185.523438 211.109375 180 C 211.109375 174.476563 215.585938 170 221.109375 170 C 226.632813 170 231.109375 174.476563 231.109375 180 \"/>\n",
       "<path style=\"fill-rule:nonzero;fill:rgb(100%,0%,0%);fill-opacity:1;stroke-width:1;stroke-linecap:butt;stroke-linejoin:miter;stroke:rgb(0%,0%,0%);stroke-opacity:1;stroke-miterlimit:10;\" d=\"M 208.90625 99.472656 C 208.90625 104.992188 204.425781 109.472656 198.90625 109.472656 C 193.382813 109.472656 188.90625 104.992188 188.90625 99.472656 C 188.90625 93.949219 193.382813 89.472656 198.90625 89.472656 C 204.425781 89.472656 208.90625 93.949219 208.90625 99.472656 \"/>\n",
       "<path style=\"fill-rule:nonzero;fill:rgb(100%,0%,0%);fill-opacity:1;stroke-width:1;stroke-linecap:butt;stroke-linejoin:miter;stroke:rgb(0%,0%,0%);stroke-opacity:1;stroke-miterlimit:10;\" d=\"M 116.6875 95.4375 C 116.6875 100.960938 112.210938 105.4375 106.6875 105.4375 C 101.164063 105.4375 96.6875 100.960938 96.6875 95.4375 C 96.6875 89.914063 101.164063 85.4375 106.6875 85.4375 C 112.210938 85.4375 116.6875 89.914063 116.6875 95.4375 \"/>\n",
       "<path style=\"fill-rule:nonzero;fill:rgb(100%,0%,0%);fill-opacity:1;stroke-width:1;stroke-linecap:butt;stroke-linejoin:miter;stroke:rgb(0%,0%,0%);stroke-opacity:1;stroke-miterlimit:10;\" d=\"M 30 91.992188 C 30 97.515625 25.523438 101.992188 20 101.992188 C 14.476563 101.992188 10 97.515625 10 91.992188 C 10 86.472656 14.476563 81.992188 20 81.992188 C 25.523438 81.992188 30 86.472656 30 91.992188 \"/>\n",
       "<path style=\"fill-rule:nonzero;fill:rgb(100%,0%,0%);fill-opacity:1;stroke-width:1;stroke-linecap:butt;stroke-linejoin:miter;stroke:rgb(0%,0%,0%);stroke-opacity:1;stroke-miterlimit:10;\" d=\"M 242.507813 20 C 242.507813 25.523438 238.03125 30 232.507813 30 C 226.984375 30 222.507813 25.523438 222.507813 20 C 222.507813 14.476563 226.984375 10 232.507813 10 C 238.03125 10 242.507813 14.476563 242.507813 20 \"/>\n",
       "<g style=\"fill:rgb(0%,0%,0%);fill-opacity:1;\">\n",
       "  <use xlink:href=\"#glyph0-1\" x=\"275.332031\" y=\"141.210938\"/>\n",
       "</g>\n",
       "<g style=\"fill:rgb(0%,0%,0%);fill-opacity:1;\">\n",
       "  <use xlink:href=\"#glyph0-2\" x=\"216.300781\" y=\"186.511719\"/>\n",
       "</g>\n",
       "<g style=\"fill:rgb(0%,0%,0%);fill-opacity:1;\">\n",
       "  <use xlink:href=\"#glyph0-3\" x=\"193.777344\" y=\"106.066406\"/>\n",
       "</g>\n",
       "<g style=\"fill:rgb(0%,0%,0%);fill-opacity:1;\">\n",
       "  <use xlink:href=\"#glyph0-4\" x=\"101.464844\" y=\"101.949219\"/>\n",
       "</g>\n",
       "<g style=\"fill:rgb(0%,0%,0%);fill-opacity:1;\">\n",
       "  <use xlink:href=\"#glyph0-5\" x=\"15.152344\" y=\"98.503906\"/>\n",
       "</g>\n",
       "<g style=\"fill:rgb(0%,0%,0%);fill-opacity:1;\">\n",
       "  <use xlink:href=\"#glyph0-6\" x=\"227.976563\" y=\"26.511719\"/>\n",
       "</g>\n",
       "</g>\n",
       "</svg>\n"
      ],
      "text/plain": [
       "<igraph.drawing.Plot at 0x28a9625ce80>"
      ]
     },
     "execution_count": 29,
     "metadata": {
      "image/svg+xml": {
       "isolated": true
      }
     },
     "output_type": "execute_result"
    }
   ],
   "source": [
    "g5=Graph.Formula('A-B, B-C, B-C, B-C, A-A, C-A, C-D, D-E, C-F',simplify = False)\n",
    "plot(g5, bbox=(300, 200),vertex_label=g5.vs['name'])"
   ]
  },
  {
   "cell_type": "code",
   "execution_count": null,
   "metadata": {},
   "outputs": [],
   "source": [
    "g5.degree(mode='all')"
   ]
  },
  {
   "cell_type": "markdown",
   "metadata": {},
   "source": [
    "Create the graph as directed and use the different modes to see the differences"
   ]
  },
  {
   "cell_type": "code",
   "execution_count": 30,
   "metadata": {
    "scrolled": true
   },
   "outputs": [
    {
     "data": {
      "image/svg+xml": [
       "<?xml version=\"1.0\" encoding=\"UTF-8\"?>\n",
       "<svg xmlns=\"http://www.w3.org/2000/svg\" xmlns:xlink=\"http://www.w3.org/1999/xlink\" width=\"300pt\" height=\"200pt\" viewBox=\"0 0 300 200\" version=\"1.1\">\n",
       "<defs>\n",
       "<g>\n",
       "<symbol overflow=\"visible\" id=\"glyph0-0\">\n",
       "<path style=\"stroke:none;\" d=\"M 1.75 0 L 1.75 -8.75 L 8.75 -8.75 L 8.75 0 Z M 1.96875 -0.21875 L 8.53125 -0.21875 L 8.53125 -8.53125 L 1.96875 -8.53125 Z M 1.96875 -0.21875 \"/>\n",
       "</symbol>\n",
       "<symbol overflow=\"visible\" id=\"glyph0-1\">\n",
       "<path style=\"stroke:none;\" d=\"M -0.0195313 0 L 3.828125 -10.023438 L 5.257813 -10.023438 L 9.359375 0 L 7.847656 0 L 6.679688 -3.035156 L 2.488281 -3.035156 L 1.386719 0 Z M 2.871094 -4.117188 L 6.269531 -4.117188 L 5.222656 -6.890625 C 4.898438 -7.734375 4.664063 -8.425781 4.511719 -8.96875 C 4.382813 -8.324219 4.203125 -7.6875 3.972656 -7.054688 Z M 2.871094 -4.117188 \"/>\n",
       "</symbol>\n",
       "<symbol overflow=\"visible\" id=\"glyph0-2\">\n",
       "<path style=\"stroke:none;\" d=\"M 1.023438 0 L 1.023438 -10.023438 L 4.785156 -10.023438 C 5.546875 -10.019531 6.160156 -9.917969 6.625 -9.71875 C 7.085938 -9.511719 7.449219 -9.199219 7.714844 -8.78125 C 7.976563 -8.355469 8.109375 -7.914063 8.109375 -7.457031 C 8.109375 -7.027344 7.992188 -6.625 7.757813 -6.246094 C 7.523438 -5.867188 7.171875 -5.5625 6.707031 -5.332031 C 7.3125 -5.152344 7.777344 -4.847656 8.105469 -4.421875 C 8.425781 -3.992188 8.589844 -3.488281 8.59375 -2.90625 C 8.589844 -2.4375 8.492188 -2 8.296875 -1.597656 C 8.097656 -1.191406 7.851563 -0.878906 7.5625 -0.664063 C 7.269531 -0.441406 6.902344 -0.277344 6.464844 -0.167969 C 6.019531 -0.0546875 5.480469 0 4.847656 0 Z M 2.351563 -5.8125 L 4.519531 -5.8125 C 5.101563 -5.8125 5.523438 -5.847656 5.78125 -5.925781 C 6.117188 -6.023438 6.371094 -6.191406 6.542969 -6.425781 C 6.710938 -6.65625 6.796875 -6.949219 6.800781 -7.300781 C 6.796875 -7.632813 6.71875 -7.925781 6.5625 -8.179688 C 6.402344 -8.429688 6.171875 -8.601563 5.878906 -8.699219 C 5.578125 -8.789063 5.070313 -8.835938 4.355469 -8.839844 L 2.351563 -8.839844 Z M 2.351563 -1.183594 L 4.847656 -1.183594 C 5.269531 -1.183594 5.570313 -1.199219 5.75 -1.230469 C 6.050781 -1.285156 6.304688 -1.375 6.511719 -1.503906 C 6.714844 -1.628906 6.886719 -1.8125 7.019531 -2.058594 C 7.152344 -2.300781 7.21875 -2.585938 7.21875 -2.90625 C 7.21875 -3.277344 7.121094 -3.601563 6.929688 -3.878906 C 6.738281 -4.152344 6.472656 -4.34375 6.132813 -4.460938 C 5.792969 -4.570313 5.304688 -4.628906 4.667969 -4.628906 L 2.351563 -4.628906 Z M 2.351563 -1.183594 \"/>\n",
       "</symbol>\n",
       "<symbol overflow=\"visible\" id=\"glyph0-3\">\n",
       "<path style=\"stroke:none;\" d=\"M 8.230469 -3.515625 L 9.554688 -3.179688 C 9.277344 -2.089844 8.777344 -1.257813 8.054688 -0.6875 C 7.332031 -0.113281 6.449219 0.167969 5.40625 0.171875 C 4.324219 0.167969 3.445313 -0.046875 2.773438 -0.488281 C 2.09375 -0.925781 1.578125 -1.5625 1.226563 -2.398438 C 0.867188 -3.226563 0.691406 -4.125 0.695313 -5.085938 C 0.691406 -6.128906 0.890625 -7.039063 1.292969 -7.816406 C 1.691406 -8.59375 2.257813 -9.183594 2.996094 -9.585938 C 3.730469 -9.988281 4.542969 -10.1875 5.429688 -10.191406 C 6.425781 -10.1875 7.269531 -9.933594 7.957031 -9.425781 C 8.640625 -8.914063 9.117188 -8.195313 9.386719 -7.273438 L 8.078125 -6.964844 C 7.84375 -7.691406 7.507813 -8.222656 7.066406 -8.558594 C 6.625 -8.890625 6.066406 -9.058594 5.398438 -9.058594 C 4.625 -9.058594 3.984375 -8.871094 3.46875 -8.503906 C 2.953125 -8.128906 2.589844 -7.632813 2.378906 -7.015625 C 2.167969 -6.390625 2.0625 -5.75 2.0625 -5.09375 C 2.0625 -4.234375 2.183594 -3.492188 2.433594 -2.859375 C 2.679688 -2.222656 3.066406 -1.746094 3.59375 -1.433594 C 4.117188 -1.117188 4.6875 -0.960938 5.296875 -0.964844 C 6.039063 -0.960938 6.667969 -1.175781 7.183594 -1.605469 C 7.699219 -2.035156 8.046875 -2.671875 8.230469 -3.515625 Z M 8.230469 -3.515625 \"/>\n",
       "</symbol>\n",
       "<symbol overflow=\"visible\" id=\"glyph0-4\">\n",
       "<path style=\"stroke:none;\" d=\"M 1.078125 0 L 1.078125 -10.023438 L 4.53125 -10.023438 C 5.308594 -10.019531 5.90625 -9.972656 6.316406 -9.878906 C 6.890625 -9.746094 7.378906 -9.503906 7.785156 -9.160156 C 8.3125 -8.710938 8.707031 -8.140625 8.972656 -7.449219 C 9.230469 -6.75 9.363281 -5.957031 9.367188 -5.066406 C 9.363281 -4.300781 9.273438 -3.625 9.097656 -3.039063 C 8.917969 -2.449219 8.691406 -1.964844 8.414063 -1.582031 C 8.136719 -1.195313 7.832031 -0.890625 7.503906 -0.671875 C 7.171875 -0.449219 6.773438 -0.28125 6.304688 -0.171875 C 5.835938 -0.0546875 5.296875 0 4.695313 0 Z M 2.40625 -1.183594 L 4.546875 -1.183594 C 5.207031 -1.183594 5.722656 -1.242188 6.101563 -1.367188 C 6.472656 -1.484375 6.773438 -1.660156 7 -1.886719 C 7.3125 -2.199219 7.558594 -2.621094 7.734375 -3.15625 C 7.910156 -3.683594 7.996094 -4.328125 8 -5.085938 C 7.996094 -6.132813 7.824219 -6.9375 7.480469 -7.5 C 7.132813 -8.0625 6.714844 -8.4375 6.226563 -8.632813 C 5.871094 -8.765625 5.300781 -8.835938 4.511719 -8.839844 L 2.40625 -8.839844 Z M 2.40625 -1.183594 \"/>\n",
       "</symbol>\n",
       "<symbol overflow=\"visible\" id=\"glyph0-5\">\n",
       "<path style=\"stroke:none;\" d=\"M 1.109375 0 L 1.109375 -10.023438 L 8.351563 -10.023438 L 8.351563 -8.839844 L 2.433594 -8.839844 L 2.433594 -5.769531 L 7.976563 -5.769531 L 7.976563 -4.59375 L 2.433594 -4.59375 L 2.433594 -1.183594 L 8.585938 -1.183594 L 8.585938 0 Z M 1.109375 0 \"/>\n",
       "</symbol>\n",
       "<symbol overflow=\"visible\" id=\"glyph0-6\">\n",
       "<path style=\"stroke:none;\" d=\"M 1.148438 0 L 1.148438 -10.023438 L 7.910156 -10.023438 L 7.910156 -8.839844 L 2.476563 -8.839844 L 2.476563 -5.734375 L 7.179688 -5.734375 L 7.179688 -4.554688 L 2.476563 -4.554688 L 2.476563 0 Z M 1.148438 0 \"/>\n",
       "</symbol>\n",
       "</g>\n",
       "</defs>\n",
       "<g id=\"surface56\">\n",
       "<rect x=\"0\" y=\"0\" width=\"300\" height=\"200\" style=\"fill:rgb(100%,100%,100%);fill-opacity:1;stroke:none;\"/>\n",
       "<path style=\"fill:none;stroke-width:1;stroke-linecap:butt;stroke-linejoin:miter;stroke:rgb(26.666667%,26.666667%,26.666667%);stroke-opacity:1;stroke-miterlimit:10;\" d=\"M 204.363281 180 L 150.429688 174.210938 \"/>\n",
       "<path style=\" stroke:none;fill-rule:nonzero;fill:rgb(26.666667%,26.666667%,26.666667%);fill-opacity:1;\" d=\"M 136.246094 172.6875 L 150.925781 169.601563 L 149.933594 178.820313 L 136.246094 172.6875 \"/>\n",
       "<path style=\"fill:none;stroke-width:1;stroke-linecap:butt;stroke-linejoin:miter;stroke:rgb(26.666667%,26.666667%,26.666667%);stroke-opacity:1;stroke-miterlimit:10;\" d=\"M 126.304688 171.621094 C 137.523438 171.140625 148.675781 164.828125 147.15625 154.542969 \"/>\n",
       "<path style=\" stroke:none;fill-rule:nonzero;fill:rgb(26.666667%,26.666667%,26.666667%);fill-opacity:1;\" d=\"M 145.066406 140.433594 L 151.742188 153.867188 L 142.570313 155.222656 L 145.066406 140.433594 \"/>\n",
       "<path style=\"fill:none;stroke-width:1;stroke-linecap:butt;stroke-linejoin:miter;stroke:rgb(26.666667%,26.666667%,26.666667%);stroke-opacity:1;stroke-miterlimit:10;\" d=\"M 143.574219 130.324219 C 132.351563 130.800781 121.199219 137.113281 122.71875 147.398438 \"/>\n",
       "<path style=\" stroke:none;fill-rule:nonzero;fill:rgb(26.666667%,26.666667%,26.666667%);fill-opacity:1;\" d=\"M 124.808594 161.511719 L 118.136719 148.078125 L 127.304688 146.71875 L 124.808594 161.511719 \"/>\n",
       "<path style=\"fill:none;stroke-width:1;stroke-linecap:butt;stroke-linejoin:miter;stroke:rgb(26.666667%,26.666667%,26.666667%);stroke-opacity:1;stroke-miterlimit:10;\" d=\"M 229.96875 169.394531 C 229.96875 177.675781 223.253906 184.394531 214.96875 184.394531 C 206.683594 184.394531 199.96875 177.675781 199.96875 169.394531 C 199.96875 161.109375 206.683594 154.394531 214.96875 154.394531 C 223.253906 154.394531 229.96875 161.109375 229.96875 169.394531 \"/>\n",
       "<path style=\"fill:none;stroke-width:1;stroke-linecap:butt;stroke-linejoin:miter;stroke:rgb(26.666667%,26.666667%,26.666667%);stroke-opacity:1;stroke-miterlimit:10;\" d=\"M 229.96875 169.394531 C 229.96875 177.675781 223.253906 184.394531 214.96875 184.394531 C 206.683594 184.394531 199.96875 177.675781 199.96875 169.394531 C 199.96875 161.109375 206.683594 154.394531 214.96875 154.394531 C 223.253906 154.394531 229.96875 161.109375 229.96875 169.394531 \"/>\n",
       "<path style=\"fill:none;stroke-width:1;stroke-linecap:butt;stroke-linejoin:miter;stroke:rgb(26.666667%,26.666667%,26.666667%);stroke-opacity:1;stroke-miterlimit:10;\" d=\"M 143.574219 130.324219 L 185.574219 164.644531 \"/>\n",
       "<path style=\" stroke:none;fill-rule:nonzero;fill:rgb(26.666667%,26.666667%,26.666667%);fill-opacity:1;\" d=\"M 196.617188 173.671875 L 182.640625 168.234375 L 188.503906 161.054688 L 196.617188 173.671875 \"/>\n",
       "<path style=\"fill:none;stroke-width:1;stroke-linecap:butt;stroke-linejoin:miter;stroke:rgb(26.666667%,26.666667%,26.666667%);stroke-opacity:1;stroke-miterlimit:10;\" d=\"M 143.574219 130.324219 L 199.824219 84.789063 \"/>\n",
       "<path style=\" stroke:none;fill-rule:nonzero;fill:rgb(26.666667%,26.666667%,26.666667%);fill-opacity:1;\" d=\"M 210.910156 75.8125 L 202.738281 88.390625 L 196.90625 81.183594 L 210.910156 75.8125 \"/>\n",
       "<path style=\"fill:none;stroke-width:1;stroke-linecap:butt;stroke-linejoin:miter;stroke:rgb(26.666667%,26.666667%,26.666667%);stroke-opacity:1;stroke-miterlimit:10;\" d=\"M 280 20 L 237.5625 54.273438 \"/>\n",
       "<path style=\" stroke:none;fill-rule:nonzero;fill:rgb(26.666667%,26.666667%,26.666667%);fill-opacity:1;\" d=\"M 226.464844 63.238281 L 234.648438 50.667969 L 240.472656 57.878906 L 226.464844 63.238281 \"/>\n",
       "<path style=\"fill:none;stroke-width:1;stroke-linecap:butt;stroke-linejoin:miter;stroke:rgb(26.666667%,26.666667%,26.666667%);stroke-opacity:1;stroke-miterlimit:10;\" d=\"M 20 116.410156 L 119.460938 127.609375 \"/>\n",
       "<path style=\" stroke:none;fill-rule:nonzero;fill:rgb(26.666667%,26.666667%,26.666667%);fill-opacity:1;\" d=\"M 133.636719 129.203125 L 118.941406 132.214844 L 119.976563 123 L 133.636719 129.203125 \"/>\n",
       "<path style=\"fill-rule:nonzero;fill:rgb(100%,0%,0%);fill-opacity:1;stroke-width:1;stroke-linecap:butt;stroke-linejoin:miter;stroke:rgb(0%,0%,0%);stroke-opacity:1;stroke-miterlimit:10;\" d=\"M 214.363281 180 C 214.363281 185.523438 209.886719 190 204.363281 190 C 198.839844 190 194.363281 185.523438 194.363281 180 C 194.363281 174.476563 198.839844 170 204.363281 170 C 209.886719 170 214.363281 174.476563 214.363281 180 \"/>\n",
       "<path style=\"fill-rule:nonzero;fill:rgb(100%,0%,0%);fill-opacity:1;stroke-width:1;stroke-linecap:butt;stroke-linejoin:miter;stroke:rgb(0%,0%,0%);stroke-opacity:1;stroke-miterlimit:10;\" d=\"M 136.304688 171.621094 C 136.304688 177.144531 131.824219 181.621094 126.304688 181.621094 C 120.78125 181.621094 116.304688 177.144531 116.304688 171.621094 C 116.304688 166.097656 120.78125 161.621094 126.304688 161.621094 C 131.824219 161.621094 136.304688 166.097656 136.304688 171.621094 \"/>\n",
       "<path style=\"fill-rule:nonzero;fill:rgb(100%,0%,0%);fill-opacity:1;stroke-width:1;stroke-linecap:butt;stroke-linejoin:miter;stroke:rgb(0%,0%,0%);stroke-opacity:1;stroke-miterlimit:10;\" d=\"M 153.574219 130.324219 C 153.574219 135.84375 149.09375 140.324219 143.574219 140.324219 C 138.050781 140.324219 133.574219 135.84375 133.574219 130.324219 C 133.574219 124.800781 138.050781 120.324219 143.574219 120.324219 C 149.09375 120.324219 153.574219 124.800781 153.574219 130.324219 \"/>\n",
       "<path style=\"fill-rule:nonzero;fill:rgb(100%,0%,0%);fill-opacity:1;stroke-width:1;stroke-linecap:butt;stroke-linejoin:miter;stroke:rgb(0%,0%,0%);stroke-opacity:1;stroke-miterlimit:10;\" d=\"M 228.683594 69.519531 C 228.683594 75.042969 224.207031 79.519531 218.683594 79.519531 C 213.160156 79.519531 208.683594 75.042969 208.683594 69.519531 C 208.683594 63.996094 213.160156 59.519531 218.683594 59.519531 C 224.207031 59.519531 228.683594 63.996094 228.683594 69.519531 \"/>\n",
       "<path style=\"fill-rule:nonzero;fill:rgb(100%,0%,0%);fill-opacity:1;stroke-width:1;stroke-linecap:butt;stroke-linejoin:miter;stroke:rgb(0%,0%,0%);stroke-opacity:1;stroke-miterlimit:10;\" d=\"M 290 20 C 290 25.523438 285.523438 30 280 30 C 274.476563 30 270 25.523438 270 20 C 270 14.476563 274.476563 10 280 10 C 285.523438 10 290 14.476563 290 20 \"/>\n",
       "<path style=\"fill-rule:nonzero;fill:rgb(100%,0%,0%);fill-opacity:1;stroke-width:1;stroke-linecap:butt;stroke-linejoin:miter;stroke:rgb(0%,0%,0%);stroke-opacity:1;stroke-miterlimit:10;\" d=\"M 30 116.410156 C 30 121.933594 25.523438 126.410156 20 126.410156 C 14.476563 126.410156 10 121.933594 10 116.410156 C 10 110.886719 14.476563 106.410156 20 106.410156 C 25.523438 106.410156 30 110.886719 30 116.410156 \"/>\n",
       "<g style=\"fill:rgb(0%,0%,0%);fill-opacity:1;\">\n",
       "  <use xlink:href=\"#glyph0-1\" x=\"199.691406\" y=\"186.511719\"/>\n",
       "</g>\n",
       "<g style=\"fill:rgb(0%,0%,0%);fill-opacity:1;\">\n",
       "  <use xlink:href=\"#glyph0-2\" x=\"121.492188\" y=\"178.128906\"/>\n",
       "</g>\n",
       "<g style=\"fill:rgb(0%,0%,0%);fill-opacity:1;\">\n",
       "  <use xlink:href=\"#glyph0-3\" x=\"138.445313\" y=\"136.917969\"/>\n",
       "</g>\n",
       "<g style=\"fill:rgb(0%,0%,0%);fill-opacity:1;\">\n",
       "  <use xlink:href=\"#glyph0-4\" x=\"213.460938\" y=\"76.03125\"/>\n",
       "</g>\n",
       "<g style=\"fill:rgb(0%,0%,0%);fill-opacity:1;\">\n",
       "  <use xlink:href=\"#glyph0-5\" x=\"275.152344\" y=\"26.511719\"/>\n",
       "</g>\n",
       "<g style=\"fill:rgb(0%,0%,0%);fill-opacity:1;\">\n",
       "  <use xlink:href=\"#glyph0-6\" x=\"15.472656\" y=\"122.921875\"/>\n",
       "</g>\n",
       "</g>\n",
       "</svg>\n"
      ],
      "text/plain": [
       "<igraph.drawing.Plot at 0x28a9625cfd0>"
      ]
     },
     "execution_count": 30,
     "metadata": {
      "image/svg+xml": {
       "isolated": true
      }
     },
     "output_type": "execute_result"
    }
   ],
   "source": [
    "g5_directed=Graph.Formula('A->B, B->C, B<-C, B-C, A<->A, C->A, C->D, D<-E, C<-F',simplify = False)\n",
    "plot(g5_directed, bbox=(300, 200),vertex_label=g5.vs['name'])"
   ]
  },
  {
   "cell_type": "code",
   "execution_count": 32,
   "metadata": {},
   "outputs": [
    {
     "data": {
      "text/plain": [
       "[6, 3, 5, 2, 1, 1]"
      ]
     },
     "execution_count": 32,
     "metadata": {},
     "output_type": "execute_result"
    }
   ],
   "source": [
    "g5_directed.degree(mode='all') "
   ]
  },
  {
   "cell_type": "code",
   "execution_count": null,
   "metadata": {},
   "outputs": [],
   "source": [
    "g5_directed.degree(mode='in') "
   ]
  },
  {
   "cell_type": "code",
   "execution_count": null,
   "metadata": {},
   "outputs": [],
   "source": [
    "g5_directed.degree(mode='out')"
   ]
  },
  {
   "cell_type": "markdown",
   "metadata": {},
   "source": [
    "Degree distribution can be seen through a histogram of the frequency of the node degrees. Calculate the histogram of the degrees:"
   ]
  },
  {
   "cell_type": "code",
   "execution_count": 31,
   "metadata": {},
   "outputs": [
    {
     "data": {
      "image/png": "[encoded data removed]",
      "text/plain": [
       "<Figure size 432x288 with 1 Axes>"
      ]
     },
     "metadata": {
      "needs_background": "light"
     },
     "output_type": "display_data"
    }
   ],
   "source": [
    "import pandas as pd\n",
    "import matplotlib.pyplot as plt\n",
    "\n",
    "#Histograma for the in-degrees\n",
    "in_degrees=pd.DataFrame(g5_directed.degree(mode='in'))\n",
    "\n",
    "plt.hist(in_degrees)\n",
    "plt.title('Frequency plot of the In-degrees')\n",
    "plt.xlabel('Degrees')\n",
    "plt.ylabel('Frequency')\n",
    "plt.show()"
   ]
  },
  {
   "cell_type": "code",
   "execution_count": null,
   "metadata": {},
   "outputs": [],
   "source": [
    "#Histograma for the out-degrees\n",
    "out_degrees=pd.DataFrame(g5_directed.degree(mode='out'))\n",
    "\n",
    "plt.hist(out_degrees)\n",
    "plt.title('Frequency plot of the Out-degrees')\n",
    "plt.xlabel('Degrees')\n",
    "plt.ylabel('Frequency')\n",
    "plt.show()"
   ]
  },
  {
   "cell_type": "code",
   "execution_count": null,
   "metadata": {},
   "outputs": [],
   "source": [
    "#Histograma for the all-degrees\n",
    "out_degrees=pd.DataFrame(g5_directed.degree(mode='all'))\n",
    "\n",
    "plt.hist(out_degrees)\n",
    "plt.title('Frequency plot of the All-degrees')\n",
    "plt.xlabel('Degrees')\n",
    "plt.ylabel('Frequency')\n",
    "plt.show()"
   ]
  }
 ],
 "metadata": {
  "kernelspec": {
   "display_name": "Python 3",
   "language": "python",
   "name": "python3"
  },
  "language_info": {
   "codemirror_mode": {
    "name": "ipython",
    "version": 3
   },
   "file_extension": ".py",
   "mimetype": "text/x-python",
   "name": "python",
   "nbconvert_exporter": "python",
   "pygments_lexer": "ipython3",
   "version": "3.8.5"
  }
 },
 "nbformat": 4,
 "nbformat_minor": 4
}
