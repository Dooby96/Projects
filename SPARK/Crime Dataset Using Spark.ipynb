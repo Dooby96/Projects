{
 "cells": [
  {
   "cell_type": "markdown",
   "id": "624f5499",
   "metadata": {},
   "source": [
    "# SPARK\n",
    "### Group H\n",
    "\n",
    "https://www.kaggle.com/sumaiaparveenshupti/los-angeles-crime-data-20102020?select=Crime_Data_from_2020_to_Present.csv"
   ]
  },
  {
   "cell_type": "code",
   "execution_count": 2,
   "id": "0e8aebf2",
   "metadata": {},
   "outputs": [
    {
     "name": "stderr",
     "output_type": "stream",
     "text": [
      "WARNING: An illegal reflective access operation has occurred\n",
      "WARNING: Illegal reflective access by org.apache.spark.unsafe.Platform (file:/opt/spark3/jars/spark-unsafe_2.12-3.0.3.jar) to constructor java.nio.DirectByteBuffer(long,int)\n",
      "WARNING: Please consider reporting this to the maintainers of org.apache.spark.unsafe.Platform\n",
      "WARNING: Use --illegal-access=warn to enable warnings of further illegal reflective access operations\n",
      "WARNING: All illegal access operations will be denied in a future release\n",
      "Setting default log level to \"WARN\".\n",
      "To adjust logging level use sc.setLogLevel(newLevel). For SparkR, use setLogLevel(newLevel).\n"
     ]
    }
   ],
   "source": [
    "import findspark\n",
    "findspark.init()\n",
    "\n",
    "from pyspark.context import SparkContext\n",
    "from pyspark.sql.session import SparkSession\n",
    "\n",
    "sc = SparkContext.getOrCreate()\n",
    "spark = SparkSession(sc)"
   ]
  },
  {
   "cell_type": "markdown",
   "id": "e5777f80",
   "metadata": {},
   "source": [
    "### Data source and Spark data abstraction (DataFrame) setup"
   ]
  },
  {
   "cell_type": "code",
   "execution_count": 3,
   "id": "ea586bad",
   "metadata": {},
   "outputs": [],
   "source": [
    "#We had to manually set the schema to avoid problems with Time column \n",
    "  #Time column is in military hour, if spark infers the schema it erases the 00 at the beginning, loosing the format\n",
    "from pyspark.sql.types import StructType, StructField, IntegerType, DateType, DoubleType, StringType\n",
    "\n",
    "dfschema = StructType([\n",
    "    StructField(\"DR_NO\", IntegerType()),\n",
    "    StructField(\"Date Rptd\", StringType()),\n",
    "    StructField(\"DATE OCC\", StringType()),\n",
    "    StructField(\"TIME OCC\", StringType()),\n",
    "    StructField(\"AREA\", IntegerType()),      \n",
    "    StructField(\"AREA NAME\", StringType()),\n",
    "    StructField(\"Rpt Dist No\", IntegerType()),\n",
    "    StructField(\"Part 1-2\", IntegerType()),\n",
    "    StructField(\"Crm Cd\", IntegerType()),\n",
    "    StructField(\"Crm Cd Desc\", StringType()),\n",
    "    StructField(\"Mocodes\", StringType()),\n",
    "    StructField(\"Vict Age\", IntegerType()),\n",
    "    StructField(\"Vict Sex\", StringType()),\n",
    "    StructField(\"Vict Descent\", StringType()),\n",
    "    StructField(\"Premis Cd\", IntegerType()),\n",
    "    StructField(\"Premis Desc\", StringType()),\n",
    "    StructField(\"Weapon Used Cd\", IntegerType()),\n",
    "    StructField(\"Weapon Desc\", StringType()),\n",
    "    StructField(\"Status\", StringType()),\n",
    "    StructField(\"Status Desc\", StringType()),\n",
    "    StructField(\"Crm Cd 1\", IntegerType()),\n",
    "    StructField(\"Crm Cd 2\", IntegerType()),\n",
    "    StructField(\"Crm Cd 3\", IntegerType()),\n",
    "    StructField(\"Crm Cd 4\", IntegerType()),\n",
    "    StructField(\"LOCATION\", StringType()),\n",
    "    StructField(\"Cross Street\", StringType()),\n",
    "    StructField(\"LAT\", DoubleType()),\n",
    "    StructField(\"LON\", DoubleType()),   \n",
    "])"
   ]
  },
  {
   "cell_type": "code",
   "execution_count": 4,
   "id": "74456f33",
   "metadata": {},
   "outputs": [],
   "source": [
    "LA_crimesdf = spark.read \\\n",
    "                 .schema(dfschema) \\\n",
    "                 .option(\"header\", \"true\") \\\n",
    "                 .csv(\"crime_LA.csv\")\n",
    "                # .option(\"inferSchema\", \"true\") \\"
   ]
  },
  {
   "cell_type": "markdown",
   "id": "c97b98b9",
   "metadata": {},
   "source": [
    "### Display schema and size of the DataFrame"
   ]
  },
  {
   "cell_type": "code",
   "execution_count": 5,
   "id": "fb286a46",
   "metadata": {},
   "outputs": [
    {
     "name": "stdout",
     "output_type": "stream",
     "text": [
      "root\n",
      " |-- DR_NO: integer (nullable = true)\n",
      " |-- Date Rptd: string (nullable = true)\n",
      " |-- DATE OCC: string (nullable = true)\n",
      " |-- TIME OCC: string (nullable = true)\n",
      " |-- AREA: integer (nullable = true)\n",
      " |-- AREA NAME: string (nullable = true)\n",
      " |-- Rpt Dist No: integer (nullable = true)\n",
      " |-- Part 1-2: integer (nullable = true)\n",
      " |-- Crm Cd: integer (nullable = true)\n",
      " |-- Crm Cd Desc: string (nullable = true)\n",
      " |-- Mocodes: string (nullable = true)\n",
      " |-- Vict Age: integer (nullable = true)\n",
      " |-- Vict Sex: string (nullable = true)\n",
      " |-- Vict Descent: string (nullable = true)\n",
      " |-- Premis Cd: integer (nullable = true)\n",
      " |-- Premis Desc: string (nullable = true)\n",
      " |-- Weapon Used Cd: integer (nullable = true)\n",
      " |-- Weapon Desc: string (nullable = true)\n",
      " |-- Status: string (nullable = true)\n",
      " |-- Status Desc: string (nullable = true)\n",
      " |-- Crm Cd 1: integer (nullable = true)\n",
      " |-- Crm Cd 2: integer (nullable = true)\n",
      " |-- Crm Cd 3: integer (nullable = true)\n",
      " |-- Crm Cd 4: integer (nullable = true)\n",
      " |-- LOCATION: string (nullable = true)\n",
      " |-- Cross Street: string (nullable = true)\n",
      " |-- LAT: double (nullable = true)\n",
      " |-- LON: double (nullable = true)\n",
      "\n"
     ]
    },
    {
     "name": "stderr",
     "output_type": "stream",
     "text": [
      "                                                                                \r"
     ]
    },
    {
     "data": {
      "text/markdown": [
       "This DataFrame has **2117589 rows**."
      ],
      "text/plain": [
       "<IPython.core.display.Markdown object>"
      ]
     },
     "metadata": {},
     "output_type": "display_data"
    }
   ],
   "source": [
    "from IPython.display import display, Markdown\n",
    "\n",
    "LA_crimesdf.printSchema()\n",
    "display(Markdown(\"This DataFrame has **%d rows**.\" % LA_crimesdf.count()))"
   ]
  },
  {
   "cell_type": "code",
   "execution_count": 6,
   "id": "f3bd6297",
   "metadata": {},
   "outputs": [],
   "source": [
    "from pyspark.sql.functions import * \n",
    "\n",
    "spark.sql(\"set spark.sql.legacy.timeParserPolicy=LEGACY\")\n",
    "\n",
    "df_schema = LA_crimesdf.withColumn(\"DATE OCC\", to_date(col(\"DATE OCC\"),\"MM/dd/yyyy hh:mm:ss a\")) \\\n",
    "            .withColumn(\"Date Rptd\", to_date(col(\"Date Rptd\"),\"MM/dd/yyyy hh:mm:ss a\")) \\\n",
    "            .withColumn(\"TIME OCC\", to_timestamp(col(\"TIME OCC\"),\"HHmm\"))\n",
    "            #.printSchema()"
   ]
  },
  {
   "cell_type": "code",
   "execution_count": 7,
   "id": "91c8f139",
   "metadata": {},
   "outputs": [
    {
     "name": "stdout",
     "output_type": "stream",
     "text": [
      "+----------+\n",
      "| Date Rptd|\n",
      "+----------+\n",
      "|2010-02-20|\n",
      "|2010-09-13|\n",
      "+----------+\n",
      "only showing top 2 rows\n",
      "\n"
     ]
    }
   ],
   "source": [
    "df_schema.select(\"Date Rptd\").show(2)"
   ]
  },
  {
   "cell_type": "code",
   "execution_count": 8,
   "id": "7aed1b0a",
   "metadata": {},
   "outputs": [
    {
     "name": "stdout",
     "output_type": "stream",
     "text": [
      "root\n",
      " |-- DR_NO: integer (nullable = true)\n",
      " |-- Date Rptd: date (nullable = true)\n",
      " |-- DATE OCC: date (nullable = true)\n",
      " |-- TIME OCC: timestamp (nullable = true)\n",
      " |-- AREA: integer (nullable = true)\n",
      " |-- AREA NAME: string (nullable = true)\n",
      " |-- Rpt Dist No: integer (nullable = true)\n",
      " |-- Part 1-2: integer (nullable = true)\n",
      " |-- Crm Cd: integer (nullable = true)\n",
      " |-- Crm Cd Desc: string (nullable = true)\n",
      " |-- Mocodes: string (nullable = true)\n",
      " |-- Vict Age: integer (nullable = true)\n",
      " |-- Vict Sex: string (nullable = true)\n",
      " |-- Vict Descent: string (nullable = true)\n",
      " |-- Premis Cd: integer (nullable = true)\n",
      " |-- Premis Desc: string (nullable = true)\n",
      " |-- Weapon Used Cd: integer (nullable = true)\n",
      " |-- Weapon Desc: string (nullable = true)\n",
      " |-- Status: string (nullable = true)\n",
      " |-- Status Desc: string (nullable = true)\n",
      " |-- Crm Cd 1: integer (nullable = true)\n",
      " |-- Crm Cd 2: integer (nullable = true)\n",
      " |-- Crm Cd 3: integer (nullable = true)\n",
      " |-- Crm Cd 4: integer (nullable = true)\n",
      " |-- LOCATION: string (nullable = true)\n",
      " |-- Cross Street: string (nullable = true)\n",
      " |-- LAT: double (nullable = true)\n",
      " |-- LON: double (nullable = true)\n",
      "\n"
     ]
    }
   ],
   "source": [
    "df_schema.printSchema()"
   ]
  },
  {
   "cell_type": "markdown",
   "id": "a0312d78",
   "metadata": {},
   "source": [
    "### Random Samples"
   ]
  },
  {
   "cell_type": "code",
   "execution_count": 9,
   "id": "04e7887b",
   "metadata": {},
   "outputs": [
    {
     "name": "stderr",
     "output_type": "stream",
     "text": [
      "                                                                                \r"
     ]
    },
    {
     "data": {
      "text/markdown": [
       "This DataFrame has **211381 rows**."
      ],
      "text/plain": [
       "<IPython.core.display.Markdown object>"
      ]
     },
     "metadata": {},
     "output_type": "display_data"
    }
   ],
   "source": [
    "df_schema.cache() # optimization to make the processing faster\n",
    "df_sample = df_schema.sample(False, 0.10)\n",
    "display(Markdown(\"This DataFrame has **%d rows**.\" % df_sample.count()))"
   ]
  },
  {
   "cell_type": "code",
   "execution_count": 10,
   "id": "e67e2b0c",
   "metadata": {},
   "outputs": [
    {
     "data": {
      "text/markdown": [
       "This DataFrame has **174454 rows**."
      ],
      "text/plain": [
       "<IPython.core.display.Markdown object>"
      ]
     },
     "metadata": {},
     "output_type": "display_data"
    }
   ],
   "source": [
    "#We do have negative ages that we will not take into consideration\n",
    "df_sample=df_sample.where(col(\"Vict Age\")>0)\n",
    "\n",
    "display(Markdown(\"This DataFrame has **%d rows**.\" % df_sample.count()))"
   ]
  },
  {
   "cell_type": "code",
   "execution_count": 11,
   "id": "b1627654",
   "metadata": {},
   "outputs": [
    {
     "name": "stderr",
     "output_type": "stream",
     "text": [
      "                                                                                \r"
     ]
    },
    {
     "data": {
      "text/plain": [
       "[Row(year(Date Rptd)=2018),\n",
       " Row(year(Date Rptd)=2015),\n",
       " Row(year(Date Rptd)=2013),\n",
       " Row(year(Date Rptd)=2014),\n",
       " Row(year(Date Rptd)=2019),\n",
       " Row(year(Date Rptd)=2020),\n",
       " Row(year(Date Rptd)=2012),\n",
       " Row(year(Date Rptd)=2016),\n",
       " Row(year(Date Rptd)=2010),\n",
       " Row(year(Date Rptd)=2011),\n",
       " Row(year(Date Rptd)=2017),\n",
       " Row(year(Date Rptd)=2021)]"
      ]
     },
     "execution_count": 11,
     "metadata": {},
     "output_type": "execute_result"
    }
   ],
   "source": [
    "df_sample.select(year(\"Date Rptd\")).distinct().collect()"
   ]
  },
  {
   "cell_type": "code",
   "execution_count": null,
   "id": "4f15acaa",
   "metadata": {},
   "outputs": [],
   "source": []
  },
  {
   "cell_type": "markdown",
   "id": "107c43d4",
   "metadata": {},
   "source": [
    "### Basic Profiling"
   ]
  },
  {
   "cell_type": "markdown",
   "id": "82a828da",
   "metadata": {},
   "source": [
    "**Variable segmentation:\n",
    "\n",
    "        DR_NO: Division of Records Number: Official file number made up of a 2 digit year, area ID, and 5 digits.\n",
    "\n",
    " - `Where and When Crime Ocurred`\n",
    "  \n",
    "        - DATE OCC: MM/DD/YYYY.\n",
    "        - TIME OCC: In 24 hour military time.\n",
    "        - AREA: The LAPD has 21 Community Police Stations referred to as Geographic Areas within the department. These Geographic Areas are sequentially numbered from 1-21.\n",
    "        - AREA NAME: The 21 Geographic Areas or Patrol Divisions are also given a name designation that references a landmark or the surrounding community that it is responsible for. For example 77th Street Division is located at the intersection of South Broadway and 77th Street, serving neighborhoods in South Los Angeles.\n",
    "        - Rpt Dist No: A four-digit code that represents a sub-area within a Geographic Area. All crime records reference the \"RD\" that it occurred in for statistical comparisons.\n",
    "        - LOCATION: Street address of crime incident rounded to the nearest hundred block to maintain anonymity.\n",
    "        - Cross Street: Cross Street of rounded Address.\n",
    "        - LAT: Latitude.\n",
    "        - LON: Longitude.\n",
    "        \n",
    "        \n",
    " - `Crime Description`\n",
    " \n",
    "        - Crm Cd: Indicates the crime committed. (Same as Crime Code 1)\n",
    "        - Crm Cd Desc: Defines the Crime Code provided.\n",
    "        - Mocodes: Modus Operandi: Activities associated with the suspect in commission of the crime.\n",
    "        - Premis Cd: The type of structure, vehicle, or location where the crime took place.\n",
    "        - Premis Desc: Defines the Premise Code provided.\n",
    "        - Weapon Used Cd: The type of weapon used in the crime.\n",
    "        - Weapon Desc: Defines the Weapon Used Code provided.\n",
    "        - Status: Status of the case. (IC is the default).\n",
    "        - Status Desc: Defines the Status Code provided.\n",
    "        - Crm Cd 1: Indicates the crime committed. Crime Code 1 is the primary and most serious one. Crime Code 2, 3, and 4 are respectively less serious offenses. Lower crime class numbers are more serious.\n",
    "        - Crm Cd 2: May contain a code for an additional crime, less serious than Crime Code 1.\n",
    "        - Crm Cd 3: May contain a code for an additional crime, less serious than Crime Code 1.\n",
    "        - Crm Cd 4: May contain a code for an additional crime, less serious than Crime Code 1.\n",
    "        \n",
    " - `Victim Description` \n",
    "        \n",
    "        - Vict Age: Two character numeric.\n",
    "        - Vict Sex: F - Female M - Male X - Unknown.\n",
    "        - Vict Descent: Descent Code: A - Other Asian B - Black C - Chinese D - Cambodian F - Filipino G - Guamanian H - Hispanic/Latin/Mexican I - American Indian/Alaskan Native J - Japanese K - Korean L - Laotian O - Other P - Pacific Islander S - Samoan U - Hawaiian V - Vietnamese W - White X - Unknown Z - Asian Indian.\n",
    "        \n",
    "        "
   ]
  },
  {
   "cell_type": "code",
   "execution_count": 12,
   "id": "3dba970b",
   "metadata": {},
   "outputs": [],
   "source": [
    "#Additional Features\n",
    "from pyspark.sql.functions import year, month, quarter\n",
    "\n",
    "df_sample=df_sample.withColumn(\"Year\", year(\"Date Rptd\"))\\\n",
    "                    .withColumn(\"Month\",month(\"Date Rptd\"))\\\n",
    "                    .withColumn(\"Quarter\",quarter(\"Date Rptd\"))\n",
    "                    \n"
   ]
  },
  {
   "cell_type": "code",
   "execution_count": 13,
   "id": "5db4dc40",
   "metadata": {},
   "outputs": [
    {
     "name": "stdout",
     "output_type": "stream",
     "text": [
      "\u001b[1mWhere and When Columns\u001b[0m\n",
      "Summary of columns:\n"
     ]
    },
    {
     "name": "stderr",
     "output_type": "stream",
     "text": [
      "                                                                                \r"
     ]
    },
    {
     "name": "stdout",
     "output_type": "stream",
     "text": [
      "+-------+------------------+--------------------+------------------+------------------+------------------+\n",
      "|summary|              Hour|               DR_NO|              Year|             Month|           Quarter|\n",
      "+-------+------------------+--------------------+------------------+------------------+------------------+\n",
      "|  count|            174454|              174454|            174454|            174454|            174454|\n",
      "|   mean|13.288293762252513|1.4767144272541186E8|2014.6527222075733| 6.523347128756004|2.5111089456246347|\n",
      "| stddev| 6.467924275476101|  2.88973274303441E7|2.8889601032877867|3.4115860543236103|1.1082749436753492|\n",
      "|    min|                 0|            20305364|              2010|                 1|                 1|\n",
      "|    25%|                 9|           121412019|              2012|                 4|                 2|\n",
      "|    50%|                14|           150624245|              2015|                 7|                 3|\n",
      "|    75%|                19|           171425055|              2017|                 9|                 3|\n",
      "|    max|                23|           212107220|              2021|                12|                 4|\n",
      "+-------+------------------+--------------------+------------------+------------------+------------------+\n",
      "\n",
      "Checking for nulls:\n"
     ]
    },
    {
     "name": "stderr",
     "output_type": "stream",
     "text": [
      "                                                                                \r"
     ]
    },
    {
     "name": "stdout",
     "output_type": "stream",
     "text": [
      "+---------+--------+--------+----+---------+-----------+--------+------------+---+---+----+-----+-------+\n",
      "|Date Rptd|DATE OCC|TIME OCC|AREA|AREA NAME|Rpt Dist No|LOCATION|Cross Street|LAT|LON|Year|Month|Quarter|\n",
      "+---------+--------+--------+----+---------+-----------+--------+------------+---+---+----+-----+-------+\n",
      "|        0|       0|       0|   0|        0|          0|       0|      145502|  0|  0|   0|    0|      0|\n",
      "+---------+--------+--------+----+---------+-----------+--------+------------+---+---+----+-----+-------+\n",
      "\n",
      "Checking amount of distinct values:\n"
     ]
    },
    {
     "name": "stderr",
     "output_type": "stream",
     "text": [
      "                                                                                \r"
     ]
    },
    {
     "name": "stdout",
     "output_type": "stream",
     "text": [
      "+---------+-----------+--------+------------+\n",
      "|AREA NAME|Rpt Dist No|Location|Cross Street|\n",
      "+---------+-----------+--------+------------+\n",
      "|       21|       1164|   41447|        4413|\n",
      "+---------+-----------+--------+------------+\n",
      "\n",
      "Most and least frequent occurrences:\n"
     ]
    },
    {
     "name": "stderr",
     "output_type": "stream",
     "text": [
      "                                                                                \r"
     ]
    },
    {
     "data": {
      "text/markdown": [
       "\n",
       "| leastFreqAreaName | mostFreqAreaName | leastFreqTimeOcc | mostFreqTimeOcc | leastFreqCrossStreet | mostFreqCrossStreet |\n",
       "|----|----|----|----|----|----|\n",
       "| Hollenbeck (5761 occurrences) | 77th Street (12365 occurrences) | 5 (2122 occurrences) | 12 (14714 occurrences) | BUCKINGHAM                   ST (1 occurrences) | None (145502 occurrences) |\n"
      ],
      "text/plain": [
       "<IPython.core.display.Markdown object>"
      ]
     },
     "metadata": {},
     "output_type": "display_data"
    }
   ],
   "source": [
    "# Where and When Columns\n",
    "from IPython.display import display, Markdown\n",
    "from pyspark.sql.functions import when, count, col, countDistinct, desc, first, lit, asc_nulls_last, desc_nulls_last, hour\n",
    "\n",
    "\n",
    "print('\\033[1m' + \"Where and When Columns\" + '\\033[0m')\n",
    "\n",
    "print (\"Summary of columns:\")\n",
    "df_sample.select(hour(\"TIME OCC\").alias(\"Hour\"),\"DR_NO\",\"Year\",\"Month\",\"Quarter\").summary().show()\n",
    "\n",
    "print(\"Checking for nulls:\")\n",
    "df_sample.select([count(when(col(c).isNull(), c)).alias(c) for c in [\"Date Rptd\",\"DATE OCC\",\"TIME OCC\",\"AREA\",\"AREA NAME\",\"Rpt Dist No\",\"LOCATION\",\"Cross Street\",\"LAT\",\"LON\",\"Year\",\"Month\",\"Quarter\"]]).show()\n",
    "\n",
    "print(\"Checking amount of distinct values:\")\n",
    "df_sample.select([countDistinct(c).alias(c) for c in [\"AREA NAME\",\"Rpt Dist No\",\"Location\",\"Cross Street\"]]).show()\n",
    "\n",
    "print (\"Most and least frequent occurrences:\")\n",
    "freq_AreaName = df_sample.groupBy(\"AREA NAME\").agg(count(lit(1)).alias(\"Total\"))\n",
    "freq_CrossStreet = df_sample.groupBy(\"Cross Street\").agg(count(lit(1)).alias(\"Total\"))\n",
    "#freq_TimeOcc = df_sample.groupBy(\"TIME OCC\").agg(count(lit(1)).alias(\"Total\"))\n",
    "freq_TimeOcc = df_sample.groupBy(hour(\"TIME OCC\").alias(\"TIME OCC\")).agg(count(lit(1)).alias(\"Total\"))\n",
    "\n",
    "leastFreqAreaName = freq_AreaName.orderBy(col(\"Total\").asc()).first()\n",
    "mostFreqAreaName = freq_AreaName.orderBy(col(\"Total\").desc()).first()\n",
    "leastFreqTimeOcc = freq_TimeOcc.orderBy(col(\"Total\").asc()).first()\n",
    "mostFreqTimeOcc = freq_TimeOcc.orderBy(col(\"Total\").desc()).first()\n",
    "leastFreqCrossStreet = freq_CrossStreet.orderBy(col(\"Total\").asc()).first()\n",
    "mostFreqCrossStreet = freq_CrossStreet.orderBy(col(\"Total\").desc()).first()\n",
    "                                               \n",
    "display(Markdown(\n",
    "    \n",
    "    \"\"\"\n",
    "| %s | %s | %s | %s | %s | %s |\n",
    "|----|----|----|----|----|----|\n",
    "| %s | %s | %s | %s | %s | %s |\n",
    "\"\"\" % (\"leastFreqAreaName\", \"mostFreqAreaName\", \"leastFreqTimeOcc\", \"mostFreqTimeOcc\", \"leastFreqCrossStreet\", \"mostFreqCrossStreet\", \\\n",
    "       \"%s (%d occurrences)\" % (leastFreqAreaName[\"AREA NAME\"], leastFreqAreaName[\"Total\"]), \\\n",
    "       \"%s (%d occurrences)\" % (mostFreqAreaName[\"AREA NAME\"], mostFreqAreaName[\"Total\"]), \\\n",
    "       \"%s (%d occurrences)\" % (leastFreqTimeOcc[\"TIME OCC\"], leastFreqTimeOcc[\"Total\"]), \\\n",
    "       \"%s (%d occurrences)\" % (mostFreqTimeOcc[\"TIME OCC\"], mostFreqTimeOcc[\"Total\"]), \\\n",
    "       \"%s (%d occurrences)\" % (leastFreqCrossStreet[\"Cross Street\"], leastFreqCrossStreet[\"Total\"]), \\\n",
    "       \"%s (%d occurrences)\" % (mostFreqCrossStreet[\"Cross Street\"], mostFreqCrossStreet[\"Total\"]))))"
   ]
  },
  {
   "cell_type": "code",
   "execution_count": 12,
   "id": "ff6232bb",
   "metadata": {},
   "outputs": [
    {
     "name": "stdout",
     "output_type": "stream",
     "text": [
      "\u001b[1mCrime Description Columns\u001b[0m\n",
      "Summary of columns:\n"
     ]
    },
    {
     "name": "stderr",
     "output_type": "stream",
     "text": [
      "                                                                                \r"
     ]
    },
    {
     "name": "stdout",
     "output_type": "stream",
     "text": [
      "+-------+-----------------+------------------+------------------+-----------------+--------+\n",
      "|summary|           Crm Cd|          Crm Cd 1|          Crm Cd 2|         Crm Cd 3|Crm Cd 4|\n",
      "+-------+-----------------+------------------+------------------+-----------------+--------+\n",
      "|  count|           175430|            175429|             10612|              188|       8|\n",
      "|   mean| 505.988114917631| 505.8817299306272| 953.2878816434226|966.1702127659574|   998.0|\n",
      "| stddev|221.2003135486193|221.13809355867178|124.19112694486192|94.25067704806506|     0.0|\n",
      "|    min|              110|             110.0|             210.0|            420.0|   998.0|\n",
      "|    25%|              330|             330.0|             998.0|            998.0|   998.0|\n",
      "|    50%|              440|             440.0|             998.0|            998.0|   998.0|\n",
      "|    75%|              627|             627.0|             998.0|            998.0|   998.0|\n",
      "|    max|              956|             956.0|             999.0|            999.0|   998.0|\n",
      "+-------+-----------------+------------------+------------------+-----------------+--------+\n",
      "\n",
      "Checking for nulls:\n",
      "+------+-----------+-------+---------+-----------+\n",
      "|Crm Cd|Crm Cd Desc|Mocodes|Premis Cd|Premis Desc|\n",
      "+------+-----------+-------+---------+-----------+\n",
      "|     0|          0|   3426|        2|          2|\n",
      "+------+-----------+-------+---------+-----------+\n",
      "\n",
      "+--------------+-----------+------+-----------+--------+--------+--------+--------+\n",
      "|Weapon Used Cd|Weapon Desc|Status|Status Desc|Crm Cd 1|Crm Cd 2|Crm Cd 3|Crm Cd 4|\n",
      "+--------------+-----------+------+-----------+--------+--------+--------+--------+\n",
      "|        108930|     108930|     0|          0|       1|  164818|  175242|  175422|\n",
      "+--------------+-----------+------+-----------+--------+--------+--------+--------+\n",
      "\n",
      "Checking amount of distinct values:\n"
     ]
    },
    {
     "name": "stderr",
     "output_type": "stream",
     "text": [
      "                                                                                \r"
     ]
    },
    {
     "name": "stdout",
     "output_type": "stream",
     "text": [
      "+--------------+-----------+------+-----------+-------+\n",
      "|Weapon Used Cd|Weapon Desc|Status|Status Desc|Mocodes|\n",
      "+--------------+-----------+------+-----------+-------+\n",
      "|            75|         75|     6|          6|  53905|\n",
      "+--------------+-----------+------+-----------+-------+\n",
      "\n",
      "Most and least frequent occurrences:\n"
     ]
    },
    {
     "name": "stderr",
     "output_type": "stream",
     "text": [
      "                                                                                \r"
     ]
    },
    {
     "data": {
      "text/markdown": [
       "\n",
       "| leastFreqCrmCdDesc | mostFreqCrmCdDesc | leastFreqStatusDesc | mostFreqStatusDesc || leastFreqWeaponDesc || mostFreqWeaponDesc |\n",
       "|----|----|----|----||----||----|\n",
       "| INCEST (SEXUAL ACTS BETWEEN BLOOD RELATIVES) (1 occurrences) | BATTERY - SIMPLE ASSAULT (19991 occurrences) | UNK (5 occurrences) | Invest Cont (132976 occurrences) || MAC-10 SEMIAUTOMATIC ASSAULT WEAPON (1 occurrences) || None (108930 occurrences) |\n"
      ],
      "text/plain": [
       "<IPython.core.display.Markdown object>"
      ]
     },
     "metadata": {},
     "output_type": "display_data"
    }
   ],
   "source": [
    "#Crime Description\n",
    "\n",
    "print('\\033[1m' + \"Crime Description Columns\" + '\\033[0m')\n",
    "\n",
    "print (\"Summary of columns:\")\n",
    "df_sample.select(\"Crm Cd\",\"Crm Cd 1\",\"Crm Cd 2\",\"Crm Cd 3\",\"Crm Cd 4\").summary().show()\n",
    "\n",
    "print(\"Checking for nulls:\")\n",
    "df_sample.select([count(when(col(c).isNull(), c)).alias(c) for c in [\"Crm Cd\",\"Crm Cd Desc\",\"Mocodes\",\"Premis Cd\",\"Premis Desc\"]]).show()\n",
    "df_sample.select([count(when(col(c).isNull(), c)).alias(c) for c in [\"Weapon Used Cd\",\"Weapon Desc\",\"Status\",\"Status Desc\",\"Crm Cd 1\",\"Crm Cd 2\",\"Crm Cd 3\",\"Crm Cd 4\"]]).show()\n",
    "\n",
    "print(\"Checking amount of distinct values:\")\n",
    "df_sample.select([countDistinct(c).alias(c) for c in [\"Weapon Used Cd\",\"Weapon Desc\",\"Status\",\"Status Desc\",\"Mocodes\"]]).show()\n",
    "\n",
    "print (\"Most and least frequent occurrences:\")\n",
    "freq_CrmCdDesc = df_sample.groupBy(\"Crm Cd Desc\").agg(count(lit(1)).alias(\"Total\"))\n",
    "freq_StatusDesc = df_sample.groupBy(\"Status Desc\").agg(count(lit(1)).alias(\"Total\"))\n",
    "freq_WeaponDesc = df_sample.groupBy(\"Weapon Desc\").agg(count(lit(1)).alias(\"Total\"))\n",
    "\n",
    "\n",
    "leastFreqCrmCdDesc = freq_CrmCdDesc.orderBy(col(\"Total\").asc()).first()\n",
    "mostFreqCrmCdDesc = freq_CrmCdDesc.orderBy(col(\"Total\").desc()).first()\n",
    "leastFreqStatusDesc = freq_StatusDesc.orderBy(col(\"Total\").asc()).first()\n",
    "mostFreqStatusDesc = freq_StatusDesc.orderBy(col(\"Total\").desc()).first()\n",
    "leastFreqWeaponDesc = freq_WeaponDesc.orderBy(col(\"Total\").asc()).first()\n",
    "mostFreqWeaponDesc = freq_WeaponDesc.orderBy(col(\"Total\").desc()).first()\n",
    "\n",
    "display(Markdown(\n",
    "    \n",
    "    \"\"\"\n",
    "| %s | %s | %s | %s || %s || %s |\n",
    "|----|----|----|----||----||----|\n",
    "| %s | %s | %s | %s || %s || %s |\n",
    "\"\"\" % (\"leastFreqCrmCdDesc\", \"mostFreqCrmCdDesc\", \"leastFreqStatusDesc\", \"mostFreqStatusDesc\",\"leastFreqWeaponDesc\", \"mostFreqWeaponDesc\", \\\n",
    "       \"%s (%d occurrences)\" % (leastFreqCrmCdDesc[\"Crm Cd Desc\"], leastFreqCrmCdDesc[\"Total\"]), \\\n",
    "       \"%s (%d occurrences)\" % (mostFreqCrmCdDesc[\"Crm Cd Desc\"], mostFreqCrmCdDesc[\"Total\"]), \\\n",
    "       \"%s (%d occurrences)\" % (leastFreqStatusDesc[\"Status Desc\"], leastFreqStatusDesc[\"Total\"]), \\\n",
    "       \"%s (%d occurrences)\" % (mostFreqStatusDesc[\"Status Desc\"], mostFreqStatusDesc[\"Total\"]), \\\n",
    "       \"%s (%d occurrences)\" % (leastFreqWeaponDesc[\"Weapon Desc\"], leastFreqWeaponDesc[\"Total\"]), \\\n",
    "       \"%s (%d occurrences)\" % (mostFreqWeaponDesc[\"Weapon Desc\"], mostFreqWeaponDesc[\"Total\"]))))\n"
   ]
  },
  {
   "cell_type": "code",
   "execution_count": 13,
   "id": "cc99c47a",
   "metadata": {},
   "outputs": [
    {
     "name": "stdout",
     "output_type": "stream",
     "text": [
      "\u001b[1mVictim Description Columns\u001b[0m\n",
      "Summary of columns:\n",
      "+-------+-----------------+\n",
      "|summary|         Vict Age|\n",
      "+-------+-----------------+\n",
      "|  count|           175430|\n",
      "|   mean|37.83759904235308|\n",
      "| stddev|16.04160329076748|\n",
      "|    min|                2|\n",
      "|    25%|               25|\n",
      "|    50%|               36|\n",
      "|    75%|               49|\n",
      "|    max|               99|\n",
      "+-------+-----------------+\n",
      "\n",
      "Checking for nulls:\n",
      "+--------+--------+------------+\n",
      "|Vict Age|Vict Sex|Vict Descent|\n",
      "+--------+--------+------------+\n",
      "|       0|       6|           7|\n",
      "+--------+--------+------------+\n",
      "\n",
      "Checking amount of distinct values:\n"
     ]
    },
    {
     "name": "stderr",
     "output_type": "stream",
     "text": [
      "                                                                                \r"
     ]
    },
    {
     "name": "stdout",
     "output_type": "stream",
     "text": [
      "+--------+--------+------------+\n",
      "|Vict Age|Vict Sex|Vict Descent|\n",
      "+--------+--------+------------+\n",
      "|      98|       5|          19|\n",
      "+--------+--------+------------+\n",
      "\n",
      "Most and least frequent occurrences:\n"
     ]
    },
    {
     "name": "stderr",
     "output_type": "stream",
     "text": [
      "                                                                                \r"
     ]
    },
    {
     "data": {
      "text/markdown": [
       "\n",
       "| leastFreqVictAge | mostFreqVictAge | leastFreqVictSex | mostFreqVictSex | leastFreqVictDescen | mostFreqVictDescen |\n",
       "|----|----|----|----|----|----|\n",
       "| 98 (8 occurrences) | 25 (4877 occurrences) | - (1 occurrences) | F (89506 occurrences) | L (1 occurrences) | H (71091 occurrences) |\n"
      ],
      "text/plain": [
       "<IPython.core.display.Markdown object>"
      ]
     },
     "metadata": {},
     "output_type": "display_data"
    }
   ],
   "source": [
    "#Victim Description\n",
    "\n",
    "print('\\033[1m' + \"Victim Description Columns\" + '\\033[0m')\n",
    "\n",
    "print (\"Summary of columns:\")\n",
    "df_sample.select(\"Vict Age\").summary().show()\n",
    "\n",
    "print(\"Checking for nulls:\")\n",
    "df_sample.select([count(when(col(c).isNull(), c)).alias(c) for c in [\"Vict Age\",\"Vict Sex\",\"Vict Descent\"]]).show()\n",
    "\n",
    "print(\"Checking amount of distinct values:\")\n",
    "df_sample.select([countDistinct(c).alias(c) for c in [\"Vict Age\",\"Vict Sex\",\"Vict Descent\"]]).show()\n",
    "\n",
    "\n",
    "print (\"Most and least frequent occurrences:\")\n",
    "freq_VictAge = df_sample.groupBy(\"Vict Age\").agg(count(lit(1)).alias(\"Total\"))\n",
    "freq_VictSex = df_sample.groupBy(\"Vict Sex\").agg(count(lit(1)).alias(\"Total\"))\n",
    "freq_VictDescent = df_sample.groupBy(\"Vict Descent\").agg(count(lit(1)).alias(\"Total\"))\n",
    "\n",
    "\n",
    "leastFreqVictAge = freq_VictAge.orderBy(col(\"Total\").asc()).first()\n",
    "mostFreqVictAge = freq_VictAge.orderBy(col(\"Total\").desc()).first()\n",
    "leastFreqVictSex = freq_VictSex.orderBy(col(\"Total\").asc()).first()\n",
    "mostFreqVictSex = freq_VictSex.orderBy(col(\"Total\").desc()).first()\n",
    "leastFreqVictDescent = freq_VictDescent.orderBy(col(\"Total\").asc()).first()\n",
    "mostFreqVictDescent = freq_VictDescent.orderBy(col(\"Total\").desc()).first()\n",
    "                                               \n",
    "display(Markdown(\n",
    "    \n",
    "    \"\"\"\n",
    "| %s | %s | %s | %s | %s | %s |\n",
    "|----|----|----|----|----|----|\n",
    "| %s | %s | %s | %s | %s | %s |\n",
    "\"\"\" % (\"leastFreqVictAge\", \"mostFreqVictAge\", \"leastFreqVictSex\", \"mostFreqVictSex\",\"leastFreqVictDescen\", \"mostFreqVictDescen\", \\\n",
    "       \"%s (%d occurrences)\" % (leastFreqVictAge[\"Vict Age\"], leastFreqVictAge[\"Total\"]), \\\n",
    "       \"%s (%d occurrences)\" % (mostFreqVictAge[\"Vict Age\"], mostFreqVictAge[\"Total\"]), \\\n",
    "       \"%s (%d occurrences)\" % (leastFreqVictSex[\"Vict Sex\"], leastFreqVictSex[\"Total\"]), \\\n",
    "       \"%s (%d occurrences)\" % (mostFreqVictSex[\"Vict Sex\"], mostFreqVictSex[\"Total\"]),\\\n",
    "       \"%s (%d occurrences)\" % (leastFreqVictDescent[\"Vict Descent\"], leastFreqVictDescent[\"Total\"]), \\\n",
    "       \"%s (%d occurrences)\" % (mostFreqVictDescent[\"Vict Descent\"], mostFreqVictDescent[\"Total\"]))))"
   ]
  },
  {
   "cell_type": "markdown",
   "id": "684ba9bc",
   "metadata": {},
   "source": [
    "# Business Questions"
   ]
  },
  {
   "cell_type": "markdown",
   "id": "4ba62359",
   "metadata": {},
   "source": [
    "## A. Ratio of crimes commited by time segment"
   ]
  },
  {
   "cell_type": "code",
   "execution_count": 14,
   "id": "b91117e5",
   "metadata": {},
   "outputs": [
    {
     "name": "stderr",
     "output_type": "stream",
     "text": [
      "[Stage 31:===========================================>          (162 + 2) / 200]\r"
     ]
    },
    {
     "name": "stdout",
     "output_type": "stream",
     "text": [
      "+---------------+---------+------------+\n",
      "|    TimeSegment|NumCrimes|RoundedRatio|\n",
      "+---------------+---------+------------+\n",
      "|1.Early Morning|    16992|        9.74|\n",
      "| 2.Late Morning|    21985|        12.6|\n",
      "|    3.Afternoon|    30735|       17.62|\n",
      "|      4.Evening|    46917|       26.89|\n",
      "|        5.Night|    35158|       20.15|\n",
      "|         6.Dawn|    22667|       12.99|\n",
      "+---------------+---------+------------+\n",
      "\n"
     ]
    },
    {
     "name": "stderr",
     "output_type": "stream",
     "text": [
      "                                                                                \r"
     ]
    }
   ],
   "source": [
    "from pyspark.sql.functions import count, round\n",
    "\n",
    "# Time Segmentation:\n",
    "#\n",
    "#   \"Early Morning\"     [5:00 AM,9:00 AM) \n",
    "#   \"Late Morning\"     [9:00 AM,12:00 AM)\n",
    "#   \"Afternoon\"         [12:00 AM,15:00 PM)\n",
    "#   \"Evening\"    (15:00 PM,20:00 PM]\n",
    "#   \"Night\"     (20:00 PM,00:00 AM)\n",
    "#   \"Dawn\"     [00:00 AM,5:00 AM)\n",
    "\n",
    "\n",
    "\n",
    "# 1. Let's enrich the DF with our categorization\n",
    "totalCrimes = df_sample.count()\n",
    "TimeCategorizationDF = df_sample.withColumn(\"TimeSegment\", when(((hour(col(\"TIME OCC\"))>=5) & (hour(col(\"TIME OCC\"))<9)).alias(\"TIME OCC\"),\"1.Early Morning\")\\\n",
    "                               .when(((hour(col(\"TIME OCC\"))>=9) & (hour(col(\"TIME OCC\"))<12)).alias(\"TIME OCC\"),\"2.Late Morning\")\\\n",
    "                               .when(((hour(col(\"TIME OCC\"))>=12) & (hour(col(\"TIME OCC\"))<15)).alias(\"TIME OCC\"),\"3.Afternoon\")\\\n",
    "                               .when(((hour(col(\"TIME OCC\"))>=15) & (hour(col(\"TIME OCC\"))<20)).alias(\"TIME OCC\"),\"4.Evening\")\\\n",
    "                               .when(((hour(col(\"TIME OCC\"))>=20) & (hour(col(\"TIME OCC\"))<=23)).alias(\"TIME OCC\"),\"5.Night\")\\\n",
    "                               .otherwise(\"6.Dawn\"))\n",
    "TimeCategorizationDF.cache() # optimization to make the processing faster\n",
    "\n",
    "# 2. Ready to answer to this business question\n",
    "TimeCategorizationDF.select(\"TimeSegment\", \"TIME OCC\")\\\n",
    "                     .groupBy(\"TimeSegment\")\\\n",
    "                     .agg(count(\"TimeSegment\").alias(\"NumCrimes\"), \\\n",
    "                          (count(\"TimeSegment\")/totalCrimes*100).alias(\"Ratio\"))\\\n",
    "                     .orderBy(\"TimeSegment\")\\\n",
    "                     .select(\"TimeSegment\",\"NumCrimes\",round(\"Ratio\",2).alias(\"RoundedRatio\")).show()"
   ]
  },
  {
   "cell_type": "code",
   "execution_count": 39,
   "id": "fcee2966",
   "metadata": {},
   "outputs": [
    {
     "name": "stderr",
     "output_type": "stream",
     "text": [
      "[Stage 147:=========================================>           (156 + 2) / 200]\r"
     ]
    },
    {
     "name": "stdout",
     "output_type": "stream",
     "text": [
      "+-------------+---------+------------+\n",
      "|CrimeSeverity|NumCrimes|RoundedRatio|\n",
      "+-------------+---------+------------+\n",
      "|     1.Severe|     1424|        0.82|\n",
      "|2.Less Severe|    73692|       42.24|\n",
      "|   3.Moderate|    23427|       13.43|\n",
      "|       4.Mild|    55388|       31.75|\n",
      "| 5.Not Severe|    20523|       11.76|\n",
      "+-------------+---------+------------+\n",
      "\n"
     ]
    },
    {
     "name": "stderr",
     "output_type": "stream",
     "text": [
      "                                                                                \r"
     ]
    }
   ],
   "source": [
    "from pyspark.sql.functions import count, round\n",
    "\n",
    "# Crime Severity Segmentation:\n",
    "#\n",
    "#   \"Severe\"     [0, 200] \n",
    "#   \"Less Severe\"     (200,400]\n",
    "#   \"Moderate\"        (400,600]\n",
    "#   \"Mild\"            (600,800]\n",
    "#   \"Not Severe\"     (800,1000)\n",
    "\n",
    "\n",
    "\n",
    "\n",
    "# 1. Let's enrich the DF with our categorization\n",
    "totalCrimes = df_sample.count()\n",
    "SeverityCategorizationDF = TimeCategorizationDF.withColumn(\"CrimeSeverity\", when(col(\"Crm Cd\")<=200,\"1.Severe\")\\\n",
    "                               .when((col(\"Crm Cd\")>200) & (col(\"Crm Cd\")<=400),\"2.Less Severe\")\\\n",
    "                               .when((col(\"Crm Cd\")>400) & (col(\"Crm Cd\")<600),\"3.Moderate\")\\\n",
    "                               .when((col(\"Crm Cd\")>600) & (col(\"Crm Cd\")<800),\"4.Mild\")\\\n",
    "                               .otherwise(\"5.Not Severe\"))\n",
    "SeverityCategorizationDF.cache() # optimization to make the processing faster\n",
    "\n",
    "# 2. Ready to answer to this business question\n",
    "SeverityCategorizationDF.select(\"CrimeSeverity\", \"Crm Cd\")\\\n",
    "                     .groupBy(\"CrimeSeverity\")\\\n",
    "                     .agg(count(\"CrimeSeverity\").alias(\"NumCrimes\"), \\\n",
    "                          (count(\"CrimeSeverity\")/totalCrimes*100).alias(\"Ratio\"))\\\n",
    "                     .orderBy(\"CrimeSeverity\")\\\n",
    "                     .select(\"CrimeSeverity\",\"NumCrimes\",round(\"Ratio\",2).alias(\"RoundedRatio\")).show()"
   ]
  },
  {
   "cell_type": "code",
   "execution_count": 24,
   "id": "bcd015e4",
   "metadata": {},
   "outputs": [
    {
     "data": {
      "text/markdown": [
       "**Severity of Crime by Time of the day** (Order by 1.Severe):"
      ],
      "text/plain": [
       "<IPython.core.display.Markdown object>"
      ]
     },
     "metadata": {},
     "output_type": "display_data"
    },
    {
     "name": "stderr",
     "output_type": "stream",
     "text": [
      "[Stage 77:=====================================>                (138 + 2) / 200]\r"
     ]
    },
    {
     "name": "stdout",
     "output_type": "stream",
     "text": [
      "+---------------+--------+-------------+----------+------+-------------+\n",
      "|    TimeSegment|1.Severe|2.Less Severe|3.Moderate|4.Mild|5. Not Severe|\n",
      "+---------------+--------+-------------+----------+------+-------------+\n",
      "|         6.Dawn|    0.26|         5.77|       1.2|  4.45|         1.32|\n",
      "|        5.Night|    0.21|         8.26|      2.42|  7.27|         1.99|\n",
      "|      4.Evening|    0.14|        10.65|      4.23|   8.6|         3.28|\n",
      "|    3.Afternoon|    0.08|         7.86|      2.63|  4.84|         2.21|\n",
      "|1.Early Morning|    0.08|         4.47|      1.17|  2.73|          1.3|\n",
      "| 2.Late Morning|    0.05|         5.24|      1.78|  3.86|         1.67|\n",
      "+---------------+--------+-------------+----------+------+-------------+\n",
      "\n"
     ]
    },
    {
     "name": "stderr",
     "output_type": "stream",
     "text": [
      "                                                                                \r"
     ]
    }
   ],
   "source": [
    "display(Markdown(\"**Severity of Crime by Time of the day** (Order by 1.Severe):\"))\n",
    "\n",
    "SeverityCategorizationDF.groupBy(\"TimeSegment\")\\\n",
    "                        .pivot(\"CrimeSeverity\")\\\n",
    "                        .agg(count(\"CrimeSeverity\")/totalCrimes*100)\\\n",
    "                        .orderBy(col(\"`1.Severe`\").desc())\\\n",
    "                        .select(\"TimeSegment\",round(\"`1.Severe`\",2).alias(\"1.Severe\"),round(\"`2.Less Severe`\",2).alias(\"2.Less Severe\"),round(\"`3.Moderate`\",2).alias(\"3.Moderate\"),round(\"`4.Mild`\",2).alias(\"4.Mild\"),round(\"`5.Not Severe`\",2).alias(\"5. Not Severe\")).show()"
   ]
  },
  {
   "cell_type": "code",
   "execution_count": 25,
   "id": "8f2e2830",
   "metadata": {},
   "outputs": [
    {
     "data": {
      "text/markdown": [
       "**Severity of Crime by Time of the day** (Order by 3.Moderate):"
      ],
      "text/plain": [
       "<IPython.core.display.Markdown object>"
      ]
     },
     "metadata": {},
     "output_type": "display_data"
    },
    {
     "name": "stderr",
     "output_type": "stream",
     "text": [
      "[Stage 83:===============================================>      (177 + 2) / 200]\r"
     ]
    },
    {
     "name": "stdout",
     "output_type": "stream",
     "text": [
      "+---------------+--------+-------------+----------+------+-------------+\n",
      "|    TimeSegment|1.Severe|2.Less Severe|3.Moderate|4.Mild|5. Not Severe|\n",
      "+---------------+--------+-------------+----------+------+-------------+\n",
      "|      4.Evening|    0.14|        10.65|      4.23|   8.6|         3.28|\n",
      "|    3.Afternoon|    0.08|         7.86|      2.63|  4.84|         2.21|\n",
      "|        5.Night|    0.21|         8.26|      2.42|  7.27|         1.99|\n",
      "| 2.Late Morning|    0.05|         5.24|      1.78|  3.86|         1.67|\n",
      "|         6.Dawn|    0.26|         5.77|       1.2|  4.45|         1.32|\n",
      "|1.Early Morning|    0.08|         4.47|      1.17|  2.73|          1.3|\n",
      "+---------------+--------+-------------+----------+------+-------------+\n",
      "\n"
     ]
    },
    {
     "name": "stderr",
     "output_type": "stream",
     "text": [
      "                                                                                \r"
     ]
    }
   ],
   "source": [
    "display(Markdown(\"**Severity of Crime by Time of the day** (Order by 3.Moderate):\"))\n",
    "\n",
    "#,col(\"`2.Less Severe`\").desc(),col(\"`3.Moderate`\").desc(),col(\"`4.Mild`\").desc(),col(\"`5.Not Severe`\").desc()\n",
    "\n",
    "SeverityCategorizationDF.groupBy(\"TimeSegment\")\\\n",
    "                        .pivot(\"CrimeSeverity\")\\\n",
    "                        .agg(count(\"CrimeSeverity\")/totalCrimes*100)\\\n",
    "                        .orderBy(col(\"`3.Moderate`\").desc())\\\n",
    "                        .select(\"TimeSegment\",round(\"`1.Severe`\",2).alias(\"1.Severe\"),round(\"`2.Less Severe`\",2).alias(\"2.Less Severe\"),round(\"`3.Moderate`\",2).alias(\"3.Moderate\"),round(\"`4.Mild`\",2).alias(\"4.Mild\"),round(\"`5.Not Severe`\",2).alias(\"5. Not Severe\")).show()"
   ]
  },
  {
   "cell_type": "code",
   "execution_count": 26,
   "id": "491790ed",
   "metadata": {},
   "outputs": [
    {
     "data": {
      "text/markdown": [
       "**Severity of Crime by Time of the day** (Order by 5.Not Severe):"
      ],
      "text/plain": [
       "<IPython.core.display.Markdown object>"
      ]
     },
     "metadata": {},
     "output_type": "display_data"
    },
    {
     "name": "stderr",
     "output_type": "stream",
     "text": [
      "[Stage 88:============================================>         (165 + 2) / 200]\r"
     ]
    },
    {
     "name": "stdout",
     "output_type": "stream",
     "text": [
      "+---------------+--------+-------------+----------+------+-------------+\n",
      "|    TimeSegment|1.Severe|2.Less Severe|3.Moderate|4.Mild|5. Not Severe|\n",
      "+---------------+--------+-------------+----------+------+-------------+\n",
      "|      4.Evening|    0.14|        10.65|      4.23|   8.6|         3.28|\n",
      "|    3.Afternoon|    0.08|         7.86|      2.63|  4.84|         2.21|\n",
      "|        5.Night|    0.21|         8.26|      2.42|  7.27|         1.99|\n",
      "| 2.Late Morning|    0.05|         5.24|      1.78|  3.86|         1.67|\n",
      "|         6.Dawn|    0.26|         5.77|       1.2|  4.45|         1.32|\n",
      "|1.Early Morning|    0.08|         4.47|      1.17|  2.73|          1.3|\n",
      "+---------------+--------+-------------+----------+------+-------------+\n",
      "\n"
     ]
    },
    {
     "name": "stderr",
     "output_type": "stream",
     "text": [
      "                                                                                \r"
     ]
    }
   ],
   "source": [
    "display(Markdown(\"**Severity of Crime by Time of the day** (Order by 5.Not Severe):\"))\n",
    "\n",
    "SeverityCategorizationDF.groupBy(\"TimeSegment\")\\\n",
    "                        .pivot(\"CrimeSeverity\")\\\n",
    "                        .agg(count(\"CrimeSeverity\")/totalCrimes*100)\\\n",
    "                        .orderBy(col(\"`5.Not Severe`\").desc())\\\n",
    "                        .select(\"TimeSegment\",round(\"`1.Severe`\",2).alias(\"1.Severe\"),round(\"`2.Less Severe`\",2).alias(\"2.Less Severe\"),round(\"`3.Moderate`\",2).alias(\"3.Moderate\"),round(\"`4.Mild`\",2).alias(\"4.Mild\"),round(\"`5.Not Severe`\",2).alias(\"5. Not Severe\")).show()"
   ]
  },
  {
   "cell_type": "code",
   "execution_count": 27,
   "id": "4f3703a6",
   "metadata": {},
   "outputs": [
    {
     "data": {
      "text/markdown": [
       "**Severity of Crime by Year**"
      ],
      "text/plain": [
       "<IPython.core.display.Markdown object>"
      ]
     },
     "metadata": {},
     "output_type": "display_data"
    },
    {
     "name": "stderr",
     "output_type": "stream",
     "text": [
      "[Stage 95:==============================================>       (171 + 3) / 200]\r"
     ]
    },
    {
     "name": "stdout",
     "output_type": "stream",
     "text": [
      "+----+--------+-------------+----------+------+------------+\n",
      "|Year|1.Severe|2.Less Severe|3.Moderate|4.Mild|5.Not Severe|\n",
      "+----+--------+-------------+----------+------+------------+\n",
      "|2021|       6|           49|         6|     8|          45|\n",
      "|2020|      29|          307|        60|    86|         119|\n",
      "|2019|     152|         7191|      2565|  5853|        2142|\n",
      "|2018|     171|         7829|      2638|  5905|        2103|\n",
      "|2017|     163|         7883|      2578|  5975|        2176|\n",
      "|2016|     155|         7753|      2642|  5743|        2018|\n",
      "|2015|     157|         7380|      2784|  5529|        2016|\n",
      "|2014|     131|         6635|      2275|  5320|        1918|\n",
      "|2013|     111|         6821|      2194|  5165|        1917|\n",
      "|2012|     126|         7107|      2237|  5154|        1999|\n",
      "|2011|      99|         7161|      1963|  5243|        2054|\n",
      "|2010|     124|         7576|      1485|  5407|        2016|\n",
      "+----+--------+-------------+----------+------+------------+\n",
      "\n"
     ]
    },
    {
     "name": "stderr",
     "output_type": "stream",
     "text": [
      "                                                                                \r"
     ]
    }
   ],
   "source": [
    "display(Markdown(\"**Severity of Crime by Year**\"))\n",
    "\n",
    "SeverityCategorizationDF.groupBy(\"Year\")\\\n",
    "                        .pivot(\"CrimeSeverity\")\\\n",
    "                        .agg(count(\"CrimeSeverity\"))\\\n",
    "                        .orderBy(col(\"Year\").desc())\\\n",
    "                        .show()"
   ]
  },
  {
   "cell_type": "markdown",
   "id": "8baf246b",
   "metadata": {},
   "source": [
    "### B. Is there Age, Gender or Race Discrimination by Crime Severity?"
   ]
  },
  {
   "cell_type": "code",
   "execution_count": 28,
   "id": "af98048d",
   "metadata": {},
   "outputs": [
    {
     "name": "stdout",
     "output_type": "stream",
     "text": [
      "Total Crimes towards Male 86231\n",
      "Total Crimes towards Female 87605\n",
      "Ratio Male/Women: 0.9843159637007021\n"
     ]
    }
   ],
   "source": [
    "TotalCrimeMale = df_sample.where(col(\"Vict Sex\")==\"M\").count()\n",
    "\n",
    "TotalCrimeFemale = df_sample.where(col(\"Vict Sex\")==\"F\").count()\n",
    "\n",
    "print(\"Total Crimes towards Male\",TotalCrimeMale)\n",
    "print(\"Total Crimes towards Female\", TotalCrimeFemale)\n",
    "print(\"Ratio Male/Women:\", TotalCrimeMale/TotalCrimeFemale)"
   ]
  },
  {
   "cell_type": "code",
   "execution_count": 29,
   "id": "30917201",
   "metadata": {},
   "outputs": [
    {
     "data": {
      "text/markdown": [
       "**Severity of Crime by Gender** (MALE):"
      ],
      "text/plain": [
       "<IPython.core.display.Markdown object>"
      ]
     },
     "metadata": {},
     "output_type": "display_data"
    },
    {
     "name": "stderr",
     "output_type": "stream",
     "text": [
      "                                                                                \r"
     ]
    },
    {
     "name": "stdout",
     "output_type": "stream",
     "text": [
      "+-------------+-----------------+------------+\n",
      "|CrimeSeverity|TotalCrimesGender|RoundedRatio|\n",
      "+-------------+-----------------+------------+\n",
      "|     1.Severe|              253|        0.29|\n",
      "|2.Less Severe|            41633|       48.28|\n",
      "|   3.Moderate|            12720|       14.75|\n",
      "| 5.Not Severe|             7187|        8.33|\n",
      "|       4.Mild|            24438|       28.34|\n",
      "+-------------+-----------------+------------+\n",
      "\n"
     ]
    },
    {
     "data": {
      "text/markdown": [
       "With total crimes of **86231**."
      ],
      "text/plain": [
       "<IPython.core.display.Markdown object>"
      ]
     },
     "metadata": {},
     "output_type": "display_data"
    }
   ],
   "source": [
    "from pyspark.sql.functions import max, min, avg, stddev\n",
    "\n",
    "TotalCrimeMale = df_sample.where(col(\"Vict Sex\")==\"M\").count()\n",
    "\n",
    "display(Markdown(\"**Severity of Crime by Gender** (MALE):\"))\n",
    "SeverityCategorizationDF.where(col(\"Vict Sex\")==\"M\")\\\n",
    "              .groupBy(\"CrimeSeverity\")\\\n",
    "              .agg(count(\"CrimeSeverity\").alias(\"TotalCrimesGender\"), \\\n",
    "                  (count(\"CrimeSeverity\")/TotalCrimeMale*100).alias(\"Ratio\"))\\\n",
    "               .select(\"CrimeSeverity\",\"TotalCrimesGender\",round(\"Ratio\",2).alias(\"RoundedRatio\")).show()\n",
    "\n",
    "display(Markdown(\"With total crimes of **%d**.\" % TotalCrimeMale))"
   ]
  },
  {
   "cell_type": "code",
   "execution_count": 30,
   "id": "89b69f63",
   "metadata": {},
   "outputs": [
    {
     "data": {
      "text/markdown": [
       "**Severity of Crime by Gender** (FEMALE):"
      ],
      "text/plain": [
       "<IPython.core.display.Markdown object>"
      ]
     },
     "metadata": {},
     "output_type": "display_data"
    },
    {
     "name": "stdout",
     "output_type": "stream",
     "text": [
      "+-------------+-----------------+------------+\n",
      "|CrimeSeverity|TotalCrimesGender|RoundedRatio|\n",
      "+-------------+-----------------+------------+\n",
      "|     1.Severe|             1171|        1.36|\n",
      "|2.Less Severe|            31859|       36.95|\n",
      "|   3.Moderate|            10503|       12.18|\n",
      "| 5.Not Severe|            13281|        15.4|\n",
      "|       4.Mild|            30791|       35.71|\n",
      "+-------------+-----------------+------------+\n",
      "\n"
     ]
    },
    {
     "data": {
      "text/markdown": [
       "With total crimes of **87605**."
      ],
      "text/plain": [
       "<IPython.core.display.Markdown object>"
      ]
     },
     "metadata": {},
     "output_type": "display_data"
    }
   ],
   "source": [
    "from pyspark.sql.functions import max, min, avg, stddev\n",
    "\n",
    "display(Markdown(\"**Severity of Crime by Gender** (FEMALE):\"))\n",
    "SeverityCategorizationDF.where(col(\"Vict Sex\")==\"F\")\\\n",
    "              .groupBy(\"CrimeSeverity\")\\\n",
    "              .agg(count(\"CrimeSeverity\").alias(\"TotalCrimesGender\"), \\\n",
    "                  (count(\"CrimeSeverity\")/TotalCrimeMale*100).alias(\"Ratio\"))\\\n",
    "               .select(\"CrimeSeverity\",\"TotalCrimesGender\",round(\"Ratio\",2).alias(\"RoundedRatio\")).show()\n",
    "\n",
    "display(Markdown(\"With total crimes of **%d**.\" % TotalCrimeFemale))"
   ]
  },
  {
   "cell_type": "code",
   "execution_count": 31,
   "id": "fc89fe8b",
   "metadata": {},
   "outputs": [
    {
     "data": {
      "text/markdown": [
       "**Most Common Crimes**"
      ],
      "text/plain": [
       "<IPython.core.display.Markdown object>"
      ]
     },
     "metadata": {},
     "output_type": "display_data"
    },
    {
     "name": "stderr",
     "output_type": "stream",
     "text": [
      "[Stage 127:====================================================>(198 + 2) / 200]\r"
     ]
    },
    {
     "name": "stdout",
     "output_type": "stream",
     "text": [
      "+--------------------------------------------------------+----+----+-----+\n",
      "|Crm Cd Desc                                             |F   |M   |Ratio|\n",
      "+--------------------------------------------------------+----+----+-----+\n",
      "|RAPE, FORCIBLE                                          |1029|10  |102.9|\n",
      "|RAPE, ATTEMPTED                                         |102 |2   |51.0 |\n",
      "|PIMPING                                                 |45  |1   |45.0 |\n",
      "|PURSE SNATCHING                                         |123 |5   |24.6 |\n",
      "|BATTERY WITH SEXUAL CONTACT                             |1100|93  |11.83|\n",
      "|SEXUAL PENETRATION W/FOREIGN OBJECT                     |234 |22  |10.64|\n",
      "|KIDNAPPING - GRAND ATTEMPT                              |48  |5   |9.6  |\n",
      "|PANDERING                                               |25  |3   |8.33 |\n",
      "|HUMAN TRAFFICKING - INVOLUNTARY SERVITUDE               |7   |1   |7.0  |\n",
      "|SEX,UNLAWFUL(INC MUTUAL CONSENT, PENETRATION W/ FRGN OBJ|390 |59  |6.61 |\n",
      "|STALKING                                                |157 |26  |6.04 |\n",
      "|PEEPING TOM                                             |101 |17  |5.94 |\n",
      "|KIDNAPPING                                              |153 |28  |5.46 |\n",
      "|CRM AGNST CHLD (13 OR UNDER) (14-15 & SUSP 10 YRS OLDER)|722 |144 |5.01 |\n",
      "|TELEPHONE PROPERTY - DAMAGE                             |5   |1   |5.0  |\n",
      "|INDECENT EXPOSURE                                       |307 |64  |4.8  |\n",
      "|LEWD CONDUCT                                            |93  |22  |4.23 |\n",
      "|INTIMATE PARTNER - SIMPLE ASSAULT                       |9081|2184|4.16 |\n",
      "|CHILD ANNOYING (17YRS & UNDER)                          |406 |99  |4.1  |\n",
      "|GRAND THEFT / INSURANCE FRAUD                           |4   |1   |4.0  |\n",
      "+--------------------------------------------------------+----+----+-----+\n",
      "only showing top 20 rows\n",
      "\n"
     ]
    },
    {
     "name": "stderr",
     "output_type": "stream",
     "text": [
      "                                                                                \r"
     ]
    }
   ],
   "source": [
    "import pyspark.sql.functions as F\n",
    "\n",
    "display(Markdown(\"**Most Common Crimes**\"))\n",
    "\n",
    "SeverityCategorizationDF.where((col(\"Vict Sex\")==\"F\") | (col(\"Vict Sex\")==\"M\"))\\\n",
    "                        .groupBy(\"Crm Cd Desc\")\\\n",
    "                        .pivot(\"Vict Sex\")\\\n",
    "                        .agg(count(\"Vict Sex\"))\\\n",
    "                        .withColumn(\"F/M ratio\",F.col(\"F\")/F.col(\"M\"))\\\n",
    "                        .orderBy(col(\"F/M ratio\").desc())\\\n",
    "                        .select(\"Crm Cd Desc\",\"F\",\"M\",round(\"F/M ratio\",2).alias(\"Ratio\")).show(truncate = False)"
   ]
  },
  {
   "cell_type": "code",
   "execution_count": 32,
   "id": "61273fb3",
   "metadata": {},
   "outputs": [
    {
     "data": {
      "text/markdown": [
       "**Severity of Crime by Age**"
      ],
      "text/plain": [
       "<IPython.core.display.Markdown object>"
      ]
     },
     "metadata": {},
     "output_type": "display_data"
    },
    {
     "name": "stderr",
     "output_type": "stream",
     "text": [
      "[Stage 129:=============================================>       (173 + 2) / 200]\r"
     ]
    },
    {
     "name": "stdout",
     "output_type": "stream",
     "text": [
      "+-------------+------------------+---------+----------+------------------+\n",
      "|CrimeSeverity|        AverageAge|LowestAge|HighestAge|         StdDevAge|\n",
      "+-------------+------------------+---------+----------+------------------+\n",
      "|     1.Severe|28.223314606741575|        2|        86|13.703490585248609|\n",
      "|2.Less Severe| 39.94025131628942|        2|        99| 16.07501815603156|\n",
      "|   3.Moderate|  39.0078114995518|        3|        99|15.630281838246544|\n",
      "|       4.Mild| 37.68778435762259|        2|        99|15.511123055128408|\n",
      "| 5.Not Severe|  35.2440676314379|        2|        99|16.741300616803212|\n",
      "+-------------+------------------+---------+----------+------------------+\n",
      "\n"
     ]
    },
    {
     "name": "stderr",
     "output_type": "stream",
     "text": [
      "                                                                                \r"
     ]
    }
   ],
   "source": [
    "from pyspark.sql.functions import max, min, avg, stddev\n",
    "\n",
    "display(Markdown(\"**Severity of Crime by Age**\"))\n",
    "SeverityCategorizationDF.groupBy(\"CrimeSeverity\")\\\n",
    "              .agg(avg(\"Vict Age\").alias(\"AverageAge\"),\\\n",
    "                   min(\"Vict Age\").alias(\"LowestAge\"),\\\n",
    "                   max(\"Vict Age\").alias(\"HighestAge\"),\\\n",
    "                   stddev(\"Vict Age\").alias(\"StdDevAge\"))\\\n",
    "              .orderBy(\"CrimeSeverity\").show()"
   ]
  },
  {
   "cell_type": "code",
   "execution_count": 43,
   "id": "7fc7b968",
   "metadata": {},
   "outputs": [
    {
     "name": "stderr",
     "output_type": "stream",
     "text": [
      "[Stage 174:===============================================>     (181 + 2) / 200]\r"
     ]
    },
    {
     "name": "stdout",
     "output_type": "stream",
     "text": [
      "+-------+--------+-------------+----------+------+------------+\n",
      "|Age_Seg|1.Severe|2.Less Severe|3.Moderate|4.Mild|5.Not Severe|\n",
      "+-------+--------+-------------+----------+------+------------+\n",
      "|   0-17|     283|         2728|       813|  3180|        3347|\n",
      "|  18-24|     434|        10251|      3776|  8919|        2562|\n",
      "|  25-34|     329|        18776|      6186| 14620|        4790|\n",
      "|  35-44|     171|        15112|      4623| 10946|        3897|\n",
      "|  45-54|     123|        12715|      3906|  9203|        3134|\n",
      "|  55-64|      65|         8336|      2508|  5536|        1789|\n",
      "|    65+|      19|         5774|      1615|  2984|        1004|\n",
      "+-------+--------+-------------+----------+------+------------+\n",
      "\n"
     ]
    },
    {
     "name": "stderr",
     "output_type": "stream",
     "text": [
      "                                                                                \r"
     ]
    }
   ],
   "source": [
    "from pyspark.sql.functions import count, round\n",
    "\n",
    "# Crime Severity Segmentation:\n",
    "#\n",
    "#   [0-18)\n",
    "#   [18-25)\n",
    "#   [25-35)\n",
    "#   [35-45)\n",
    "#   [45-55)\n",
    "#   [55-65)\n",
    "#   [65 and older\n",
    "\n",
    "\n",
    "\n",
    "\n",
    "# 1. Let's enrich the DF with our categorization\n",
    "totalCrimes = df_sample.count()\n",
    "SeverityCategorizationDF = SeverityCategorizationDF.withColumn(\"Age_Seg\", when(col(\"Vict Age\")<18,\"0-17\")\\\n",
    "                               .when((col(\"Vict Age\")>=18) & (col(\"Vict Age\")<25),\"18-24\")\\\n",
    "                               .when((col(\"Vict Age\")>=25) & (col(\"Vict Age\")<35),\"25-34\")\\\n",
    "                               .when((col(\"Vict Age\")>=35) & (col(\"Vict Age\")<45),\"35-44\")\\\n",
    "                               .when((col(\"Vict Age\")>=45) & (col(\"Vict Age\")<55),\"45-54\")\\\n",
    "                               .when((col(\"Vict Age\")>=55) & (col(\"Vict Age\")<65),\"55-64\")\\\n",
    "                               .otherwise(\"65+\"))\n",
    "SeverityCategorizationDF.cache() # optimization to make the processing faster\n",
    "\n",
    "# 2. Ready to answer to this business question\n",
    "display(Markdown(\"**Severity of Crime by Age Segmentation**\"))\n",
    "\n",
    "SeverityCategorizationDF.groupBy(\"Age_Seg\")\\\n",
    "                        .pivot(\"CrimeSeverity\")\\\n",
    "                        .agg(count(\"CrimeSeverity\"))\\\n",
    "                        .orderBy(col(\"Age_Seg\"))\\\n",
    "                        .show()"
   ]
  },
  {
   "cell_type": "code",
   "execution_count": 44,
   "id": "f108b032",
   "metadata": {},
   "outputs": [
    {
     "data": {
      "text/markdown": [
       "**Severity of Crime by Time of the day** (Order by 5.Not Severe):"
      ],
      "text/plain": [
       "<IPython.core.display.Markdown object>"
      ]
     },
     "metadata": {},
     "output_type": "display_data"
    },
    {
     "name": "stderr",
     "output_type": "stream",
     "text": [
      "[Stage 180:======================================>              (147 + 3) / 200]\r"
     ]
    },
    {
     "name": "stdout",
     "output_type": "stream",
     "text": [
      "+-------+--------+-------------+----------+------+-------------+\n",
      "|Age_Seg|1.Severe|2.Less Severe|3.Moderate|4.Mild|5. Not Severe|\n",
      "+-------+--------+-------------+----------+------+-------------+\n",
      "|  25-34|    0.19|        10.76|      3.55|  8.38|         2.75|\n",
      "|  35-44|     0.1|         8.66|      2.65|  6.27|         2.23|\n",
      "|   0-17|    0.16|         1.56|      0.47|  1.82|         1.92|\n",
      "|  45-54|    0.07|         7.29|      2.24|  5.28|          1.8|\n",
      "|  18-24|    0.25|         5.88|      2.16|  5.11|         1.47|\n",
      "|  55-64|    0.04|         4.78|      1.44|  3.17|         1.03|\n",
      "|    65+|    0.01|         3.31|      0.93|  1.71|         0.58|\n",
      "+-------+--------+-------------+----------+------+-------------+\n",
      "\n"
     ]
    },
    {
     "name": "stderr",
     "output_type": "stream",
     "text": [
      "                                                                                \r"
     ]
    }
   ],
   "source": [
    "display(Markdown(\"**Severity of Crime by Time of the day** (Order by 5.Not Severe):\"))\n",
    "SeverityCategorizationDF.groupBy(\"Age_Seg\")\\\n",
    "                        .pivot(\"CrimeSeverity\")\\\n",
    "                        .agg(count(\"CrimeSeverity\")/totalCrimes*100)\\\n",
    "                        .orderBy(col(\"`5.Not Severe`\").desc())\\\n",
    "                        .select(\"Age_Seg\",round(\"`1.Severe`\",2).alias(\"1.Severe\"),round(\"`2.Less Severe`\",2).alias(\"2.Less Severe\"),round(\"`3.Moderate`\",2).alias(\"3.Moderate\"),round(\"`4.Mild`\",2).alias(\"4.Mild\"),round(\"`5.Not Severe`\",2).alias(\"5. Not Severe\")).show()"
   ]
  },
  {
   "cell_type": "code",
   "execution_count": 47,
   "id": "2c6f6031",
   "metadata": {},
   "outputs": [
    {
     "data": {
      "text/markdown": [
       "**Severity of Crime by Time of the day** (Order by 3.Moderate):"
      ],
      "text/plain": [
       "<IPython.core.display.Markdown object>"
      ]
     },
     "metadata": {},
     "output_type": "display_data"
    },
    {
     "name": "stderr",
     "output_type": "stream",
     "text": [
      "[Stage 195:==================================================>  (192 + 2) / 200]\r"
     ]
    },
    {
     "name": "stdout",
     "output_type": "stream",
     "text": [
      "+-------+--------+-------------+----------+------+-------------+\n",
      "|Age_Seg|1.Severe|2.Less Severe|3.Moderate|4.Mild|5. Not Severe|\n",
      "+-------+--------+-------------+----------+------+-------------+\n",
      "|  25-34|    0.19|        10.76|      3.55|  8.38|         2.75|\n",
      "|  35-44|     0.1|         8.66|      2.65|  6.27|         2.23|\n",
      "|  45-54|    0.07|         7.29|      2.24|  5.28|          1.8|\n",
      "|  18-24|    0.25|         5.88|      2.16|  5.11|         1.47|\n",
      "|  55-64|    0.04|         4.78|      1.44|  3.17|         1.03|\n",
      "|    65+|    0.01|         3.31|      0.93|  1.71|         0.58|\n",
      "|   0-17|    0.16|         1.56|      0.47|  1.82|         1.92|\n",
      "+-------+--------+-------------+----------+------+-------------+\n",
      "\n"
     ]
    },
    {
     "name": "stderr",
     "output_type": "stream",
     "text": [
      "                                                                                \r"
     ]
    }
   ],
   "source": [
    "display(Markdown(\"**Severity of Crime by Time of the day** (Order by 3.Moderate):\"))\n",
    "SeverityCategorizationDF.groupBy(\"Age_Seg\")\\\n",
    "                        .pivot(\"CrimeSeverity\")\\\n",
    "                        .agg(count(\"CrimeSeverity\")/totalCrimes*100)\\\n",
    "                        .orderBy(col(\"`3.Moderate`\").desc())\\\n",
    "                        .select(\"Age_Seg\",round(\"`1.Severe`\",2).alias(\"1.Severe\"),round(\"`2.Less Severe`\",2).alias(\"2.Less Severe\"),round(\"`3.Moderate`\",2).alias(\"3.Moderate\"),round(\"`4.Mild`\",2).alias(\"4.Mild\"),round(\"`5.Not Severe`\",2).alias(\"5. Not Severe\")).show()"
   ]
  },
  {
   "cell_type": "code",
   "execution_count": 48,
   "id": "35f3cb51",
   "metadata": {},
   "outputs": [
    {
     "data": {
      "text/markdown": [
       "**Severity of Crime by Time of the day** (Order by 5.Not Severe):"
      ],
      "text/plain": [
       "<IPython.core.display.Markdown object>"
      ]
     },
     "metadata": {},
     "output_type": "display_data"
    },
    {
     "name": "stderr",
     "output_type": "stream",
     "text": [
      "[Stage 201:================================================>    (182 + 2) / 200]\r"
     ]
    },
    {
     "name": "stdout",
     "output_type": "stream",
     "text": [
      "+-------+--------+-------------+----------+------+-------------+\n",
      "|Age_Seg|1.Severe|2.Less Severe|3.Moderate|4.Mild|5. Not Severe|\n",
      "+-------+--------+-------------+----------+------+-------------+\n",
      "|  25-34|    0.19|        10.76|      3.55|  8.38|         2.75|\n",
      "|  35-44|     0.1|         8.66|      2.65|  6.27|         2.23|\n",
      "|   0-17|    0.16|         1.56|      0.47|  1.82|         1.92|\n",
      "|  45-54|    0.07|         7.29|      2.24|  5.28|          1.8|\n",
      "|  18-24|    0.25|         5.88|      2.16|  5.11|         1.47|\n",
      "|  55-64|    0.04|         4.78|      1.44|  3.17|         1.03|\n",
      "|    65+|    0.01|         3.31|      0.93|  1.71|         0.58|\n",
      "+-------+--------+-------------+----------+------+-------------+\n",
      "\n"
     ]
    },
    {
     "name": "stderr",
     "output_type": "stream",
     "text": [
      "                                                                                \r"
     ]
    }
   ],
   "source": [
    "display(Markdown(\"**Severity of Crime by Time of the day** (Order by 5.Not Severe):\"))\n",
    "SeverityCategorizationDF.groupBy(\"Age_Seg\")\\\n",
    "                        .pivot(\"CrimeSeverity\")\\\n",
    "                        .agg(count(\"CrimeSeverity\")/totalCrimes*100)\\\n",
    "                        .orderBy(col(\"`5.Not Severe`\").desc())\\\n",
    "                        .select(\"Age_Seg\",round(\"`1.Severe`\",2).alias(\"1.Severe\"),round(\"`2.Less Severe`\",2).alias(\"2.Less Severe\"),round(\"`3.Moderate`\",2).alias(\"3.Moderate\"),round(\"`4.Mild`\",2).alias(\"4.Mild\"),round(\"`5.Not Severe`\",2).alias(\"5. Not Severe\")).show()"
   ]
  },
  {
   "cell_type": "code",
   "execution_count": 25,
   "id": "a1470b2b",
   "metadata": {},
   "outputs": [
    {
     "data": {
      "text/markdown": [
       "**Severity of Crime by Race**"
      ],
      "text/plain": [
       "<IPython.core.display.Markdown object>"
      ]
     },
     "metadata": {},
     "output_type": "display_data"
    },
    {
     "name": "stderr",
     "output_type": "stream",
     "text": [
      "[Stage 139:==================================================>  (192 + 2) / 200]\r"
     ]
    },
    {
     "name": "stdout",
     "output_type": "stream",
     "text": [
      "+------------------------------+--------+-------------+----------+------+------------+\n",
      "|Race Desc                     |1.Severe|2.Less Severe|3.Moderate|4.Mild|5.Not Severe|\n",
      "+------------------------------+--------+-------------+----------+------+------------+\n",
      "|Hispanic/Latin/Mexican        |604     |28809        |8226      |23714 |9738        |\n",
      "|Black                         |350     |12841        |3439      |12583 |4467        |\n",
      "|White                         |281     |23258        |7100      |12180 |5095        |\n",
      "|Other                         |59      |7687         |2339      |4273  |1467        |\n",
      "|Other Asian                   |40      |2469         |703       |1138  |338         |\n",
      "|Korean                        |4       |461          |70        |265   |87          |\n",
      "|American Indian/Alaskan Native|2       |29           |21        |16    |8           |\n",
      "|Unknown                       |1       |197          |362       |161   |88          |\n",
      "|Filipino                      |1       |118          |35        |85    |39          |\n",
      "|Chinese                       |1       |35           |11        |19    |2           |\n",
      "|Japanese                      |null    |19           |4         |7     |4           |\n",
      "|Pacific Islander              |null    |14           |3         |5     |4           |\n",
      "|Vietnamese                    |null    |12           |3         |3     |3           |\n",
      "|Asian Indian                  |null    |4            |null      |3     |null        |\n",
      "|Hawaiian                      |null    |3            |4         |3     |3           |\n",
      "|Guamanian                     |null    |3            |null      |2     |3           |\n",
      "|Samoan                        |null    |1            |1         |1     |null        |\n",
      "|Laotian                       |null    |1            |null      |null  |null        |\n",
      "|Cambodian                     |null    |1            |null      |null  |null        |\n",
      "+------------------------------+--------+-------------+----------+------+------------+\n",
      "\n"
     ]
    },
    {
     "name": "stderr",
     "output_type": "stream",
     "text": [
      "                                                                                \r"
     ]
    }
   ],
   "source": [
    "display(Markdown(\"**Severity of Crime by Race**\"))\n",
    "\n",
    "#Descent Code: \n",
    "#A - Other Asian \n",
    "#B - Black \n",
    "#C - Chinese \n",
    "#D - Cambodian \n",
    "#F - Filipino \n",
    "#G - Guamanian \n",
    "#H - Hispanic/Latin/Mexican \n",
    "#I - American Indian/Alaskan Native \n",
    "#J - Japanese \n",
    "#K - Korean \n",
    "#L - Laotian \n",
    "#O - Other \n",
    "#P - Pacific Islander \n",
    "#S - Samoan \n",
    "#U - Hawaiian \n",
    "#V - Vietnamese \n",
    "#W - White \n",
    "#X - Unknown \n",
    "#Z - Asian Indian.\n",
    "\n",
    "\n",
    "# 1. Let's enrich the DF with our categorization\n",
    "SeverityCategorizationDF = SeverityCategorizationDF.withColumn(\"Race Desc\", when(col(\"Vict Descent\")==\"A\",\"Other Asian\")\\\n",
    "                               .when(col(\"Vict Descent\")==\"B\",\"Black\")\\\n",
    "                               .when(col(\"Vict Descent\")==\"C\",\"Chinese\")\\\n",
    "                               .when(col(\"Vict Descent\")==\"D\",\"Cambodian\")\\\n",
    "                               .when(col(\"Vict Descent\")==\"F\",\"Filipino\")\\\n",
    "                               .when(col(\"Vict Descent\")==\"G\",\"Guamanian\")\\\n",
    "                               .when(col(\"Vict Descent\")==\"H\",\"Hispanic/Latin/Mexican\")\\\n",
    "                               .when(col(\"Vict Descent\")==\"I\",\"American Indian/Alaskan Native\")\\\n",
    "                               .when(col(\"Vict Descent\")==\"J\",\"Japanese\")\\\n",
    "                               .when(col(\"Vict Descent\")==\"K\",\"Korean\")\\\n",
    "                               .when(col(\"Vict Descent\")==\"L\",\"Laotian\")\\\n",
    "                               .when(col(\"Vict Descent\")==\"O\",\"Other\")\\\n",
    "                               .when(col(\"Vict Descent\")==\"P\",\"Pacific Islander\")\\\n",
    "                               .when(col(\"Vict Descent\")==\"S\",\"Samoan\")\\\n",
    "                               .when(col(\"Vict Descent\")==\"U\",\"Hawaiian\")\\\n",
    "                               .when(col(\"Vict Descent\")==\"V\",\"Vietnamese\")\\\n",
    "                               .when(col(\"Vict Descent\")==\"W\",\"White\")\\\n",
    "                               .when(col(\"Vict Descent\")==\"Z\",\"Asian Indian\")\\\n",
    "                               .otherwise(\"Unknown\"))\n",
    "\n",
    "\n",
    "SeverityCategorizationDF.groupBy(\"Race Desc\")\\\n",
    "                        .pivot(\"CrimeSeverity\")\\\n",
    "                        .agg(count(\"CrimeSeverity\"))\\\n",
    "                        .orderBy(col(\"`1.Severe`\").desc(),col(\"`2.Less Severe`\").desc(),col(\"`3.Moderate`\").desc(),col(\"`4.Mild`\").desc(),col(\"`5.Not Severe`\").desc())\\\n",
    "                        .show(truncate = False)"
   ]
  },
  {
   "cell_type": "code",
   "execution_count": null,
   "id": "3f0472fb",
   "metadata": {},
   "outputs": [],
   "source": []
  },
  {
   "cell_type": "code",
   "execution_count": 26,
   "id": "51de2f49",
   "metadata": {},
   "outputs": [
    {
     "data": {
      "text/markdown": [
       "**Most Common Crimes against Hispanic/Latin/Mexican**"
      ],
      "text/plain": [
       "<IPython.core.display.Markdown object>"
      ]
     },
     "metadata": {},
     "output_type": "display_data"
    },
    {
     "name": "stdout",
     "output_type": "stream",
     "text": [
      "+--------------------------------------------------------+------------+-----+\n",
      "|Crm Cd Desc                                             |Total Crimes|Ratio|\n",
      "+--------------------------------------------------------+------------+-----+\n",
      "|BATTERY - SIMPLE ASSAULT                                |8712        |0.12 |\n",
      "|INTIMATE PARTNER - SIMPLE ASSAULT                       |5722        |0.08 |\n",
      "|BURGLARY FROM VEHICLE                                   |5633        |0.08 |\n",
      "|THEFT OF IDENTITY                                       |4926        |0.07 |\n",
      "|ROBBERY                                                 |4542        |0.06 |\n",
      "|THEFT PLAIN - PETTY ($950 & UNDER)                      |4426        |0.06 |\n",
      "|BURGLARY                                                |4237        |0.06 |\n",
      "|ASSAULT WITH DEADLY WEAPON, AGGRAVATED ASSAULT          |4068        |0.06 |\n",
      "|VANDALISM - MISDEAMEANOR ($399 OR UNDER)                |3478        |0.05 |\n",
      "|VANDALISM - FELONY ($400 & OVER, ALL CHURCH VANDALISMS) |3250        |0.05 |\n",
      "|CRIMINAL THREATS - NO WEAPON DISPLAYED                  |2744        |0.04 |\n",
      "|THEFT FROM MOTOR VEHICLE - PETTY ($950 & UNDER)         |1871        |0.03 |\n",
      "|THEFT-GRAND ($950.01 & OVER)EXCPT,GUNS,FOWL,LIVESTK,PROD|1755        |0.02 |\n",
      "|SHOPLIFTING - PETTY THEFT ($950 & UNDER)                |1114        |0.02 |\n",
      "|VIOLATION OF COURT ORDER                                |993         |0.01 |\n",
      "|CRM AGNST CHLD (13 OR UNDER) (14-15 & SUSP 10 YRS OLDER)|821         |0.01 |\n",
      "|THEFT FROM MOTOR VEHICLE - GRAND ($400 AND OVER)        |820         |0.01 |\n",
      "|LETTERS, LEWD  -  TELEPHONE CALLS, LEWD                 |815         |0.01 |\n",
      "|VIOLATION OF RESTRAINING ORDER                          |801         |0.01 |\n",
      "|DOCUMENT FORGERY / STOLEN FELONY                        |761         |0.01 |\n",
      "+--------------------------------------------------------+------------+-----+\n",
      "only showing top 20 rows\n",
      "\n"
     ]
    },
    {
     "name": "stderr",
     "output_type": "stream",
     "text": [
      "                                                                                \r"
     ]
    }
   ],
   "source": [
    "display(Markdown(\"**Most Common Crimes against Hispanic/Latin/Mexican**\"))\n",
    "\n",
    "TotalCrimeHisp = SeverityCategorizationDF.where(col(\"Race Desc\")==\"Hispanic/Latin/Mexican\").count()\n",
    "\n",
    "\n",
    "SeverityCategorizationDF.where(col(\"Race Desc\")==\"Hispanic/Latin/Mexican\")\\\n",
    "                        .groupBy(\"Crm Cd Desc\")\\\n",
    "                        .agg(count(\"Crm Cd Desc\").alias(\"Total Crimes\"))\\\n",
    "                        .orderBy(col(\"Total Crimes\").desc())\\\n",
    "                        .select(\"Crm Cd Desc\",\"Total Crimes\",round(col(\"Total Crimes\")/TotalCrimeHisp,2).alias(\"Ratio\")).show(truncate = False)"
   ]
  },
  {
   "cell_type": "markdown",
   "id": "ba6d72b9",
   "metadata": {},
   "source": [
    "# Motive"
   ]
  },
  {
   "cell_type": "code",
   "execution_count": 29,
   "id": "b808d60f",
   "metadata": {},
   "outputs": [],
   "source": [
    "Mocodes_df = spark.read \\\n",
    "                 .option(\"inferSchema\", \"true\") \\\n",
    "                 .option(\"header\", \"true\") \\\n",
    "                 .csv(\"MO_Codes.csv\")"
   ]
  },
  {
   "cell_type": "code",
   "execution_count": 30,
   "id": "45d01a16",
   "metadata": {},
   "outputs": [
    {
     "name": "stdout",
     "output_type": "stream",
     "text": [
      "root\n",
      " |-- MO_CODE: integer (nullable = true)\n",
      " |-- MO_DESCRIPTION: string (nullable = true)\n",
      "\n"
     ]
    },
    {
     "data": {
      "text/markdown": [
       "This DataFrame has **824 rows**."
      ],
      "text/plain": [
       "<IPython.core.display.Markdown object>"
      ]
     },
     "metadata": {},
     "output_type": "display_data"
    }
   ],
   "source": [
    "Mocodes_df.printSchema()\n",
    "display(Markdown(\"This DataFrame has **%d rows**.\" % Mocodes_df.count()))"
   ]
  },
  {
   "cell_type": "code",
   "execution_count": 104,
   "id": "651b8508",
   "metadata": {},
   "outputs": [
    {
     "name": "stdout",
     "output_type": "stream",
     "text": [
      "+---------+--------------------------------------------+\n",
      "|DR_NO    |Mocodes                                     |\n",
      "+---------+--------------------------------------------+\n",
      "|100105506|344                                         |\n",
      "|100108119|null                                        |\n",
      "|100119439|344                                         |\n",
      "|100120856|344                                         |\n",
      "|100121327|344                                         |\n",
      "|100200602|0935 1402                                   |\n",
      "|100200707|0432 0913 1212                              |\n",
      "|100204466|1251 1402                                   |\n",
      "|100209567|0311 0329 0907 1413                         |\n",
      "|100212216|0369 0408 0416 1243 1813                    |\n",
      "|100406601|344                                         |\n",
      "|100217614|344                                         |\n",
      "|100300781|0342 0416 0417 0422 0421 0432 0906 0913 1414|\n",
      "|100300790|0421 1402 2000                              |\n",
      "|100307715|344                                         |\n",
      "|100308565|0400 2000                                   |\n",
      "|100309835|0344 1300                                   |\n",
      "|100312397|0344 0358 1607                              |\n",
      "|100315732|0377 1251                                   |\n",
      "|100317268|344                                         |\n",
      "+---------+--------------------------------------------+\n",
      "only showing top 20 rows\n",
      "\n"
     ]
    }
   ],
   "source": [
    "SeverityCategorizationDF.select(\"DR_NO\",\"Mocodes\").distinct().show(truncate = False)"
   ]
  },
  {
   "cell_type": "code",
   "execution_count": 37,
   "id": "65d1a264",
   "metadata": {},
   "outputs": [
    {
     "name": "stdout",
     "output_type": "stream",
     "text": [
      "+---------+--------------------+---+-------+\n",
      "|    DR_NO|             Mocodes|pos|MO_CODE|\n",
      "+---------+--------------------+---+-------+\n",
      "|  1307355|  [0913, 1814, 2000]|  0|   0913|\n",
      "|  1307355|  [0913, 1814, 2000]|  1|   1814|\n",
      "|  1307355|  [0913, 1814, 2000]|  2|   2000|\n",
      "|100100572|               [416]|  0|    416|\n",
      "|100100574|               [416]|  0|    416|\n",
      "|100100622|               [416]|  0|    416|\n",
      "|100100623|               [329]|  0|    329|\n",
      "|100100632|        [0400, 2000]|  0|   0400|\n",
      "|100100632|        [0400, 2000]|  1|   2000|\n",
      "|100100651|        [0416, 0429]|  0|   0416|\n",
      "|100100651|        [0416, 0429]|  1|   0429|\n",
      "|100100672|[0413, 0500, 0536...|  0|   0413|\n",
      "|100100672|[0413, 0500, 0536...|  1|   0500|\n",
      "|100100672|[0413, 0500, 0536...|  2|   0536|\n",
      "|100100672|[0413, 0500, 0536...|  3|   0526|\n",
      "|100100676|               [329]|  0|    329|\n",
      "|100100694|[0416, 0411, 0417...|  0|   0416|\n",
      "|100100694|[0416, 0411, 0417...|  1|   0411|\n",
      "|100100694|[0416, 0411, 0417...|  2|   0417|\n",
      "|100100694|[0416, 0411, 0417...|  3|   1402|\n",
      "+---------+--------------------+---+-------+\n",
      "only showing top 20 rows\n",
      "\n"
     ]
    }
   ],
   "source": [
    "Mocodes_split_df= SeverityCategorizationDF.select(\n",
    "    \"DR_NO\",\n",
    "    F.split(\"Mocodes\",\" \").alias(\"Mocodes\"),\n",
    "    F.posexplode(F.split(\"Mocodes\", \" \")).alias(\"pos\",\"MO_CODE\")\n",
    " )\\\n",
    "\n",
    "Mocodes_split_df.show()"
   ]
  },
  {
   "cell_type": "code",
   "execution_count": 54,
   "id": "2bb64b28",
   "metadata": {},
   "outputs": [
    {
     "data": {
      "text/markdown": [
       "**Most frequent Motives for a Crime**."
      ],
      "text/plain": [
       "<IPython.core.display.Markdown object>"
      ]
     },
     "metadata": {},
     "output_type": "display_data"
    },
    {
     "name": "stderr",
     "output_type": "stream",
     "text": [
      "[Stage 203:===================================>                 (135 + 2) / 200]\r"
     ]
    },
    {
     "name": "stdout",
     "output_type": "stream",
     "text": [
      "+--------------------------------------------------------------------------------+----------------------+\n",
      "|MO_DESCRIPTION                                                                  |Total Motive in Crimes|\n",
      "+--------------------------------------------------------------------------------+----------------------+\n",
      "|Removes vict property                                                           |64477                 |\n",
      "|Hit-Hit w/ weapon                                                               |27225                 |\n",
      "|Vandalized                                                                      |20338                 |\n",
      "|Domestic violence                                                               |17951                 |\n",
      "|Stranger                                                                        |17580                 |\n",
      "|Force used                                                                      |14154                 |\n",
      "|Victim knew Suspect                                                             |12404                 |\n",
      "|Vehicle involved                                                                |11534                 |\n",
      "|Evidence Booked (any crime)                                                     |9312                  |\n",
      "|Smashed                                                                         |7657                  |\n",
      "|Breaks window                                                                   |7566                  |\n",
      "|Other MO (see rpt)                                                              |7189                  |\n",
      "|Pushed                                                                          |7015                  |\n",
      "|Takes vict's identification/driver license                                      |6676                  |\n",
      "|Victim was aged (60 & over) or blind/physically disabled/unable to care for self|6644                  |\n",
      "|Susp uses vehicle                                                               |6555                  |\n",
      "|Gangs                                                                           |6104                  |\n",
      "|Intimidation                                                                    |5762                  |\n",
      "|Threaten to kill                                                                |5756                  |\n",
      "|Victim was a student                                                            |5647                  |\n",
      "+--------------------------------------------------------------------------------+----------------------+\n",
      "only showing top 20 rows\n",
      "\n"
     ]
    },
    {
     "name": "stderr",
     "output_type": "stream",
     "text": [
      "                                                                                \r"
     ]
    }
   ],
   "source": [
    "display(Markdown(\"**Most frequent Motives for a Crime**.\"))\n",
    "\n",
    "Mocodes_tot_df = Mocodes_split_df\\\n",
    "    .join(Mocodes_df,\"MO_CODE\")\\\n",
    "    .groupBy(\"MO_DESCRIPTION\")\\\n",
    "    .agg(count(\"MO_DESCRIPTION\").alias(\"Total Motive in Crimes\"))\\\n",
    "    .orderBy(col(\"Total Motive in Crimes\").desc())\\\n",
    "    .show(truncate = False)"
   ]
  },
  {
   "cell_type": "markdown",
   "id": "f082828e",
   "metadata": {},
   "source": [
    "## Locations"
   ]
  },
  {
   "cell_type": "code",
   "execution_count": 50,
   "id": "a11f4d7b",
   "metadata": {},
   "outputs": [
    {
     "name": "stderr",
     "output_type": "stream",
     "text": [
      "[Stage 178:==============================>                      (116 + 2) / 200]\r"
     ]
    },
    {
     "name": "stdout",
     "output_type": "stream",
     "text": [
      "+-----------+------------------------+-----+\n",
      "|AREA NAME  |Total Crimes by Location|Ratio|\n",
      "+-----------+------------------------+-----+\n",
      "|77th Street|12938                   |0.07 |\n",
      "|Southwest  |12039                   |0.07 |\n",
      "|N Hollywood|9559                    |0.05 |\n",
      "|Southeast  |9551                    |0.05 |\n",
      "|Pacific    |9016                    |0.05 |\n",
      "|Mission    |8629                    |0.05 |\n",
      "|Topanga    |8623                    |0.05 |\n",
      "|Van Nuys   |8541                    |0.05 |\n",
      "|Devonshire |8406                    |0.05 |\n",
      "|Northeast  |8235                    |0.05 |\n",
      "|West LA    |7926                    |0.05 |\n",
      "|Hollywood  |7693                    |0.04 |\n",
      "|Rampart    |7661                    |0.04 |\n",
      "|Newton     |7488                    |0.04 |\n",
      "|Harbor     |7443                    |0.04 |\n",
      "|Central    |7409                    |0.04 |\n",
      "|Olympic    |7408                    |0.04 |\n",
      "|West Valley|7382                    |0.04 |\n",
      "|Wilshire   |7212                    |0.04 |\n",
      "|Foothill   |6837                    |0.04 |\n",
      "+-----------+------------------------+-----+\n",
      "only showing top 20 rows\n",
      "\n"
     ]
    },
    {
     "name": "stderr",
     "output_type": "stream",
     "text": [
      "                                                                                \r"
     ]
    }
   ],
   "source": [
    "#display(Markdown(\"**Most Common Crimes against Hispanic/Latin/Mexican**\"))\n",
    "\n",
    "TotalCrimeLoc = SeverityCategorizationDF.select(\"AREA NAME\").count()\n",
    "\n",
    "\n",
    "SeverityCategorizationDF.select(\"AREA NAME\")\\\n",
    "                        .groupBy(\"AREA NAME\")\\\n",
    "                        .agg(count(\"AREA NAME\").alias(\"Total Crimes by Location\"))\\\n",
    "                        .orderBy(col(\"Total Crimes by Location\").desc())\\\n",
    "                        .select(\"AREA NAME\",\"Total Crimes by Location\",round(col(\"Total Crimes by Location\")/TotalCrimeLoc,2).alias(\"Ratio\")).show(truncate = False)"
   ]
  },
  {
   "cell_type": "markdown",
   "id": "cc40a203",
   "metadata": {},
   "source": [
    "# Machine Learning Model to Predict if crime is done to a hispanic"
   ]
  },
  {
   "cell_type": "code",
   "execution_count": null,
   "id": "0da87925",
   "metadata": {},
   "outputs": [],
   "source": [
    "# Lets see if time segment, age, sex, Crm Cd and first motive can predict correctly a crime against hispanic"
   ]
  },
  {
   "cell_type": "markdown",
   "id": "73408b12",
   "metadata": {},
   "source": [
    "### Data Cleansing for model"
   ]
  },
  {
   "cell_type": "code",
   "execution_count": 66,
   "id": "37dc4b6d",
   "metadata": {},
   "outputs": [],
   "source": [
    "Firstmotive_df = Mocodes_split_df.where(col(\"pos\")==0)\\\n",
    "                                    .select(\"DR_NO\",\"MO_CODE\")#.show()\n",
    "\n",
    "Crimes_df=SeverityCategorizationDF\\\n",
    "            .join(Firstmotive_df, \"DR_NO\")\\\n",
    "            #.select(\"MO_CODE\").show()"
   ]
  },
  {
   "cell_type": "code",
   "execution_count": 68,
   "id": "ed975b17",
   "metadata": {},
   "outputs": [
    {
     "name": "stdout",
     "output_type": "stream",
     "text": [
      "root\n",
      " |-- DR_NO: integer (nullable = true)\n",
      " |-- _c0: integer (nullable = true)\n",
      " |-- Date Rptd: date (nullable = true)\n",
      " |-- DATE OCC: date (nullable = true)\n",
      " |-- TIME OCC: timestamp (nullable = true)\n",
      " |-- AREA : integer (nullable = true)\n",
      " |-- AREA NAME: string (nullable = true)\n",
      " |-- Rpt Dist No: integer (nullable = true)\n",
      " |-- Part 1-2: integer (nullable = true)\n",
      " |-- Crm Cd: integer (nullable = true)\n",
      " |-- Crm Cd Desc: string (nullable = true)\n",
      " |-- Mocodes: string (nullable = true)\n",
      " |-- Vict Age: integer (nullable = true)\n",
      " |-- Vict Sex: string (nullable = true)\n",
      " |-- Vict Descent: string (nullable = true)\n",
      " |-- Premis Cd: double (nullable = true)\n",
      " |-- Premis Desc: string (nullable = true)\n",
      " |-- Weapon Used Cd: double (nullable = true)\n",
      " |-- Weapon Desc: string (nullable = true)\n",
      " |-- Status: string (nullable = true)\n",
      " |-- Status Desc: string (nullable = true)\n",
      " |-- Crm Cd 1: double (nullable = true)\n",
      " |-- Crm Cd 2: double (nullable = true)\n",
      " |-- Crm Cd 3: double (nullable = true)\n",
      " |-- Crm Cd 4: double (nullable = true)\n",
      " |-- LOCATION: string (nullable = true)\n",
      " |-- Cross Street: string (nullable = true)\n",
      " |-- LAT: double (nullable = true)\n",
      " |-- LON: double (nullable = true)\n",
      " |-- Year: integer (nullable = true)\n",
      " |-- Month: integer (nullable = true)\n",
      " |-- Quarter: integer (nullable = true)\n",
      " |-- TimeSegment: string (nullable = false)\n",
      " |-- CrimeSeverity: string (nullable = false)\n",
      " |-- Race Desc: string (nullable = false)\n",
      " |-- MO_CODE: string (nullable = true)\n",
      "\n"
     ]
    }
   ],
   "source": [
    "Crimes_df.printSchema()"
   ]
  },
  {
   "cell_type": "code",
   "execution_count": 78,
   "id": "878e7646",
   "metadata": {},
   "outputs": [
    {
     "name": "stdout",
     "output_type": "stream",
     "text": [
      "+--------------+--------+--------+------+------------+-------+\n",
      "|   TimeSegment|Vict Age|Vict Sex|Crm Cd|Vict Descent|MO_CODE|\n",
      "+--------------+--------+--------+------+------------+-------+\n",
      "|   3.Afternoon|    48.0|       M| 900.0|           H|  913.0|\n",
      "|     4.Evening|    61.0|       F| 230.0|           B|  416.0|\n",
      "|     4.Evening|    40.0|       M| 624.0|           W|  416.0|\n",
      "|        6.Dawn|    24.0|       M| 624.0|           O|  416.0|\n",
      "|        6.Dawn|    22.0|       F| 745.0|           W|  329.0|\n",
      "|     4.Evening|    22.0|       F| 626.0|           H|  400.0|\n",
      "|       5.Night|    23.0|       F| 236.0|           H|  416.0|\n",
      "|        6.Dawn|    28.0|       F| 121.0|           H|  413.0|\n",
      "|     4.Evening|    44.0|       M| 745.0|           H|  329.0|\n",
      "|2.Late Morning|    62.0|       M| 230.0|           H|  416.0|\n",
      "|        6.Dawn|    21.0|       F| 626.0|           H| 2000.0|\n",
      "|        6.Dawn|    18.0|       F| 745.0|           H|  329.0|\n",
      "|        6.Dawn|    34.0|       M| 230.0|           W|  400.0|\n",
      "|        6.Dawn|    27.0|       F| 230.0|           W|  400.0|\n",
      "|2.Late Morning|    33.0|       M| 210.0|           W|  305.0|\n",
      "|   3.Afternoon|    23.0|       M| 343.0|           B|  344.0|\n",
      "|     4.Evening|     5.0|       M| 627.0|           W|  416.0|\n",
      "|       5.Night|    23.0|       M| 440.0|           B|  433.0|\n",
      "|       5.Night|    58.0|       M| 624.0|           H|  400.0|\n",
      "|        6.Dawn|    30.0|       M| 230.0|           H|  416.0|\n",
      "+--------------+--------+--------+------+------------+-------+\n",
      "only showing top 20 rows\n",
      "\n"
     ]
    }
   ],
   "source": [
    "MLdf = Crimes_df.select(col(\"TimeSegment\"),\\\n",
    "                    col(\"Vict Age\").cast(\"float\"),\\\n",
    "                    col(\"Vict Sex\"),\\\n",
    "                    col(\"Crm Cd\").cast(\"float\"),\\\n",
    "                    col(\"Vict Descent\"),\\\n",
    "                    col(\"MO_CODE\").cast(\"float\"))\n",
    "\n",
    "MLdf.show()"
   ]
  },
  {
   "cell_type": "code",
   "execution_count": 81,
   "id": "49f627c6",
   "metadata": {},
   "outputs": [
    {
     "name": "stdout",
     "output_type": "stream",
     "text": [
      "+-----------+--------+--------+------+------------+-------+\n",
      "|TimeSegment|Vict Age|Vict Sex|Crm Cd|Vict Descent|MO_CODE|\n",
      "+-----------+--------+--------+------+------------+-------+\n",
      "|          0|       0|       3|     0|           4|      0|\n",
      "+-----------+--------+--------+------+------------+-------+\n",
      "\n"
     ]
    }
   ],
   "source": [
    "#Check for nulls\n",
    "MLdf.select([count(when(isnull(c), c)).alias(c) for c in MLdf.columns])\\\n",
    "            .show()"
   ]
  },
  {
   "cell_type": "code",
   "execution_count": 82,
   "id": "40761373",
   "metadata": {},
   "outputs": [],
   "source": [
    "MLdf_clean = MLdf.dropna(how=\"any\")"
   ]
  },
  {
   "cell_type": "markdown",
   "id": "5deb0865",
   "metadata": {},
   "source": [
    "### Feature Engineering"
   ]
  },
  {
   "cell_type": "code",
   "execution_count": 98,
   "id": "3a65993e",
   "metadata": {},
   "outputs": [
    {
     "name": "stdout",
     "output_type": "stream",
     "text": [
      "+--------------+--------+--------+------+------------+-------+---------------+\n",
      "|   TimeSegment|Vict Age|Vict Sex|Crm Cd|Vict Descent|MO_CODE|TimeSegmentCode|\n",
      "+--------------+--------+--------+------+------------+-------+---------------+\n",
      "|   3.Afternoon|    48.0|       M| 900.0|           1|  913.0|              3|\n",
      "|     4.Evening|    61.0|       F| 230.0|           0|  416.0|              4|\n",
      "|     4.Evening|    40.0|       M| 624.0|           0|  416.0|              4|\n",
      "|        6.Dawn|    24.0|       M| 624.0|           0|  416.0|              6|\n",
      "|        6.Dawn|    22.0|       F| 745.0|           0|  329.0|              6|\n",
      "|     4.Evening|    22.0|       F| 626.0|           1|  400.0|              4|\n",
      "|       5.Night|    23.0|       F| 236.0|           1|  416.0|              5|\n",
      "|        6.Dawn|    28.0|       F| 121.0|           1|  413.0|              6|\n",
      "|     4.Evening|    44.0|       M| 745.0|           1|  329.0|              4|\n",
      "|2.Late Morning|    62.0|       M| 230.0|           1|  416.0|              2|\n",
      "|        6.Dawn|    21.0|       F| 626.0|           1| 2000.0|              6|\n",
      "|        6.Dawn|    18.0|       F| 745.0|           1|  329.0|              6|\n",
      "|        6.Dawn|    34.0|       M| 230.0|           0|  400.0|              6|\n",
      "|        6.Dawn|    27.0|       F| 230.0|           0|  400.0|              6|\n",
      "|2.Late Morning|    33.0|       M| 210.0|           0|  305.0|              2|\n",
      "|   3.Afternoon|    23.0|       M| 343.0|           0|  344.0|              3|\n",
      "|     4.Evening|     5.0|       M| 627.0|           0|  416.0|              4|\n",
      "|       5.Night|    23.0|       M| 440.0|           0|  433.0|              5|\n",
      "|       5.Night|    58.0|       M| 624.0|           1|  400.0|              5|\n",
      "|        6.Dawn|    30.0|       M| 230.0|           1|  416.0|              6|\n",
      "+--------------+--------+--------+------+------------+-------+---------------+\n",
      "only showing top 20 rows\n",
      "\n"
     ]
    }
   ],
   "source": [
    "MLdf_hispanic = MLdf_clean.withColumn(\"Vict Descent\", when(col(\"Vict Descent\")==\"H\",1)\\\n",
    "                               .otherwise(0))\n",
    "MLdf_hips_time = MLdf_hispanic.withColumn(\"TimeSegmentCode\",when(col(\"TimeSegment\")==\"1.Early Morning\",1)\\\n",
    "                                        .when(col(\"TimeSegment\")==\"2.Late Morning\",2)\\\n",
    "                                        .when(col(\"TimeSegment\")==\"3.Afternoon\",3)\\\n",
    "                                        .when(col(\"TimeSegment\")==\"4.Evening\",4)\\\n",
    "                                        .when(col(\"TimeSegment\")==\"5.Night\",5)\\\n",
    "                                        .otherwise(6))\n",
    "MLdf_hips_time.show()"
   ]
  },
  {
   "cell_type": "code",
   "execution_count": 99,
   "id": "fbf28d1d",
   "metadata": {},
   "outputs": [
    {
     "name": "stdout",
     "output_type": "stream",
     "text": [
      "+--------------+--------+--------+------+------------+-------+---------------+------+\n",
      "|   TimeSegment|Vict Age|Vict Sex|Crm Cd|Vict Descent|MO_CODE|TimeSegmentCode|Gender|\n",
      "+--------------+--------+--------+------+------------+-------+---------------+------+\n",
      "|   3.Afternoon|    48.0|       M| 900.0|           1|  913.0|              3|   1.0|\n",
      "|     4.Evening|    61.0|       F| 230.0|           0|  416.0|              4|   0.0|\n",
      "|     4.Evening|    40.0|       M| 624.0|           0|  416.0|              4|   1.0|\n",
      "|        6.Dawn|    24.0|       M| 624.0|           0|  416.0|              6|   1.0|\n",
      "|        6.Dawn|    22.0|       F| 745.0|           0|  329.0|              6|   0.0|\n",
      "|     4.Evening|    22.0|       F| 626.0|           1|  400.0|              4|   0.0|\n",
      "|       5.Night|    23.0|       F| 236.0|           1|  416.0|              5|   0.0|\n",
      "|        6.Dawn|    28.0|       F| 121.0|           1|  413.0|              6|   0.0|\n",
      "|     4.Evening|    44.0|       M| 745.0|           1|  329.0|              4|   1.0|\n",
      "|2.Late Morning|    62.0|       M| 230.0|           1|  416.0|              2|   1.0|\n",
      "|        6.Dawn|    21.0|       F| 626.0|           1| 2000.0|              6|   0.0|\n",
      "|        6.Dawn|    18.0|       F| 745.0|           1|  329.0|              6|   0.0|\n",
      "|        6.Dawn|    34.0|       M| 230.0|           0|  400.0|              6|   1.0|\n",
      "|        6.Dawn|    27.0|       F| 230.0|           0|  400.0|              6|   0.0|\n",
      "|2.Late Morning|    33.0|       M| 210.0|           0|  305.0|              2|   1.0|\n",
      "|   3.Afternoon|    23.0|       M| 343.0|           0|  344.0|              3|   1.0|\n",
      "|     4.Evening|     5.0|       M| 627.0|           0|  416.0|              4|   1.0|\n",
      "|       5.Night|    23.0|       M| 440.0|           0|  433.0|              5|   1.0|\n",
      "|       5.Night|    58.0|       M| 624.0|           1|  400.0|              5|   1.0|\n",
      "|        6.Dawn|    30.0|       M| 230.0|           1|  416.0|              6|   1.0|\n",
      "+--------------+--------+--------+------+------------+-------+---------------+------+\n",
      "only showing top 20 rows\n",
      "\n"
     ]
    }
   ],
   "source": [
    "from pyspark.ml.feature import StringIndexer\n",
    "\n",
    "MLdf_model = StringIndexer(inputCol=\"Vict Sex\",\\\n",
    "                            outputCol='Gender',\\\n",
    "                            handleInvalid='keep').fit(MLdf_hips_time).transform(MLdf_hips_time)\n",
    "\n",
    "\n",
    "MLdf_model.show()"
   ]
  },
  {
   "cell_type": "code",
   "execution_count": 100,
   "id": "f74de76e",
   "metadata": {},
   "outputs": [
    {
     "data": {
      "text/plain": [
       "[('Vict Age', 'float'),\n",
       " ('Crm Cd', 'float'),\n",
       " ('Vict Descent', 'int'),\n",
       " ('MO_CODE', 'float'),\n",
       " ('TimeSegmentCode', 'int'),\n",
       " ('Gender', 'double')]"
      ]
     },
     "execution_count": 100,
     "metadata": {},
     "output_type": "execute_result"
    }
   ],
   "source": [
    "#check for datatypes\n",
    "MLdf_model=MLdf_model.drop(\"Vict Sex\",\"TimeSegment\")\n",
    "MLdf_model.dtypes"
   ]
  },
  {
   "cell_type": "code",
   "execution_count": 101,
   "id": "8fb8be36",
   "metadata": {},
   "outputs": [
    {
     "name": "stdout",
     "output_type": "stream",
     "text": [
      "+--------+------+------------+-------+---------------+------+--------------------+\n",
      "|Vict Age|Crm Cd|Vict Descent|MO_CODE|TimeSegmentCode|Gender|            features|\n",
      "+--------+------+------------+-------+---------------+------+--------------------+\n",
      "|    48.0| 900.0|           1|  913.0|              3|   1.0|[3.0,48.0,1.0,900...|\n",
      "|    61.0| 230.0|           0|  416.0|              4|   0.0|[4.0,61.0,0.0,230...|\n",
      "|    40.0| 624.0|           0|  416.0|              4|   1.0|[4.0,40.0,1.0,624...|\n",
      "|    24.0| 624.0|           0|  416.0|              6|   1.0|[6.0,24.0,1.0,624...|\n",
      "|    22.0| 745.0|           0|  329.0|              6|   0.0|[6.0,22.0,0.0,745...|\n",
      "|    22.0| 626.0|           1|  400.0|              4|   0.0|[4.0,22.0,0.0,626...|\n",
      "|    23.0| 236.0|           1|  416.0|              5|   0.0|[5.0,23.0,0.0,236...|\n",
      "|    28.0| 121.0|           1|  413.0|              6|   0.0|[6.0,28.0,0.0,121...|\n",
      "|    44.0| 745.0|           1|  329.0|              4|   1.0|[4.0,44.0,1.0,745...|\n",
      "|    62.0| 230.0|           1|  416.0|              2|   1.0|[2.0,62.0,1.0,230...|\n",
      "|    21.0| 626.0|           1| 2000.0|              6|   0.0|[6.0,21.0,0.0,626...|\n",
      "|    18.0| 745.0|           1|  329.0|              6|   0.0|[6.0,18.0,0.0,745...|\n",
      "|    34.0| 230.0|           0|  400.0|              6|   1.0|[6.0,34.0,1.0,230...|\n",
      "|    27.0| 230.0|           0|  400.0|              6|   0.0|[6.0,27.0,0.0,230...|\n",
      "|    33.0| 210.0|           0|  305.0|              2|   1.0|[2.0,33.0,1.0,210...|\n",
      "|    23.0| 343.0|           0|  344.0|              3|   1.0|[3.0,23.0,1.0,343...|\n",
      "|     5.0| 627.0|           0|  416.0|              4|   1.0|[4.0,5.0,1.0,627....|\n",
      "|    23.0| 440.0|           0|  433.0|              5|   1.0|[5.0,23.0,1.0,440...|\n",
      "|    58.0| 624.0|           1|  400.0|              5|   1.0|[5.0,58.0,1.0,624...|\n",
      "|    30.0| 230.0|           1|  416.0|              6|   1.0|[6.0,30.0,1.0,230...|\n",
      "+--------+------+------------+-------+---------------+------+--------------------+\n",
      "only showing top 20 rows\n",
      "\n"
     ]
    }
   ],
   "source": [
    "#assemnling features into one single list\n",
    "from pyspark.ml.feature import VectorAssembler\n",
    "\n",
    "required_features = ['TimeSegmentCode','Vict Age','Gender','Crm Cd','MO_CODE']\n",
    "assembler = VectorAssembler(inputCols=required_features,\\\n",
    "                            outputCol='features')\n",
    "ML_featuresDF = assembler.transform(MLdf_model)\n",
    "\n",
    "ML_featuresDF.show()"
   ]
  },
  {
   "cell_type": "markdown",
   "id": "20d78806",
   "metadata": {},
   "source": [
    "### Model Training - Random Forest Classifier\n"
   ]
  },
  {
   "cell_type": "code",
   "execution_count": 102,
   "id": "8cb568bd",
   "metadata": {},
   "outputs": [
    {
     "name": "stderr",
     "output_type": "stream",
     "text": [
      "                                                                                \r"
     ]
    },
    {
     "data": {
      "text/plain": [
       "[('Vict Age', 'float'),\n",
       " ('Crm Cd', 'float'),\n",
       " ('Vict Descent', 'int'),\n",
       " ('MO_CODE', 'float'),\n",
       " ('TimeSegmentCode', 'int'),\n",
       " ('Gender', 'double'),\n",
       " ('features', 'vector'),\n",
       " ('rawPrediction', 'vector'),\n",
       " ('probability', 'vector'),\n",
       " ('prediction', 'double')]"
      ]
     },
     "execution_count": 102,
     "metadata": {},
     "output_type": "execute_result"
    }
   ],
   "source": [
    "#Train and test set\n",
    "from pyspark.ml.classification import RandomForestClassifier\n",
    "\n",
    "# 1. Split the current data set to get the training (80%) and test (20%) data sets.\n",
    "(trainingDF, testDF) = ML_featuresDF.randomSplit([0.8,0.2])\n",
    "\n",
    "# 2. Initialize the algorithm to understand our featured data set.\n",
    "rfcAlgorithm = RandomForestClassifier(labelCol='Vict Descent',\\\n",
    "                                      featuresCol='features',\\\n",
    "                                      maxDepth=5)\n",
    "\n",
    "#3. Train the algorithm to build the model and apply it on the test data set.\n",
    "model = rfcAlgorithm.fit(trainingDF)\n",
    "predictions = model.transform(testDF)\n",
    "predictions.dtypes"
   ]
  },
  {
   "cell_type": "markdown",
   "id": "94190434",
   "metadata": {},
   "source": [
    "### Model Evaluation"
   ]
  },
  {
   "cell_type": "code",
   "execution_count": 113,
   "id": "277815f3",
   "metadata": {},
   "outputs": [
    {
     "name": "stdout",
     "output_type": "stream",
     "text": [
      "The accuracy of our model is  0.6155682347461574\n"
     ]
    }
   ],
   "source": [
    "from pyspark.ml.evaluation import MulticlassClassificationEvaluator\n",
    "\n",
    "evaluator = MulticlassClassificationEvaluator(labelCol='Vict Descent',\\\n",
    "                                              predictionCol='prediction',\\\n",
    "                                              metricName='accuracy')\n",
    "precision = evaluator.evaluate(predictions)\n",
    "print('The accuracy of our model is ', precision)"
   ]
  },
  {
   "cell_type": "code",
   "execution_count": null,
   "id": "dba83c36",
   "metadata": {},
   "outputs": [],
   "source": [
    "# Low accuracy"
   ]
  },
  {
   "cell_type": "code",
   "execution_count": null,
   "id": "7e26b321",
   "metadata": {},
   "outputs": [],
   "source": []
  },
  {
   "cell_type": "code",
   "execution_count": null,
   "id": "14c942b9",
   "metadata": {},
   "outputs": [],
   "source": []
  },
  {
   "cell_type": "code",
   "execution_count": null,
   "id": "64986032",
   "metadata": {},
   "outputs": [],
   "source": []
  },
  {
   "cell_type": "code",
   "execution_count": null,
   "id": "9e35e713",
   "metadata": {},
   "outputs": [],
   "source": [
    "#ANEXOS\n",
    "\n",
    "from pyspark.sql.functions import * \n",
    "\n",
    "df_schema = LA_crimesdf.withColumn(\"DATE OCC\", to_date(col(\"DATE OCC\"))) \\\n",
    "            .withColumn(\"Date Rptd\", to_date(col(\"Date Rptd\"))) \\\n",
    "            .withColumn(\"TIME OCC\", to_timestamp(col(\"TIME OCC\"),\"HHmm\"))\n",
    "            #.printSchema()"
   ]
  }
 ],
 "metadata": {
  "kernelspec": {
   "display_name": "Python 3 (ipykernel)",
   "language": "python",
   "name": "python3"
  },
  "language_info": {
   "codemirror_mode": {
    "name": "ipython",
    "version": 3
   },
   "file_extension": ".py",
   "mimetype": "text/x-python",
   "name": "python",
   "nbconvert_exporter": "python",
   "pygments_lexer": "ipython3",
   "version": "3.7.3"
  }
 },
 "nbformat": 4,
 "nbformat_minor": 5
}
